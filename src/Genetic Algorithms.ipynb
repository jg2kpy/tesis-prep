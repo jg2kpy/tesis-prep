{
 "cells": [
  {
   "cell_type": "markdown",
   "metadata": {},
   "source": [
    "# Genetic algorithms"
   ]
  },
  {
   "cell_type": "markdown",
   "metadata": {},
   "source": [
    "## Product class"
   ]
  },
  {
   "cell_type": "code",
   "execution_count": 989,
   "metadata": {},
   "outputs": [],
   "source": [
    "class Product():\n",
    "  def __init__(self, name, space, price):\n",
    "    self.name = name\n",
    "    self.space = space\n",
    "    self.price = price"
   ]
  },
  {
   "cell_type": "code",
   "execution_count": 990,
   "metadata": {},
   "outputs": [],
   "source": [
    "p1 = Product('Refrigerator A', 0.751, 999.9)"
   ]
  },
  {
   "cell_type": "code",
   "execution_count": 991,
   "metadata": {},
   "outputs": [
    {
     "data": {
      "text/plain": [
       "('Refrigerator A', 0.751, 999.9)"
      ]
     },
     "execution_count": 991,
     "metadata": {},
     "output_type": "execute_result"
    }
   ],
   "source": [
    "p1.name, p1.space, p1.price"
   ]
  },
  {
   "cell_type": "code",
   "execution_count": 992,
   "metadata": {},
   "outputs": [],
   "source": [
    "p2 = Product('Cell phone', 0.00000899, 2199.12)"
   ]
  },
  {
   "cell_type": "code",
   "execution_count": 993,
   "metadata": {},
   "outputs": [
    {
     "data": {
      "text/plain": [
       "('Cell phone', 8.99e-06, 2199.12)"
      ]
     },
     "execution_count": 993,
     "metadata": {},
     "output_type": "execute_result"
    }
   ],
   "source": [
    "p2.name, p2.space, p2.price"
   ]
  },
  {
   "cell_type": "code",
   "execution_count": 994,
   "metadata": {},
   "outputs": [],
   "source": [
    "products_list = []\n",
    "products_list.append(Product('Refrigerator A', 0.751, 999.90))\n",
    "products_list.append(Product('Cell phone', 0.00000899, 2199.12))\n",
    "products_list.append(Product('TV 55', 0.400, 4346.99))\n",
    "products_list.append(Product(\"TV 50' \", 0.290, 3999.90))\n",
    "products_list.append(Product(\"TV 42' \", 0.200, 2999.00))\n",
    "products_list.append(Product(\"Notebook A\", 0.00350, 2499.90))\n",
    "products_list.append(Product(\"Ventilator\", 0.496, 199.90))\n",
    "products_list.append(Product(\"Microwave A\", 0.0424, 308.66))\n",
    "products_list.append(Product(\"Microwave B\", 0.0544, 429.90))\n",
    "products_list.append(Product(\"Microwave C\", 0.0319, 299.29))\n",
    "products_list.append(Product(\"Refrigerator B\", 0.635, 849.00))\n",
    "products_list.append(Product(\"Refrigerator C\", 0.870, 1199.89))\n",
    "products_list.append(Product(\"Notebook B\", 0.498, 1999.90))\n",
    "products_list.append(Product(\"Notebook C\", 0.527, 3999.00))"
   ]
  },
  {
   "cell_type": "code",
   "execution_count": 995,
   "metadata": {},
   "outputs": [
    {
     "name": "stdout",
     "output_type": "stream",
     "text": [
      "Refrigerator A  -  999.9  -  0.751\n",
      "Cell phone  -  2199.12  -  8.99e-06\n",
      "TV 55  -  4346.99  -  0.4\n",
      "TV 50'   -  3999.9  -  0.29\n",
      "TV 42'   -  2999.0  -  0.2\n",
      "Notebook A  -  2499.9  -  0.0035\n",
      "Ventilator  -  199.9  -  0.496\n",
      "Microwave A  -  308.66  -  0.0424\n",
      "Microwave B  -  429.9  -  0.0544\n",
      "Microwave C  -  299.29  -  0.0319\n",
      "Refrigerator B  -  849.0  -  0.635\n",
      "Refrigerator C  -  1199.89  -  0.87\n",
      "Notebook B  -  1999.9  -  0.498\n",
      "Notebook C  -  3999.0  -  0.527\n"
     ]
    }
   ],
   "source": [
    "for product in products_list:\n",
    "  print(product.name, ' - ', product.price, ' - ', product.space)"
   ]
  },
  {
   "cell_type": "markdown",
   "metadata": {},
   "source": [
    "## Individual Class"
   ]
  },
  {
   "cell_type": "code",
   "execution_count": 996,
   "metadata": {},
   "outputs": [],
   "source": [
    "from random import random"
   ]
  },
  {
   "cell_type": "code",
   "execution_count": 997,
   "metadata": {},
   "outputs": [
    {
     "data": {
      "text/plain": [
       "0.91836225884411"
      ]
     },
     "execution_count": 997,
     "metadata": {},
     "output_type": "execute_result"
    }
   ],
   "source": [
    "random()"
   ]
  },
  {
   "cell_type": "code",
   "execution_count": 998,
   "metadata": {},
   "outputs": [],
   "source": [
    "class Individual():\n",
    "    def __init__(self, spaces, prices, space_limit, generation=0):\n",
    "        self.spaces = spaces\n",
    "        self.prices = prices\n",
    "        self.space_limit = space_limit\n",
    "        self.generation = generation\n",
    "        self.Chromosome = []\n",
    "\n",
    "        self.score_evaluation = 0\n",
    "        self.used_space = 0\n",
    "\n",
    "        for i in range(len(spaces)):\n",
    "            if random() < 0.5:\n",
    "                self.Chromosome.append('0')\n",
    "            else:\n",
    "                self.Chromosome.append('1')\n",
    "\n",
    "    def fitness(self):\n",
    "        score = 0\n",
    "        sum_spaces = 0\n",
    "        for i in range(len(self.Chromosome)):\n",
    "            if self.Chromosome[i] == '1':\n",
    "                score += self.prices[i]\n",
    "                sum_spaces += self.spaces[i]\n",
    "        if sum_spaces > self.space_limit:\n",
    "            score = 1\n",
    "\n",
    "        self.score_evaluation = score\n",
    "        self.used_space = sum_spaces\n",
    "\n",
    "    def crossover(self, other_individual):\n",
    "        cutoff = round(random() * len(self.Chromosome))\n",
    "        #print(cutoff)\n",
    "\n",
    "        child1 = other_individual.Chromosome[0:cutoff] + self.Chromosome[cutoff::]\n",
    "        child2 = self.Chromosome[0:cutoff] + other_individual.Chromosome[cutoff::]\n",
    "\n",
    "        #print(child1)\n",
    "        #print(child2)\n",
    "\n",
    "        children = [Individual(self.spaces, self.prices, self.space_limit, self.generation + 1),\n",
    "                    Individual(self.spaces, self.prices, self.space_limit, self.generation + 1)]\n",
    "        children[0].Chromosome = child1\n",
    "        children[1].Chromosome = child2\n",
    "\n",
    "        return children\n",
    "\n",
    "    def mutation(self, rate):\n",
    "        #print('Before: ', self.Chromosome)\n",
    "        for i in range(len(self.Chromosome)):\n",
    "            if random() < rate:\n",
    "                if self.Chromosome[i] == '1':\n",
    "                    self.Chromosome[i] = '0'\n",
    "                else:\n",
    "                    self.Chromosome[i] = '1'\n",
    "        #print('After: ', self.Chromosome)\n",
    "        return self\n"
   ]
  },
  {
   "cell_type": "code",
   "execution_count": 999,
   "metadata": {},
   "outputs": [
    {
     "name": "stdout",
     "output_type": "stream",
     "text": [
      "[0.751, 8.99e-06, 0.4, 0.29, 0.2, 0.0035, 0.496, 0.0424, 0.0544, 0.0319, 0.635, 0.87, 0.498, 0.527]\n",
      "[999.9, 2199.12, 4346.99, 3999.9, 2999.0, 2499.9, 199.9, 308.66, 429.9, 299.29, 849.0, 1199.89, 1999.9, 3999.0]\n",
      "['Refrigerator A', 'Cell phone', 'TV 55', \"TV 50' \", \"TV 42' \", 'Notebook A', 'Ventilator', 'Microwave A', 'Microwave B', 'Microwave C', 'Refrigerator B', 'Refrigerator C', 'Notebook B', 'Notebook C']\n"
     ]
    }
   ],
   "source": [
    "spaces = []\n",
    "prices = []\n",
    "names = []\n",
    "\n",
    "for product in products_list:\n",
    "    spaces.append(product.space)\n",
    "    prices.append(product.price)\n",
    "    names.append(product.name)\n",
    "limit = 3\n",
    "\n",
    "print(spaces)\n",
    "print(prices)\n",
    "print(names)"
   ]
  },
  {
   "cell_type": "code",
   "execution_count": 1000,
   "metadata": {},
   "outputs": [
    {
     "name": "stdout",
     "output_type": "stream",
     "text": [
      "Score:  17245.6\n",
      "Used space:  2.8125089900000004\n",
      "Chromosome:  ['1', '1', '1', '1', '0', '1', '0', '0', '0', '0', '0', '1', '1', '0']\n"
     ]
    }
   ],
   "source": [
    "individual1 = Individual(spaces, prices, limit)\n",
    "individual1.fitness()\n",
    "\n",
    "print('Score: ', individual1.score_evaluation)\n",
    "print('Used space: ',individual1.used_space)\n",
    "print('Chromosome: ',individual1.Chromosome)"
   ]
  },
  {
   "cell_type": "code",
   "execution_count": 1001,
   "metadata": {},
   "outputs": [
    {
     "name": "stdout",
     "output_type": "stream",
     "text": [
      "Score:  15653.64\n",
      "Used space:  1.7908\n",
      "Chromosome:  ['0', '0', '1', '1', '0', '1', '1', '1', '0', '1', '0', '0', '0', '1']\n"
     ]
    }
   ],
   "source": [
    "individual2 = Individual(spaces, prices, limit)\n",
    "individual2.fitness()\n",
    "\n",
    "print('Score: ', individual2.score_evaluation)\n",
    "print('Used space: ',individual2.used_space)\n",
    "print('Chromosome: ',individual2.Chromosome)"
   ]
  },
  {
   "cell_type": "code",
   "execution_count": 1002,
   "metadata": {},
   "outputs": [
    {
     "name": "stdout",
     "output_type": "stream",
     "text": [
      "14854.429999999998\n",
      "['0', '0', '1', '1', '0', '1', '1', '1', '0', '1', '0', '1', '1', '0']\n",
      "18044.809999999998\n",
      "['1', '1', '1', '1', '0', '1', '0', '0', '0', '0', '0', '0', '0', '1']\n"
     ]
    }
   ],
   "source": [
    "children = individual1.crossover(individual2)\n",
    "children[0].fitness()\n",
    "print(children[0].score_evaluation)\n",
    "print(children[0].Chromosome)\n",
    "children[1].fitness()\n",
    "print(children[1].score_evaluation)\n",
    "print(children[1].Chromosome)"
   ]
  },
  {
   "cell_type": "code",
   "execution_count": 1003,
   "metadata": {},
   "outputs": [
    {
     "data": {
      "text/plain": [
       "<__main__.Individual at 0x251f8316bd0>"
      ]
     },
     "execution_count": 1003,
     "metadata": {},
     "output_type": "execute_result"
    }
   ],
   "source": [
    "individual1.mutation(0.5)"
   ]
  },
  {
   "cell_type": "code",
   "execution_count": 1004,
   "metadata": {},
   "outputs": [],
   "source": [
    "\n",
    "class GeneticAlgorithm():\n",
    "    def __init__(self, population_size):\n",
    "        self.population_size = population_size\n",
    "        self.population = []\n",
    "        self.generation = 0\n",
    "        self.best_solution = None\n",
    "        self.list_of_solutions = []\n",
    "\n",
    "    def initialize_population(self, spaces, prices, space_limit):\n",
    "        for i in range(self.population_size):\n",
    "            self.population.append(Individual(spaces, prices, space_limit))\n",
    "        self.best_solution = self.population[0]\n",
    "\n",
    "    def order_population(self):\n",
    "        self.population = sorted(self.population, key=lambda population: population.score_evaluation, reverse=True)\n",
    "\n",
    "    def best_individual(self, individual):\n",
    "        if individual.score_evaluation > self.best_solution.score_evaluation:\n",
    "            self.best_solution = individual\n",
    "\n",
    "    def sum_evaluations(self):\n",
    "        sum = 0\n",
    "\n",
    "        for individual in self.population:\n",
    "            sum += individual.score_evaluation\n",
    "        return sum\n",
    "\n",
    "    def select_parents(self, sum_evaluation):\n",
    "        parent = -1\n",
    "        random_value = random() * sum_evaluation\n",
    "\n",
    "        sum = 0\n",
    "        i = 0\n",
    "        while i < len(self.population) and sum < random_value:\n",
    "            sum += self.population[i].score_evaluation\n",
    "            parent += 1\n",
    "            i += 1\n",
    "        return parent\n",
    "\n",
    "    def visualize_generation(self):\n",
    "        best = self.population[0]\n",
    "        print('Generation: ', best.generation,\n",
    "              'Space: ', best.used_space,\n",
    "              'Total price: ', best.score_evaluation,\n",
    "              'Chromosome: ', best.Chromosome\n",
    "              )\n",
    "\n",
    "    def solve(self, mutation_probability, number_of_generations, spaces, prices, limit):\n",
    "        self.initialize_population(spaces, prices, limit)\n",
    "        for individual in self.population:\n",
    "            individual.fitness()\n",
    "        self.order_population()\n",
    "        self.best_solution = self.population[0]\n",
    "        self.list_of_solutions.append(self.best_solution)\n",
    "\n",
    "        self.visualize_generation()\n",
    "        for generation in range(number_of_generations):\n",
    "            sum = self.sum_evaluations()\n",
    "            new_population = []\n",
    "            for new_individuals in range(0, self.population_size, 2):\n",
    "                parent1 = self.select_parents(sum)\n",
    "                parent2 = self.select_parents(sum)\n",
    "\n",
    "                children = self.population[parent1].crossover(self.population[parent2])\n",
    "                new_population.append(children[0].mutation(mutation_probability))\n",
    "                new_population.append(children[1].mutation(mutation_probability))\n",
    "\n",
    "            self.population = list(new_population)\n",
    "\n",
    "            for individual in self.population:\n",
    "                individual.fitness()\n",
    "            self.order_population()\n",
    "            best = self.population[0]\n",
    "            self.list_of_solutions.append(best)\n",
    "            self.best_individual(best)\n",
    "            self.visualize_generation()\n",
    "\n",
    "        print('Generation: ', self.best_solution.generation,\n",
    "                'Space: ', self.best_solution.used_space,\n",
    "                'Total price: ', self.best_solution.score_evaluation,\n",
    "                'Chromosome: ', self.best_solution.Chromosome\n",
    "                )\n",
    "        return self.best_solution\n"
   ]
  },
  {
   "cell_type": "code",
   "execution_count": 1005,
   "metadata": {},
   "outputs": [
    {
     "name": "stdout",
     "output_type": "stream",
     "text": [
      "['0', '1', '1', '1', '1', '1', '1', '1', '1', '1', '0', '0', '1', '0']\n",
      "19282.560000000005\n",
      "['0', '1', '0', '1', '1', '1', '0', '0', '0', '0', '0', '1', '1', '1']\n",
      "18896.71\n",
      "['1', '0', '1', '1', '1', '0', '0', '0', '0', '0', '0', '0', '1', '1']\n",
      "18344.69\n",
      "['0', '0', '1', '1', '0', '1', '0', '0', '1', '0', '1', '0', '1', '1']\n",
      "18124.589999999997\n",
      "['1', '0', '1', '1', '1', '0', '0', '0', '1', '0', '0', '0', '0', '1']\n",
      "16774.69\n",
      "['0', '1', '0', '0', '1', '1', '1', '0', '1', '1', '0', '1', '1', '1']\n",
      "15825.9\n",
      "['1', '0', '1', '0', '1', '0', '1', '0', '1', '0', '0', '0', '1', '1']\n",
      "14974.589999999998\n",
      "['0', '1', '0', '1', '0', '0', '1', '1', '0', '1', '1', '1', '0', '1']\n",
      "13054.76\n",
      "['1', '1', '0', '1', '1', '0', '1', '1', '0', '1', '1', '0', '0', '0']\n",
      "11854.77\n",
      "['0', '0', '0', '0', '1', '1', '0', '1', '0', '0', '0', '0', '1', '1']\n",
      "11806.46\n",
      "['1', '1', '0', '0', '1', '1', '1', '0', '1', '0', '0', '0', '0', '0']\n",
      "9327.72\n",
      "['1', '0', '0', '1', '0', '0', '0', '0', '1', '1', '0', '1', '1', '0']\n",
      "8928.78\n",
      "['0', '0', '1', '0', '0', '1', '1', '0', '0', '1', '0', '1', '0', '0']\n",
      "8545.97\n",
      "['0', '1', '0', '0', '1', '0', '1', '0', '1', '1', '0', '0', '1', '0']\n",
      "8127.109999999999\n",
      "['0', '0', '0', '0', '0', '1', '0', '0', '0', '1', '1', '1', '0', '0']\n",
      "4848.08\n",
      "['1', '1', '0', '1', '1', '0', '1', '1', '0', '0', '1', '1', '0', '0']\n",
      "1\n",
      "['1', '0', '1', '1', '1', '0', '1', '1', '0', '1', '1', '1', '1', '0']\n",
      "1\n",
      "['1', '1', '1', '1', '1', '0', '1', '0', '0', '1', '1', '0', '0', '1']\n",
      "1\n",
      "['0', '0', '1', '0', '1', '0', '0', '1', '0', '0', '1', '1', '1', '1']\n",
      "1\n",
      "['1', '1', '0', '0', '1', '0', '0', '1', '0', '1', '1', '1', '0', '1']\n",
      "1\n"
     ]
    }
   ],
   "source": [
    "population_size = 20\n",
    "ga = GeneticAlgorithm(population_size)\n",
    "ga.initialize_population(spaces, prices, limit)\n",
    "\n",
    "for individual in ga.population:\n",
    "    individual.fitness()\n",
    "\n",
    "ga.order_population()\n",
    "\n",
    "for individual in ga.population:\n",
    "    print(individual.Chromosome)\n",
    "    print(individual.score_evaluation)"
   ]
  },
  {
   "cell_type": "code",
   "execution_count": 1006,
   "metadata": {},
   "outputs": [
    {
     "data": {
      "text/plain": [
       "19282.560000000005"
      ]
     },
     "execution_count": 1006,
     "metadata": {},
     "output_type": "execute_result"
    }
   ],
   "source": [
    "ga.best_individual(ga.population[0])\n",
    "ga.best_solution.score_evaluation"
   ]
  },
  {
   "cell_type": "code",
   "execution_count": 1007,
   "metadata": {},
   "outputs": [
    {
     "name": "stdout",
     "output_type": "stream",
     "text": [
      "198722.37999999995\n"
     ]
    }
   ],
   "source": [
    "sum = ga.sum_evaluations()\n",
    "print(sum)"
   ]
  },
  {
   "cell_type": "code",
   "execution_count": 1008,
   "metadata": {},
   "outputs": [
    {
     "name": "stdout",
     "output_type": "stream",
     "text": [
      "0\n",
      "8\n"
     ]
    }
   ],
   "source": [
    "parent1 = ga.select_parents(sum)\n",
    "print(parent1)\n",
    "\n",
    "parent2 = ga.select_parents(sum)\n",
    "print(parent2)\n"
   ]
  },
  {
   "cell_type": "code",
   "execution_count": 1009,
   "metadata": {},
   "outputs": [],
   "source": [
    "new_population = []\n",
    "mutation_probability = 0.01\n",
    "for new_individuals in range(0 ,ga.population_size, 2):\n",
    "    # print(new_individuals)\n",
    "    parent1 = ga.select_parents(sum)\n",
    "    parent2 = ga.select_parents(sum)\n",
    "    #print(parent1, parent2)\n",
    "    children = ga.population[parent1].crossover(ga.population[parent2])\n",
    "    #print(children[0].Chromosome)\n",
    "    #print(children[1].Chromosome)\n",
    "\n",
    "    new_population.append(children[0].mutation(mutation_probability))\n",
    "    new_population.append(children[1].mutation(mutation_probability))"
   ]
  },
  {
   "cell_type": "markdown",
   "metadata": {},
   "source": [
    "## Putting all together"
   ]
  },
  {
   "cell_type": "code",
   "execution_count": 1010,
   "metadata": {},
   "outputs": [
    {
     "name": "stdout",
     "output_type": "stream",
     "text": [
      "[0.751, 8.99e-06, 0.4, 0.29, 0.2, 0.0035, 0.496, 0.0424, 0.0544, 0.0319, 0.635, 0.87, 0.498, 0.527]\n",
      "[999.9, 2199.12, 4346.99, 3999.9, 2999.0, 2499.9, 199.9, 308.66, 429.9, 299.29, 849.0, 1199.89, 1999.9, 3999.0]\n",
      "['Refrigerator A', 'Cell phone', 'TV 55', \"TV 50' \", \"TV 42' \", 'Notebook A', 'Ventilator', 'Microwave A', 'Microwave B', 'Microwave C', 'Refrigerator B', 'Refrigerator C', 'Notebook B', 'Notebook C']\n",
      "Generation:  0 Space:  2.2168 Total price:  17453.54 Chromosome:  ['1', '0', '1', '1', '1', '1', '0', '1', '0', '1', '0', '0', '1', '0']\n",
      "Generation:  1 Space:  2.4689 Total price:  20474.489999999998 Chromosome:  ['0', '0', '1', '1', '1', '1', '1', '0', '1', '0', '0', '0', '1', '1']\n",
      "Generation:  2 Space:  2.4689 Total price:  20474.489999999998 Chromosome:  ['0', '0', '1', '1', '1', '1', '1', '0', '1', '0', '0', '0', '1', '1']\n",
      "Generation:  3 Space:  2.0471999999999997 Total price:  20882.54 Chromosome:  ['0', '0', '1', '1', '1', '1', '0', '1', '1', '1', '0', '0', '1', '1']\n",
      "Generation:  4 Space:  2.5432 Total price:  21082.44 Chromosome:  ['0', '0', '1', '1', '1', '1', '1', '1', '1', '1', '0', '0', '1', '1']\n",
      "Generation:  5 Space:  2.0471999999999997 Total price:  20882.54 Chromosome:  ['0', '0', '1', '1', '1', '1', '0', '1', '1', '1', '0', '0', '1', '1']\n",
      "Generation:  6 Space:  2.46890899 Total price:  22673.61 Chromosome:  ['0', '1', '1', '1', '1', '1', '1', '0', '1', '0', '0', '0', '1', '1']\n",
      "Generation:  7 Space:  2.9172000000000002 Total price:  22082.43 Chromosome:  ['0', '0', '1', '1', '1', '1', '0', '1', '1', '1', '0', '1', '1', '1']\n",
      "Generation:  8 Space:  2.0472089899999997 Total price:  23081.660000000003 Chromosome:  ['0', '1', '1', '1', '1', '1', '0', '1', '1', '1', '0', '0', '1', '1']\n",
      "Generation:  9 Space:  2.9172000000000002 Total price:  22082.43 Chromosome:  ['0', '0', '1', '1', '1', '1', '0', '1', '1', '1', '0', '1', '1', '1']\n",
      "Generation:  10 Space:  2.0472089899999997 Total price:  23081.660000000003 Chromosome:  ['0', '1', '1', '1', '1', '1', '0', '1', '1', '1', '0', '0', '1', '1']\n",
      "Generation:  11 Space:  2.46890899 Total price:  22673.61 Chromosome:  ['0', '1', '1', '1', '1', '1', '1', '0', '1', '0', '0', '0', '1', '1']\n",
      "Generation:  12 Space:  2.0472089899999997 Total price:  23081.660000000003 Chromosome:  ['0', '1', '1', '1', '1', '1', '0', '1', '1', '1', '0', '0', '1', '1']\n",
      "Generation:  13 Space:  2.54320899 Total price:  23281.560000000005 Chromosome:  ['0', '1', '1', '1', '1', '1', '1', '1', '1', '1', '0', '0', '1', '1']\n",
      "Generation:  14 Space:  2.04520899 Total price:  21281.660000000003 Chromosome:  ['0', '1', '1', '1', '1', '1', '1', '1', '1', '1', '0', '0', '0', '1']\n",
      "Generation:  15 Space:  2.0472089899999997 Total price:  23081.660000000003 Chromosome:  ['0', '1', '1', '1', '1', '1', '0', '1', '1', '1', '0', '0', '1', '1']\n",
      "Generation:  16 Space:  2.0472089899999997 Total price:  23081.660000000003 Chromosome:  ['0', '1', '1', '1', '1', '1', '0', '1', '1', '1', '0', '0', '1', '1']\n",
      "Generation:  17 Space:  2.0472089899999997 Total price:  23081.660000000003 Chromosome:  ['0', '1', '1', '1', '1', '1', '0', '1', '1', '1', '0', '0', '1', '1']\n",
      "Generation:  18 Space:  2.0472089899999997 Total price:  23081.660000000003 Chromosome:  ['0', '1', '1', '1', '1', '1', '0', '1', '1', '1', '0', '0', '1', '1']\n",
      "Generation:  19 Space:  2.87480899 Total price:  23972.890000000003 Chromosome:  ['0', '1', '1', '1', '1', '1', '0', '0', '1', '1', '0', '1', '1', '1']\n",
      "Generation:  20 Space:  2.87480899 Total price:  23972.890000000003 Chromosome:  ['0', '1', '1', '1', '1', '1', '0', '0', '1', '1', '0', '1', '1', '1']\n",
      "Generation:  21 Space:  2.87480899 Total price:  23972.890000000003 Chromosome:  ['0', '1', '1', '1', '1', '1', '0', '0', '1', '1', '0', '1', '1', '1']\n",
      "Generation:  22 Space:  2.6398089899999997 Total price:  23622.000000000004 Chromosome:  ['0', '1', '1', '1', '1', '1', '0', '0', '1', '1', '1', '0', '1', '1']\n",
      "Generation:  23 Space:  2.7558089900000002 Total price:  23772.900000000005 Chromosome:  ['1', '1', '1', '1', '1', '1', '0', '0', '1', '1', '0', '0', '1', '1']\n",
      "Generation:  24 Space:  2.6398089899999997 Total price:  23622.000000000004 Chromosome:  ['0', '1', '1', '1', '1', '1', '0', '0', '1', '1', '1', '0', '1', '1']\n",
      "Generation:  25 Space:  2.0472089899999997 Total price:  23081.660000000003 Chromosome:  ['0', '1', '1', '1', '1', '1', '0', '1', '1', '1', '0', '0', '1', '1']\n",
      "Generation:  26 Space:  2.91720899 Total price:  24281.550000000003 Chromosome:  ['0', '1', '1', '1', '1', '1', '0', '1', '1', '1', '0', '1', '1', '1']\n",
      "Generation:  27 Space:  2.68220899 Total price:  23930.660000000003 Chromosome:  ['0', '1', '1', '1', '1', '1', '0', '1', '1', '1', '1', '0', '1', '1']\n",
      "Generation:  28 Space:  2.68220899 Total price:  23930.660000000003 Chromosome:  ['0', '1', '1', '1', '1', '1', '0', '1', '1', '1', '1', '0', '1', '1']\n",
      "Generation:  29 Space:  2.6398089899999997 Total price:  23622.000000000004 Chromosome:  ['0', '1', '1', '1', '1', '1', '0', '0', '1', '1', '1', '0', '1', '1']\n",
      "Generation:  30 Space:  2.68220899 Total price:  23930.660000000003 Chromosome:  ['0', '1', '1', '1', '1', '1', '0', '1', '1', '1', '1', '0', '1', '1']\n",
      "Generation:  31 Space:  2.68220899 Total price:  23930.660000000003 Chromosome:  ['0', '1', '1', '1', '1', '1', '0', '1', '1', '1', '1', '0', '1', '1']\n",
      "Generation:  32 Space:  2.54320899 Total price:  23281.560000000005 Chromosome:  ['0', '1', '1', '1', '1', '1', '1', '1', '1', '1', '0', '0', '1', '1']\n",
      "Generation:  33 Space:  2.54320899 Total price:  23281.560000000005 Chromosome:  ['0', '1', '1', '1', '1', '1', '1', '1', '1', '1', '0', '0', '1', '1']\n",
      "Generation:  34 Space:  2.54320899 Total price:  23281.560000000005 Chromosome:  ['0', '1', '1', '1', '1', '1', '1', '1', '1', '1', '0', '0', '1', '1']\n",
      "Generation:  35 Space:  2.76630899 Total price:  23782.270000000004 Chromosome:  ['1', '1', '1', '1', '1', '1', '0', '1', '1', '0', '0', '0', '1', '1']\n",
      "Generation:  36 Space:  2.54320899 Total price:  23281.560000000005 Chromosome:  ['0', '1', '1', '1', '1', '1', '1', '1', '1', '1', '0', '0', '1', '1']\n",
      "Generation:  37 Space:  2.91720899 Total price:  24281.550000000003 Chromosome:  ['0', '1', '1', '1', '1', '1', '0', '1', '1', '1', '0', '1', '1', '1']\n",
      "Generation:  38 Space:  2.91720899 Total price:  24281.550000000003 Chromosome:  ['0', '1', '1', '1', '1', '1', '0', '1', '1', '1', '0', '1', '1', '1']\n",
      "Generation:  39 Space:  2.91720899 Total price:  24281.550000000003 Chromosome:  ['0', '1', '1', '1', '1', '1', '0', '1', '1', '1', '0', '1', '1', '1']\n",
      "Generation:  40 Space:  2.54320899 Total price:  23281.560000000005 Chromosome:  ['0', '1', '1', '1', '1', '1', '1', '1', '1', '1', '0', '0', '1', '1']\n",
      "Generation:  41 Space:  2.68220899 Total price:  23930.660000000003 Chromosome:  ['0', '1', '1', '1', '1', '1', '0', '1', '1', '1', '1', '0', '1', '1']\n",
      "Generation:  42 Space:  2.68220899 Total price:  23930.660000000003 Chromosome:  ['0', '1', '1', '1', '1', '1', '0', '1', '1', '1', '1', '0', '1', '1']\n",
      "Generation:  43 Space:  2.68220899 Total price:  23930.660000000003 Chromosome:  ['0', '1', '1', '1', '1', '1', '0', '1', '1', '1', '1', '0', '1', '1']\n",
      "Generation:  44 Space:  2.0472089899999997 Total price:  23081.660000000003 Chromosome:  ['0', '1', '1', '1', '1', '1', '0', '1', '1', '1', '0', '0', '1', '1']\n",
      "Generation:  45 Space:  2.54320899 Total price:  23281.560000000005 Chromosome:  ['0', '1', '1', '1', '1', '1', '1', '1', '1', '1', '0', '0', '1', '1']\n",
      "Generation:  46 Space:  2.54320899 Total price:  23281.560000000005 Chromosome:  ['0', '1', '1', '1', '1', '1', '1', '1', '1', '1', '0', '0', '1', '1']\n",
      "Generation:  47 Space:  2.0472089899999997 Total price:  23081.660000000003 Chromosome:  ['0', '1', '1', '1', '1', '1', '0', '1', '1', '1', '0', '0', '1', '1']\n",
      "Generation:  48 Space:  2.0472089899999997 Total price:  23081.660000000003 Chromosome:  ['0', '1', '1', '1', '1', '1', '0', '1', '1', '1', '0', '0', '1', '1']\n",
      "Generation:  49 Space:  2.79820899 Total price:  24081.560000000005 Chromosome:  ['1', '1', '1', '1', '1', '1', '0', '1', '1', '1', '0', '0', '1', '1']\n",
      "Generation:  50 Space:  2.3002089900000002 Total price:  22081.660000000003 Chromosome:  ['1', '1', '1', '1', '1', '1', '0', '1', '1', '1', '0', '0', '0', '1']\n",
      "Generation:  51 Space:  2.04520899 Total price:  21281.660000000003 Chromosome:  ['0', '1', '1', '1', '1', '1', '1', '1', '1', '1', '0', '0', '0', '1']\n",
      "Generation:  52 Space:  2.54320899 Total price:  23281.560000000005 Chromosome:  ['0', '1', '1', '1', '1', '1', '1', '1', '1', '1', '0', '0', '1', '1']\n",
      "Generation:  53 Space:  2.9352089900000005 Total price:  22930.660000000003 Chromosome:  ['1', '1', '1', '1', '1', '1', '0', '1', '1', '1', '1', '0', '0', '1']\n",
      "Generation:  54 Space:  2.0472089899999997 Total price:  23081.660000000003 Chromosome:  ['0', '1', '1', '1', '1', '1', '0', '1', '1', '1', '0', '0', '1', '1']\n",
      "Generation:  55 Space:  2.0472089899999997 Total price:  23081.660000000003 Chromosome:  ['0', '1', '1', '1', '1', '1', '0', '1', '1', '1', '0', '0', '1', '1']\n",
      "Generation:  56 Space:  2.41920899 Total price:  22281.65 Chromosome:  ['0', '1', '1', '1', '1', '1', '0', '1', '1', '1', '0', '1', '0', '1']\n",
      "Generation:  57 Space:  2.3002089900000002 Total price:  22081.660000000003 Chromosome:  ['1', '1', '1', '1', '1', '1', '0', '1', '1', '1', '0', '0', '0', '1']\n",
      "Generation:  58 Space:  2.3002089900000002 Total price:  22081.660000000003 Chromosome:  ['1', '1', '1', '1', '1', '1', '0', '1', '1', '1', '0', '0', '0', '1']\n",
      "Generation:  59 Space:  2.68020899 Total price:  22130.660000000003 Chromosome:  ['0', '1', '1', '1', '1', '1', '1', '1', '1', '1', '1', '0', '0', '1']\n",
      "Generation:  60 Space:  2.68020899 Total price:  22130.660000000003 Chromosome:  ['0', '1', '1', '1', '1', '1', '1', '1', '1', '1', '1', '0', '0', '1']\n",
      "Generation:  61 Space:  2.79620899 Total price:  22281.560000000005 Chromosome:  ['1', '1', '1', '1', '1', '1', '1', '1', '1', '1', '0', '0', '0', '1']\n",
      "Generation:  62 Space:  2.79620899 Total price:  22281.560000000005 Chromosome:  ['1', '1', '1', '1', '1', '1', '1', '1', '1', '1', '0', '0', '0', '1']\n",
      "Generation:  63 Space:  2.79620899 Total price:  22281.560000000005 Chromosome:  ['1', '1', '1', '1', '1', '1', '1', '1', '1', '1', '0', '0', '0', '1']\n",
      "Generation:  64 Space:  2.3002089900000002 Total price:  22081.660000000003 Chromosome:  ['1', '1', '1', '1', '1', '1', '0', '1', '1', '1', '0', '0', '0', '1']\n",
      "Generation:  65 Space:  2.9352089900000005 Total price:  22930.660000000003 Chromosome:  ['1', '1', '1', '1', '1', '1', '0', '1', '1', '1', '1', '0', '0', '1']\n",
      "Generation:  66 Space:  2.79620899 Total price:  22281.560000000005 Chromosome:  ['1', '1', '1', '1', '1', '1', '1', '1', '1', '1', '0', '0', '0', '1']\n",
      "Generation:  67 Space:  2.0472089899999997 Total price:  23081.660000000003 Chromosome:  ['0', '1', '1', '1', '1', '1', '0', '1', '1', '1', '0', '0', '1', '1']\n",
      "Generation:  68 Space:  2.79620899 Total price:  22281.560000000005 Chromosome:  ['1', '1', '1', '1', '1', '1', '1', '1', '1', '1', '0', '0', '0', '1']\n",
      "Generation:  69 Space:  2.79620899 Total price:  22281.560000000005 Chromosome:  ['1', '1', '1', '1', '1', '1', '1', '1', '1', '1', '0', '0', '0', '1']\n",
      "Generation:  70 Space:  2.91520899 Total price:  22481.550000000003 Chromosome:  ['0', '1', '1', '1', '1', '1', '1', '1', '1', '1', '0', '1', '0', '1']\n",
      "Generation:  71 Space:  2.91520899 Total price:  22481.550000000003 Chromosome:  ['0', '1', '1', '1', '1', '1', '1', '1', '1', '1', '0', '1', '0', '1']\n",
      "Generation:  72 Space:  2.54320899 Total price:  23281.560000000005 Chromosome:  ['0', '1', '1', '1', '1', '1', '1', '1', '1', '1', '0', '0', '1', '1']\n",
      "Generation:  73 Space:  2.54320899 Total price:  23281.560000000005 Chromosome:  ['0', '1', '1', '1', '1', '1', '1', '1', '1', '1', '0', '0', '1', '1']\n",
      "Generation:  74 Space:  2.54320899 Total price:  23281.560000000005 Chromosome:  ['0', '1', '1', '1', '1', '1', '1', '1', '1', '1', '0', '0', '1', '1']\n",
      "Generation:  75 Space:  2.0472089899999997 Total price:  23081.660000000003 Chromosome:  ['0', '1', '1', '1', '1', '1', '0', '1', '1', '1', '0', '0', '1', '1']\n",
      "Generation:  76 Space:  2.0472089899999997 Total price:  23081.660000000003 Chromosome:  ['0', '1', '1', '1', '1', '1', '0', '1', '1', '1', '0', '0', '1', '1']\n",
      "Generation:  77 Space:  2.91520899 Total price:  22481.550000000003 Chromosome:  ['0', '1', '1', '1', '1', '1', '1', '1', '1', '1', '0', '1', '0', '1']\n",
      "Generation:  78 Space:  2.91520899 Total price:  22481.550000000003 Chromosome:  ['0', '1', '1', '1', '1', '1', '1', '1', '1', '1', '0', '1', '0', '1']\n",
      "Generation:  79 Space:  2.91520899 Total price:  22481.550000000003 Chromosome:  ['0', '1', '1', '1', '1', '1', '1', '1', '1', '1', '0', '1', '0', '1']\n",
      "Generation:  80 Space:  2.91520899 Total price:  22481.550000000003 Chromosome:  ['0', '1', '1', '1', '1', '1', '1', '1', '1', '1', '0', '1', '0', '1']\n",
      "Generation:  81 Space:  2.91520899 Total price:  22481.550000000003 Chromosome:  ['0', '1', '1', '1', '1', '1', '1', '1', '1', '1', '0', '1', '0', '1']\n",
      "Generation:  82 Space:  2.91520899 Total price:  22481.550000000003 Chromosome:  ['0', '1', '1', '1', '1', '1', '1', '1', '1', '1', '0', '1', '0', '1']\n",
      "Generation:  83 Space:  2.91520899 Total price:  22481.550000000003 Chromosome:  ['0', '1', '1', '1', '1', '1', '1', '1', '1', '1', '0', '1', '0', '1']\n",
      "Generation:  84 Space:  2.91520899 Total price:  22481.550000000003 Chromosome:  ['0', '1', '1', '1', '1', '1', '1', '1', '1', '1', '0', '1', '0', '1']\n",
      "Generation:  85 Space:  2.91520899 Total price:  22481.550000000003 Chromosome:  ['0', '1', '1', '1', '1', '1', '1', '1', '1', '1', '0', '1', '0', '1']\n",
      "Generation:  86 Space:  2.91520899 Total price:  22481.550000000003 Chromosome:  ['0', '1', '1', '1', '1', '1', '1', '1', '1', '1', '0', '1', '0', '1']\n",
      "Generation:  87 Space:  2.91520899 Total price:  22481.550000000003 Chromosome:  ['0', '1', '1', '1', '1', '1', '1', '1', '1', '1', '0', '1', '0', '1']\n",
      "Generation:  88 Space:  2.91520899 Total price:  22481.550000000003 Chromosome:  ['0', '1', '1', '1', '1', '1', '1', '1', '1', '1', '0', '1', '0', '1']\n",
      "Generation:  89 Space:  2.91520899 Total price:  22481.550000000003 Chromosome:  ['0', '1', '1', '1', '1', '1', '1', '1', '1', '1', '0', '1', '0', '1']\n",
      "Generation:  90 Space:  2.91520899 Total price:  22481.550000000003 Chromosome:  ['0', '1', '1', '1', '1', '1', '1', '1', '1', '1', '0', '1', '0', '1']\n",
      "Generation:  91 Space:  2.91520899 Total price:  22481.550000000003 Chromosome:  ['0', '1', '1', '1', '1', '1', '1', '1', '1', '1', '0', '1', '0', '1']\n",
      "Generation:  92 Space:  2.91520899 Total price:  22481.550000000003 Chromosome:  ['0', '1', '1', '1', '1', '1', '1', '1', '1', '1', '0', '1', '0', '1']\n",
      "Generation:  93 Space:  2.91520899 Total price:  22481.550000000003 Chromosome:  ['0', '1', '1', '1', '1', '1', '1', '1', '1', '1', '0', '1', '0', '1']\n",
      "Generation:  94 Space:  2.91520899 Total price:  22481.550000000003 Chromosome:  ['0', '1', '1', '1', '1', '1', '1', '1', '1', '1', '0', '1', '0', '1']\n",
      "Generation:  95 Space:  2.91520899 Total price:  22481.550000000003 Chromosome:  ['0', '1', '1', '1', '1', '1', '1', '1', '1', '1', '0', '1', '0', '1']\n",
      "Generation:  96 Space:  2.8728089900000002 Total price:  22172.89 Chromosome:  ['0', '1', '1', '1', '1', '1', '1', '0', '1', '1', '0', '1', '0', '1']\n",
      "Generation:  97 Space:  2.8728089900000002 Total price:  22172.89 Chromosome:  ['0', '1', '1', '1', '1', '1', '1', '0', '1', '1', '0', '1', '0', '1']\n",
      "Generation:  98 Space:  2.8728089900000002 Total price:  22172.89 Chromosome:  ['0', '1', '1', '1', '1', '1', '1', '0', '1', '1', '0', '1', '0', '1']\n",
      "Generation:  99 Space:  2.86080899 Total price:  22051.65 Chromosome:  ['0', '1', '1', '1', '1', '1', '1', '1', '0', '1', '0', '1', '0', '1']\n",
      "Generation:  100 Space:  2.86080899 Total price:  22051.65 Chromosome:  ['0', '1', '1', '1', '1', '1', '1', '1', '0', '1', '0', '1', '0', '1']\n",
      "Generation:  26 Space:  2.91720899 Total price:  24281.550000000003 Chromosome:  ['0', '1', '1', '1', '1', '1', '0', '1', '1', '1', '0', '1', '1', '1']\n",
      "<__main__.Individual object at 0x00000251F49C9DC0>\n"
     ]
    }
   ],
   "source": [
    "products_list = []\n",
    "products_list.append(Product('Refrigerator A', 0.751, 999.90))\n",
    "products_list.append(Product('Cell phone', 0.00000899, 2199.12))\n",
    "products_list.append(Product('TV 55', 0.400, 4346.99))\n",
    "products_list.append(Product(\"TV 50' \", 0.290, 3999.90))\n",
    "products_list.append(Product(\"TV 42' \", 0.200, 2999.00))\n",
    "products_list.append(Product(\"Notebook A\", 0.00350, 2499.90))\n",
    "products_list.append(Product(\"Ventilator\", 0.496, 199.90))\n",
    "products_list.append(Product(\"Microwave A\", 0.0424, 308.66))\n",
    "products_list.append(Product(\"Microwave B\", 0.0544, 429.90))\n",
    "products_list.append(Product(\"Microwave C\", 0.0319, 299.29))\n",
    "products_list.append(Product(\"Refrigerator B\", 0.635, 849.00))\n",
    "products_list.append(Product(\"Refrigerator C\", 0.870, 1199.89))\n",
    "products_list.append(Product(\"Notebook B\", 0.498, 1999.90))\n",
    "products_list.append(Product(\"Notebook C\", 0.527, 3999.00))\n",
    "\n",
    "\n",
    "spaces = []\n",
    "prices = []\n",
    "names = []\n",
    "\n",
    "for product in products_list:\n",
    "    spaces.append(product.space)\n",
    "    prices.append(product.price)\n",
    "    names.append(product.name)\n",
    "limit = 3\n",
    "\n",
    "print(spaces)\n",
    "print(prices)\n",
    "print(names)\n",
    "\n",
    "limit = 3\n",
    "population_size = 20\n",
    "mutation_probability = 0.01\n",
    "number_of_generations = 100\n",
    "\n",
    "ga = GeneticAlgorithm(population_size)\n",
    "result = ga.solve(mutation_probability, number_of_generations, spaces, prices, limit)\n",
    "print(result)"
   ]
  },
  {
   "cell_type": "code",
   "execution_count": 1011,
   "metadata": {},
   "outputs": [
    {
     "name": "stdout",
     "output_type": "stream",
     "text": [
      "<__main__.Individual object at 0x00000251F7326E70>\n",
      "<__main__.Individual object at 0x00000251F49C9400>\n",
      "<__main__.Individual object at 0x00000251F73277D0>\n",
      "<__main__.Individual object at 0x00000251F49C9D00>\n",
      "<__main__.Individual object at 0x00000251F6D1D790>\n",
      "<__main__.Individual object at 0x00000251F49CBB60>\n",
      "<__main__.Individual object at 0x00000251F73266F0>\n",
      "<__main__.Individual object at 0x00000251F49C8E30>\n",
      "<__main__.Individual object at 0x00000251F49F9130>\n",
      "<__main__.Individual object at 0x00000251F49CB080>\n",
      "<__main__.Individual object at 0x00000251F6D7BDA0>\n",
      "<__main__.Individual object at 0x00000251F4AAD8B0>\n",
      "<__main__.Individual object at 0x00000251D413CBF0>\n",
      "<__main__.Individual object at 0x00000251F49C85C0>\n",
      "<__main__.Individual object at 0x00000251F6D7B3E0>\n",
      "<__main__.Individual object at 0x00000251F49CA210>\n",
      "<__main__.Individual object at 0x00000251F7327710>\n",
      "<__main__.Individual object at 0x00000251F49CB8F0>\n",
      "<__main__.Individual object at 0x00000251F7327860>\n",
      "<__main__.Individual object at 0x00000251F49CA540>\n",
      "<__main__.Individual object at 0x00000251F49C8260>\n",
      "<__main__.Individual object at 0x00000251F49CAA80>\n",
      "<__main__.Individual object at 0x00000251F7325610>\n",
      "<__main__.Individual object at 0x00000251F49CA600>\n",
      "<__main__.Individual object at 0x00000251F7327680>\n",
      "<__main__.Individual object at 0x00000251F49CACF0>\n",
      "<__main__.Individual object at 0x00000251F49C9DC0>\n",
      "<__main__.Individual object at 0x00000251F49CB3E0>\n",
      "<__main__.Individual object at 0x00000251F8316840>\n",
      "<__main__.Individual object at 0x00000251F49CBBF0>\n",
      "<__main__.Individual object at 0x00000251F49C9A60>\n",
      "<__main__.Individual object at 0x00000251F49C9EB0>\n",
      "<__main__.Individual object at 0x00000251F455A5A0>\n",
      "<__main__.Individual object at 0x00000251F49CAB40>\n",
      "<__main__.Individual object at 0x00000251F49CBB00>\n",
      "<__main__.Individual object at 0x00000251F49CAF30>\n",
      "<__main__.Individual object at 0x00000251F4862D20>\n",
      "<__main__.Individual object at 0x00000251F49CAC30>\n",
      "<__main__.Individual object at 0x00000251D3FE2CF0>\n",
      "<__main__.Individual object at 0x00000251F49CA660>\n",
      "<__main__.Individual object at 0x00000251F7326930>\n",
      "<__main__.Individual object at 0x00000251F49C9D60>\n",
      "<__main__.Individual object at 0x00000251F49CB7D0>\n",
      "<__main__.Individual object at 0x00000251F8316CC0>\n",
      "<__main__.Individual object at 0x00000251F7326120>\n",
      "<__main__.Individual object at 0x00000251F49CB470>\n",
      "<__main__.Individual object at 0x00000251F49CA480>\n",
      "<__main__.Individual object at 0x00000251F4863980>\n",
      "<__main__.Individual object at 0x00000251F8316DB0>\n",
      "<__main__.Individual object at 0x00000251F8316900>\n",
      "<__main__.Individual object at 0x00000251F4863B60>\n",
      "<__main__.Individual object at 0x00000251F833BDA0>\n",
      "<__main__.Individual object at 0x00000251F4863290>\n",
      "<__main__.Individual object at 0x00000251F4863470>\n",
      "<__main__.Individual object at 0x00000251F8338D10>\n",
      "<__main__.Individual object at 0x00000251F48627B0>\n",
      "<__main__.Individual object at 0x00000251F6D63920>\n",
      "<__main__.Individual object at 0x00000251F49CBE00>\n",
      "<__main__.Individual object at 0x00000251F6D63FE0>\n",
      "<__main__.Individual object at 0x00000251F6D62570>\n",
      "<__main__.Individual object at 0x00000251F83169F0>\n",
      "<__main__.Individual object at 0x00000251F4861520>\n",
      "<__main__.Individual object at 0x00000251F6D624B0>\n",
      "<__main__.Individual object at 0x00000251F4861970>\n",
      "<__main__.Individual object at 0x00000251F49C9C70>\n",
      "<__main__.Individual object at 0x00000251F6D61970>\n",
      "<__main__.Individual object at 0x00000251F73277A0>\n",
      "<__main__.Individual object at 0x00000251F8316E10>\n",
      "<__main__.Individual object at 0x00000251F4862150>\n",
      "<__main__.Individual object at 0x00000251F4860FE0>\n",
      "<__main__.Individual object at 0x00000251F6D4C470>\n",
      "<__main__.Individual object at 0x00000251F6D4E270>\n",
      "<__main__.Individual object at 0x00000251F6D62450>\n",
      "<__main__.Individual object at 0x00000251F6D4DD00>\n",
      "<__main__.Individual object at 0x00000251F4861730>\n",
      "<__main__.Individual object at 0x00000251F49CB650>\n",
      "<__main__.Individual object at 0x00000251F8349CA0>\n",
      "<__main__.Individual object at 0x00000251F6D4D640>\n",
      "<__main__.Individual object at 0x00000251F6D624E0>\n",
      "<__main__.Individual object at 0x00000251F6D625D0>\n",
      "<__main__.Individual object at 0x00000251F49C8350>\n",
      "<__main__.Individual object at 0x00000251F49C9E80>\n",
      "<__main__.Individual object at 0x00000251F7326810>\n",
      "<__main__.Individual object at 0x00000251F6D60500>\n",
      "<__main__.Individual object at 0x00000251F73268D0>\n",
      "<__main__.Individual object at 0x00000251F8316C00>\n",
      "<__main__.Individual object at 0x00000251F6D4FB00>\n",
      "<__main__.Individual object at 0x00000251F8316990>\n",
      "<__main__.Individual object at 0x00000251F4A924B0>\n",
      "<__main__.Individual object at 0x00000251F49C9790>\n",
      "<__main__.Individual object at 0x00000251F49CA5A0>\n",
      "<__main__.Individual object at 0x00000251F49CB380>\n",
      "<__main__.Individual object at 0x00000251F8349A00>\n",
      "<__main__.Individual object at 0x00000251F4860980>\n",
      "<__main__.Individual object at 0x00000251F8349C70>\n",
      "<__main__.Individual object at 0x00000251F4862CF0>\n",
      "<__main__.Individual object at 0x00000251F8314D40>\n",
      "<__main__.Individual object at 0x00000251F49C9700>\n",
      "<__main__.Individual object at 0x00000251F4860410>\n",
      "<__main__.Individual object at 0x00000251F6D4C740>\n",
      "<__main__.Individual object at 0x00000251F4860B30>\n"
     ]
    }
   ],
   "source": [
    "for value in ga.list_of_solutions:\n",
    "    print(value)"
   ]
  },
  {
   "cell_type": "code",
   "execution_count": 1012,
   "metadata": {},
   "outputs": [
    {
     "data": {
      "image/png": "[encoded data removed]",
      "text/plain": [
       "<Figure size 640x480 with 1 Axes>"
      ]
     },
     "metadata": {},
     "output_type": "display_data"
    }
   ],
   "source": [
    "import matplotlib.pyplot as plt\n",
    "\n",
    "generations= []\n",
    "solutions = []\n",
    "\n",
    "for value in ga.list_of_solutions:\n",
    "    generations.append(value.generation)\n",
    "    solutions.append(value.score_evaluation)\n",
    "\n",
    "plt.plot(generations, solutions, marker='o', linestyle='-', color='b', label='Crecimiento')\n",
    "plt.xlabel('Generacion')\n",
    "plt.ylabel('Valor de la solucion')\n",
    "plt.title('Algoritmos genetico')\n",
    "plt.legend()\n",
    "plt.grid(True)\n",
    "plt.show()\n"
   ]
  }
 ],
 "metadata": {
  "kernelspec": {
   "display_name": "Python 3",
   "language": "python",
   "name": "python3"
  },
  "language_info": {
   "codemirror_mode": {
    "name": "ipython",
    "version": 3
   },
   "file_extension": ".py",
   "mimetype": "text/x-python",
   "name": "python",
   "nbconvert_exporter": "python",
   "pygments_lexer": "ipython3",
   "version": "3.12.4"
  }
 },
 "nbformat": 4,
 "nbformat_minor": 2
}
