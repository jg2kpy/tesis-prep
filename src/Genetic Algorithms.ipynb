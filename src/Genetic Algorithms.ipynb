{
 "cells": [
  {
   "cell_type": "markdown",
   "metadata": {},
   "source": [
    "# Genetic algorithms"
   ]
  },
  {
   "cell_type": "markdown",
   "metadata": {},
   "source": [
    "## Product class"
   ]
  },
  {
   "cell_type": "code",
   "execution_count": 7,
   "metadata": {},
   "outputs": [],
   "source": [
    "class Product():\n",
    "  def __init__(self, name, space, price):\n",
    "    self.name = name\n",
    "    self.space = space\n",
    "    self.price = price"
   ]
  },
  {
   "cell_type": "code",
   "execution_count": 8,
   "metadata": {},
   "outputs": [],
   "source": [
    "p1 = Product('Refrigerator A', 0.751, 999.9)"
   ]
  },
  {
   "cell_type": "code",
   "execution_count": 9,
   "metadata": {},
   "outputs": [
    {
     "data": {
      "text/plain": [
       "('Refrigerator A', 0.751, 999.9)"
      ]
     },
     "execution_count": 9,
     "metadata": {},
     "output_type": "execute_result"
    }
   ],
   "source": [
    "p1.name, p1.space, p1.price"
   ]
  },
  {
   "cell_type": "code",
   "execution_count": 10,
   "metadata": {},
   "outputs": [],
   "source": [
    "p2 = Product('Cell phone', 0.00000899, 2199.12)"
   ]
  },
  {
   "cell_type": "code",
   "execution_count": 11,
   "metadata": {},
   "outputs": [
    {
     "data": {
      "text/plain": [
       "('Cell phone', 8.99e-06, 2199.12)"
      ]
     },
     "execution_count": 11,
     "metadata": {},
     "output_type": "execute_result"
    }
   ],
   "source": [
    "p2.name, p2.space, p2.price"
   ]
  },
  {
   "cell_type": "code",
   "execution_count": 12,
   "metadata": {},
   "outputs": [],
   "source": [
    "products_list = []\n",
    "products_list.append(Product('Refrigerator A', 0.751, 999.90))\n",
    "products_list.append(Product('Cell phone', 0.00000899, 2199.12))\n",
    "products_list.append(Product('TV 55', 0.400, 4346.99))\n",
    "products_list.append(Product(\"TV 50' \", 0.290, 3999.90))\n",
    "products_list.append(Product(\"TV 42' \", 0.200, 2999.00))\n",
    "products_list.append(Product(\"Notebook A\", 0.00350, 2499.90))\n",
    "products_list.append(Product(\"Ventilator\", 0.496, 199.90))\n",
    "products_list.append(Product(\"Microwave A\", 0.0424, 308.66))\n",
    "products_list.append(Product(\"Microwave B\", 0.0544, 429.90))\n",
    "products_list.append(Product(\"Microwave C\", 0.0319, 299.29))\n",
    "products_list.append(Product(\"Refrigerator B\", 0.635, 849.00))\n",
    "products_list.append(Product(\"Refrigerator C\", 0.870, 1199.89))\n",
    "products_list.append(Product(\"Notebook B\", 0.498, 1999.90))\n",
    "products_list.append(Product(\"Notebook C\", 0.527, 3999.00))"
   ]
  },
  {
   "cell_type": "code",
   "execution_count": 13,
   "metadata": {},
   "outputs": [
    {
     "name": "stdout",
     "output_type": "stream",
     "text": [
      "Refrigerator A  -  999.9  -  0.751\n",
      "Cell phone  -  2199.12  -  8.99e-06\n",
      "TV 55  -  4346.99  -  0.4\n",
      "TV 50'   -  3999.9  -  0.29\n",
      "TV 42'   -  2999.0  -  0.2\n",
      "Notebook A  -  2499.9  -  0.0035\n",
      "Ventilator  -  199.9  -  0.496\n",
      "Microwave A  -  308.66  -  0.0424\n",
      "Microwave B  -  429.9  -  0.0544\n",
      "Microwave C  -  299.29  -  0.0319\n",
      "Refrigerator B  -  849.0  -  0.635\n",
      "Refrigerator C  -  1199.89  -  0.87\n",
      "Notebook B  -  1999.9  -  0.498\n",
      "Notebook C  -  3999.0  -  0.527\n"
     ]
    }
   ],
   "source": [
    "for product in products_list:\n",
    "  print(product.name, ' - ', product.price, ' - ', product.space)"
   ]
  },
  {
   "cell_type": "markdown",
   "metadata": {},
   "source": [
    "## Individual Class"
   ]
  },
  {
   "cell_type": "code",
   "execution_count": 64,
   "metadata": {},
   "outputs": [],
   "source": [
    "from random import random"
   ]
  },
  {
   "cell_type": "code",
   "execution_count": 70,
   "metadata": {},
   "outputs": [
    {
     "data": {
      "text/plain": [
       "0.8093246788423774"
      ]
     },
     "execution_count": 70,
     "metadata": {},
     "output_type": "execute_result"
    }
   ],
   "source": [
    "random()"
   ]
  },
  {
   "cell_type": "code",
   "execution_count": 141,
   "metadata": {},
   "outputs": [],
   "source": [
    "class Individual():\n",
    "    def __init__(self, spaces, prices, space_limit, generation=0):\n",
    "        self.spaces = spaces\n",
    "        self.prices = prices\n",
    "        self.space_limit = space_limit\n",
    "        self.generation = generation\n",
    "        self.chromosone = []\n",
    "\n",
    "        self.score_evaluation = 0\n",
    "        self.used_space = 0\n",
    "\n",
    "        for i in range(len(spaces)):\n",
    "            if random() < 0.5:\n",
    "                self.chromosone.append('0')\n",
    "            else:\n",
    "                self.chromosone.append('1')\n",
    "\n",
    "    def fitness(self):\n",
    "        score = 0\n",
    "        sum_spaces = 0\n",
    "        for i in range(len(self.chromosone)):\n",
    "            if self.chromosone[i] == '1':\n",
    "                score += self.prices[i]\n",
    "                sum_spaces += self.spaces[i]\n",
    "        if sum_spaces > self.space_limit:\n",
    "            score = 1\n",
    "\n",
    "        self.score_evaluation = score\n",
    "        self.used_space = sum_spaces\n",
    "\n",
    "    def crossover(self, other_individual):\n",
    "        cutoff = round(random() * len(self.chromosone))\n",
    "        #print(cutoff)\n",
    "\n",
    "        child1 = other_individual.chromosone[0:cutoff] + self.chromosone[cutoff::]\n",
    "        child2 = self.chromosone[0:cutoff] + other_individual.chromosone[cutoff::]\n",
    "\n",
    "        #print(child1)\n",
    "        #print(child2)\n",
    "\n",
    "        children = [Individual(self.spaces, self.prices, self.space_limit, self.generation + 1),\n",
    "                    Individual(self.spaces, self.prices, self.space_limit, self.generation + 1)]\n",
    "        children[0].chromosone = child1\n",
    "        children[1].chromosone = child2\n",
    "\n",
    "        return children\n",
    "\n",
    "    def mutation(self, rate):\n",
    "        #print('Before: ', self.chromosone)\n",
    "        for i in range(len(self.chromosone)):\n",
    "            if random() < rate:\n",
    "                if self.chromosone[i] == '1':\n",
    "                    self.chromosone[i] = '0'\n",
    "                else:\n",
    "                    self.chromosone[i] = '1'\n",
    "        #print('After: ', self.chromosone)\n",
    "        return self\n"
   ]
  },
  {
   "cell_type": "code",
   "execution_count": 142,
   "metadata": {},
   "outputs": [
    {
     "name": "stdout",
     "output_type": "stream",
     "text": [
      "[0.751, 8.99e-06, 0.4, 0.29, 0.2, 0.0035, 0.496, 0.0424, 0.0544, 0.0319, 0.635, 0.87, 0.498, 0.527]\n",
      "[999.9, 2199.12, 4346.99, 3999.9, 2999.0, 2499.9, 199.9, 308.66, 429.9, 299.29, 849.0, 1199.89, 1999.9, 3999.0]\n",
      "['Refrigerator A', 'Cell phone', 'TV 55', \"TV 50' \", \"TV 42' \", 'Notebook A', 'Ventilator', 'Microwave A', 'Microwave B', 'Microwave C', 'Refrigerator B', 'Refrigerator C', 'Notebook B', 'Notebook C']\n"
     ]
    }
   ],
   "source": [
    "spaces = []\n",
    "prices = []\n",
    "names = []\n",
    "\n",
    "for product in products_list:\n",
    "    spaces.append(product.space)\n",
    "    prices.append(product.price)\n",
    "    names.append(product.name)\n",
    "limit = 3\n",
    "\n",
    "print(spaces)\n",
    "print(prices)\n",
    "print(names)"
   ]
  },
  {
   "cell_type": "code",
   "execution_count": 143,
   "metadata": {},
   "outputs": [
    {
     "name": "stdout",
     "output_type": "stream",
     "text": [
      "Score:  13844.89\n",
      "Used space:  1.1305\n",
      "Chromosone:  ['0', '0', '1', '0', '1', '1', '0', '0', '0', '0', '0', '0', '0', '1']\n"
     ]
    }
   ],
   "source": [
    "individual1 = Individual(spaces, prices, limit)\n",
    "individual1.fitness()\n",
    "\n",
    "print('Score: ', individual1.score_evaluation)\n",
    "print('Used space: ',individual1.used_space)\n",
    "print('Chromosone: ',individual1.chromosone)"
   ]
  },
  {
   "cell_type": "code",
   "execution_count": 144,
   "metadata": {},
   "outputs": [
    {
     "name": "stdout",
     "output_type": "stream",
     "text": [
      "Score:  16826.8\n",
      "Used space:  2.77080899\n",
      "Chromosone:  ['0', '1', '0', '1', '0', '1', '1', '0', '1', '1', '0', '1', '1', '1']\n"
     ]
    }
   ],
   "source": [
    "individual2 = Individual(spaces, prices, limit)\n",
    "individual2.fitness()\n",
    "\n",
    "print('Score: ', individual2.score_evaluation)\n",
    "print('Used space: ',individual2.used_space)\n",
    "print('Chromosone: ',individual2.chromosone)"
   ]
  },
  {
   "cell_type": "code",
   "execution_count": 145,
   "metadata": {},
   "outputs": [
    {
     "name": "stdout",
     "output_type": "stream",
     "text": [
      "13627.01\n",
      "['0', '1', '0', '1', '0', '1', '1', '0', '1', '1', '0', '0', '0', '1']\n",
      "17044.68\n",
      "['0', '0', '1', '0', '1', '1', '0', '0', '0', '0', '0', '1', '1', '1']\n"
     ]
    }
   ],
   "source": [
    "children = individual1.crossover(individual2)\n",
    "children[0].fitness()\n",
    "print(children[0].score_evaluation)\n",
    "print(children[0].chromosone)\n",
    "children[1].fitness()\n",
    "print(children[1].score_evaluation)\n",
    "print(children[1].chromosone)"
   ]
  },
  {
   "cell_type": "code",
   "execution_count": 158,
   "metadata": {},
   "outputs": [
    {
     "name": "stdout",
     "output_type": "stream",
     "text": [
      "Before:  ['0', '1', '0', '0', '0', '1', '0', '0', '1', '0', '1', '1', '0', '1']\n",
      "After:  ['1', '1', '0', '1', '1', '1', '1', '0', '1', '1', '1', '1', '0', '0']\n"
     ]
    },
    {
     "data": {
      "text/plain": [
       "<__main__.Individual at 0x251d2a2aa80>"
      ]
     },
     "execution_count": 158,
     "metadata": {},
     "output_type": "execute_result"
    }
   ],
   "source": [
    "individual1.mutation(0.5)"
   ]
  },
  {
   "cell_type": "code",
   "execution_count": 175,
   "metadata": {},
   "outputs": [],
   "source": [
    "\n",
    "class GeneticAlgorithm():\n",
    "    def __init__(self, population_size):\n",
    "        self.population_size = population_size\n",
    "        self.population = []\n",
    "        self.generation = 0\n",
    "        self.best_solution = None\n",
    "        self.list_of_solutions = []\n",
    "\n",
    "    def initialize_population(self, spaces, prices, space_limit):\n",
    "        for i in range(self.population_size):\n",
    "            self.population.append(Individual(spaces, prices, space_limit))\n",
    "        self.best_solution = self.population[0]\n",
    "\n",
    "    def order_population(self):\n",
    "        self.population = sorted(self.population, key=lambda population: population.score_evaluation, reverse=True)\n",
    "\n",
    "    def best_individual(self, individual):\n",
    "        if individual.score_evaluation > self.best_solution.score_evaluation:\n",
    "            self.best_solution = individual\n"
   ]
  },
  {
   "cell_type": "code",
   "execution_count": 176,
   "metadata": {},
   "outputs": [
    {
     "name": "stdout",
     "output_type": "stream",
     "text": [
      "['0', '1', '1', '1', '1', '1', '0', '0', '1', '0', '0', '1', '1', '0']\n",
      "19674.600000000002\n",
      "['0', '1', '1', '0', '1', '1', '0', '1', '1', '0', '1', '0', '1', '1']\n",
      "19631.47\n",
      "['0', '1', '1', '1', '1', '0', '1', '1', '0', '1', '1', '0', '1', '0']\n",
      "17201.760000000002\n",
      "['1', '1', '1', '0', '1', '0', '0', '0', '1', '1', '0', '1', '0', '1']\n",
      "16473.09\n",
      "['1', '1', '0', '1', '0', '0', '0', '1', '1', '1', '1', '0', '1', '1']\n",
      "15084.67\n",
      "['0', '0', '0', '0', '1', '1', '1', '1', '0', '0', '1', '0', '1', '1']\n",
      "12855.359999999999\n",
      "['0', '1', '0', '1', '0', '0', '1', '1', '0', '1', '0', '1', '0', '1']\n",
      "12205.76\n",
      "['1', '1', '0', '0', '0', '1', '0', '0', '1', '0', '1', '0', '0', '1']\n",
      "10976.82\n",
      "['0', '0', '0', '1', '0', '0', '0', '1', '0', '1', '1', '1', '0', '1']\n",
      "10655.740000000002\n",
      "['1', '0', '0', '1', '0', '1', '0', '1', '1', '1', '0', '0', '1', '0']\n",
      "10537.45\n",
      "['0', '0', '0', '1', '0', '0', '1', '1', '0', '0', '0', '0', '1', '1']\n",
      "10507.36\n",
      "['0', '1', '0', '1', '0', '0', '0', '0', '1', '1', '1', '0', '1', '0']\n",
      "9777.11\n",
      "['0', '0', '0', '1', '0', '0', '1', '0', '0', '0', '1', '0', '0', '1']\n",
      "9047.8\n",
      "['1', '0', '0', '0', '1', '1', '0', '0', '0', '1', '1', '1', '0', '0']\n",
      "8846.98\n",
      "['1', '0', '0', '0', '1', '0', '1', '1', '0', '0', '0', '0', '0', '1']\n",
      "8506.46\n",
      "['1', '0', '1', '0', '0', '1', '1', '1', '0', '0', '0', '0', '0', '0']\n",
      "8355.349999999999\n",
      "['0', '1', '1', '0', '0', '0', '1', '0', '0', '0', '0', '1', '0', '0']\n",
      "7945.9\n",
      "['1', '1', '1', '0', '0', '0', '0', '0', '1', '1', '1', '1', '1', '1']\n",
      "1\n",
      "['1', '1', '0', '1', '1', '1', '1', '1', '1', '0', '0', '1', '1', '0']\n",
      "1\n",
      "['0', '1', '0', '1', '0', '1', '1', '1', '1', '0', '1', '1', '1', '1']\n",
      "1\n"
     ]
    }
   ],
   "source": [
    "population_size = 20\n",
    "ga = GeneticAlgorithm(population_size)\n",
    "ga.initialize_population(spaces, prices, limit)\n",
    "\n",
    "for individual in ga.population:\n",
    "    individual.fitness()\n",
    "\n",
    "ga.order_population()\n",
    "\n",
    "for individual in ga.population:\n",
    "    print(individual.chromosone)\n",
    "    print(individual.score_evaluation)"
   ]
  }
 ],
 "metadata": {
  "kernelspec": {
   "display_name": "Python 3",
   "language": "python",
   "name": "python3"
  },
  "language_info": {
   "codemirror_mode": {
    "name": "ipython",
    "version": 3
   },
   "file_extension": ".py",
   "mimetype": "text/x-python",
   "name": "python",
   "nbconvert_exporter": "python",
   "pygments_lexer": "ipython3",
   "version": "3.12.4"
  }
 },
 "nbformat": 4,
 "nbformat_minor": 2
}
