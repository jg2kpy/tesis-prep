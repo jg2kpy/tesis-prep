{
 "cells": [
  {
   "cell_type": "markdown",
   "metadata": {},
   "source": [
    "# Genetic algorithms"
   ]
  },
  {
   "cell_type": "markdown",
   "metadata": {},
   "source": [
    "## Product class"
   ]
  },
  {
   "cell_type": "code",
   "execution_count": 50,
   "metadata": {},
   "outputs": [],
   "source": [
    "class Product():\n",
    "  def __init__(self, name, space, price):\n",
    "    self.name = name\n",
    "    self.space = space\n",
    "    self.price = price"
   ]
  },
  {
   "cell_type": "code",
   "execution_count": 51,
   "metadata": {},
   "outputs": [],
   "source": [
    "p1 = Product('Refrigerator A', 0.751, 999.9)"
   ]
  },
  {
   "cell_type": "code",
   "execution_count": 52,
   "metadata": {},
   "outputs": [
    {
     "data": {
      "text/plain": [
       "('Refrigerator A', 0.751, 999.9)"
      ]
     },
     "execution_count": 52,
     "metadata": {},
     "output_type": "execute_result"
    }
   ],
   "source": [
    "p1.name, p1.space, p1.price"
   ]
  },
  {
   "cell_type": "code",
   "execution_count": 53,
   "metadata": {},
   "outputs": [],
   "source": [
    "p2 = Product('Cell phone', 0.00000899, 2199.12)"
   ]
  },
  {
   "cell_type": "code",
   "execution_count": 54,
   "metadata": {},
   "outputs": [
    {
     "data": {
      "text/plain": [
       "('Cell phone', 8.99e-06, 2199.12)"
      ]
     },
     "execution_count": 54,
     "metadata": {},
     "output_type": "execute_result"
    }
   ],
   "source": [
    "p2.name, p2.space, p2.price"
   ]
  },
  {
   "cell_type": "code",
   "execution_count": 55,
   "metadata": {},
   "outputs": [],
   "source": [
    "products_list = []\n",
    "products_list.append(Product('Refrigerator A', 0.751, 999.90))\n",
    "products_list.append(Product('Cell phone', 0.00000899, 2199.12))\n",
    "products_list.append(Product('TV 55', 0.400, 4346.99))\n",
    "products_list.append(Product(\"TV 50' \", 0.290, 3999.90))\n",
    "products_list.append(Product(\"TV 42' \", 0.200, 2999.00))\n",
    "products_list.append(Product(\"Notebook A\", 0.00350, 2499.90))\n",
    "products_list.append(Product(\"Ventilator\", 0.496, 199.90))\n",
    "products_list.append(Product(\"Microwave A\", 0.0424, 308.66))\n",
    "products_list.append(Product(\"Microwave B\", 0.0544, 429.90))\n",
    "products_list.append(Product(\"Microwave C\", 0.0319, 299.29))\n",
    "products_list.append(Product(\"Refrigerator B\", 0.635, 849.00))\n",
    "products_list.append(Product(\"Refrigerator C\", 0.870, 1199.89))\n",
    "products_list.append(Product(\"Notebook B\", 0.498, 1999.90))\n",
    "products_list.append(Product(\"Notebook C\", 0.527, 3999.00))"
   ]
  },
  {
   "cell_type": "code",
   "execution_count": 56,
   "metadata": {},
   "outputs": [
    {
     "name": "stdout",
     "output_type": "stream",
     "text": [
      "Refrigerator A  -  999.9  -  0.751\n",
      "Cell phone  -  2199.12  -  8.99e-06\n",
      "TV 55  -  4346.99  -  0.4\n",
      "TV 50'   -  3999.9  -  0.29\n",
      "TV 42'   -  2999.0  -  0.2\n",
      "Notebook A  -  2499.9  -  0.0035\n",
      "Ventilator  -  199.9  -  0.496\n",
      "Microwave A  -  308.66  -  0.0424\n",
      "Microwave B  -  429.9  -  0.0544\n",
      "Microwave C  -  299.29  -  0.0319\n",
      "Refrigerator B  -  849.0  -  0.635\n",
      "Refrigerator C  -  1199.89  -  0.87\n",
      "Notebook B  -  1999.9  -  0.498\n",
      "Notebook C  -  3999.0  -  0.527\n"
     ]
    }
   ],
   "source": [
    "for product in products_list:\n",
    "  print(product.name, ' - ', product.price, ' - ', product.space)"
   ]
  },
  {
   "cell_type": "markdown",
   "metadata": {},
   "source": [
    "## Individual Class"
   ]
  },
  {
   "cell_type": "code",
   "execution_count": 57,
   "metadata": {},
   "outputs": [],
   "source": [
    "from random import random"
   ]
  },
  {
   "cell_type": "code",
   "execution_count": 58,
   "metadata": {},
   "outputs": [
    {
     "data": {
      "text/plain": [
       "0.8612021045513637"
      ]
     },
     "execution_count": 58,
     "metadata": {},
     "output_type": "execute_result"
    }
   ],
   "source": [
    "random()"
   ]
  },
  {
   "cell_type": "code",
   "execution_count": 59,
   "metadata": {},
   "outputs": [],
   "source": [
    "class Individual():\n",
    "    def __init__(self, spaces, prices, space_limit, generation=0):\n",
    "        self.spaces = spaces\n",
    "        self.prices = prices\n",
    "        self.space_limit = space_limit\n",
    "        self.generation = generation\n",
    "        self.Chromosome = []\n",
    "\n",
    "        self.score_evaluation = 0\n",
    "        self.used_space = 0\n",
    "\n",
    "        for i in range(len(spaces)):\n",
    "            if random() < 0.5:\n",
    "                self.Chromosome.append('0')\n",
    "            else:\n",
    "                self.Chromosome.append('1')\n",
    "\n",
    "    def fitness(self):\n",
    "        score = 0\n",
    "        sum_spaces = 0\n",
    "        for i in range(len(self.Chromosome)):\n",
    "            if self.Chromosome[i] == '1':\n",
    "                score += self.prices[i]\n",
    "                sum_spaces += self.spaces[i]\n",
    "        if sum_spaces > self.space_limit:\n",
    "            score = 1\n",
    "\n",
    "        self.score_evaluation = score\n",
    "        self.used_space = sum_spaces\n",
    "\n",
    "    def crossover(self, other_individual):\n",
    "        cutoff = round(random() * len(self.Chromosome))\n",
    "        #print(cutoff)\n",
    "\n",
    "        child1 = other_individual.Chromosome[0:cutoff] + self.Chromosome[cutoff::]\n",
    "        child2 = self.Chromosome[0:cutoff] + other_individual.Chromosome[cutoff::]\n",
    "\n",
    "        #print(child1)\n",
    "        #print(child2)\n",
    "\n",
    "        children = [Individual(self.spaces, self.prices, self.space_limit, self.generation + 1),\n",
    "                    Individual(self.spaces, self.prices, self.space_limit, self.generation + 1)]\n",
    "        children[0].Chromosome = child1\n",
    "        children[1].Chromosome = child2\n",
    "\n",
    "        return children\n",
    "\n",
    "    def mutation(self, rate):\n",
    "        #print('Before: ', self.Chromosome)\n",
    "        for i in range(len(self.Chromosome)):\n",
    "            if random() < rate:\n",
    "                if self.Chromosome[i] == '1':\n",
    "                    self.Chromosome[i] = '0'\n",
    "                else:\n",
    "                    self.Chromosome[i] = '1'\n",
    "        #print('After: ', self.Chromosome)\n",
    "        return self\n"
   ]
  },
  {
   "cell_type": "code",
   "execution_count": 60,
   "metadata": {},
   "outputs": [
    {
     "name": "stdout",
     "output_type": "stream",
     "text": [
      "[0.751, 8.99e-06, 0.4, 0.29, 0.2, 0.0035, 0.496, 0.0424, 0.0544, 0.0319, 0.635, 0.87, 0.498, 0.527]\n",
      "[999.9, 2199.12, 4346.99, 3999.9, 2999.0, 2499.9, 199.9, 308.66, 429.9, 299.29, 849.0, 1199.89, 1999.9, 3999.0]\n",
      "['Refrigerator A', 'Cell phone', 'TV 55', \"TV 50' \", \"TV 42' \", 'Notebook A', 'Ventilator', 'Microwave A', 'Microwave B', 'Microwave C', 'Refrigerator B', 'Refrigerator C', 'Notebook B', 'Notebook C']\n"
     ]
    }
   ],
   "source": [
    "spaces = []\n",
    "prices = []\n",
    "names = []\n",
    "\n",
    "for product in products_list:\n",
    "    spaces.append(product.space)\n",
    "    prices.append(product.price)\n",
    "    names.append(product.name)\n",
    "limit = 3\n",
    "\n",
    "print(spaces)\n",
    "print(prices)\n",
    "print(names)"
   ]
  },
  {
   "cell_type": "code",
   "execution_count": 61,
   "metadata": {},
   "outputs": [
    {
     "name": "stdout",
     "output_type": "stream",
     "text": [
      "Score:  11297.99\n",
      "Used space:  2.0979\n",
      "Chromosome:  ['1', '0', '0', '1', '0', '0', '0', '0', '0', '1', '0', '0', '1', '1']\n"
     ]
    }
   ],
   "source": [
    "individual1 = Individual(spaces, prices, limit)\n",
    "individual1.fitness()\n",
    "\n",
    "print('Score: ', individual1.score_evaluation)\n",
    "print('Used space: ',individual1.used_space)\n",
    "print('Chromosome: ',individual1.Chromosome)"
   ]
  },
  {
   "cell_type": "code",
   "execution_count": 62,
   "metadata": {},
   "outputs": [
    {
     "name": "stdout",
     "output_type": "stream",
     "text": [
      "Score:  18523.7\n",
      "Used space:  2.45290899\n",
      "Chromosome:  ['0', '1', '1', '1', '1', '1', '0', '0', '1', '0', '1', '1', '0', '0']\n"
     ]
    }
   ],
   "source": [
    "individual2 = Individual(spaces, prices, limit)\n",
    "individual2.fitness()\n",
    "\n",
    "print('Score: ', individual2.score_evaluation)\n",
    "print('Used space: ',individual2.used_space)\n",
    "print('Chromosome: ',individual2.Chromosome)"
   ]
  },
  {
   "cell_type": "code",
   "execution_count": 63,
   "metadata": {},
   "outputs": [
    {
     "name": "stdout",
     "output_type": "stream",
     "text": [
      "22473.710000000003\n",
      "['0', '1', '1', '1', '1', '1', '0', '0', '1', '0', '0', '0', '1', '1']\n",
      "7347.9800000000005\n",
      "['1', '0', '0', '1', '0', '0', '0', '0', '0', '1', '1', '1', '0', '0']\n"
     ]
    }
   ],
   "source": [
    "children = individual1.crossover(individual2)\n",
    "children[0].fitness()\n",
    "print(children[0].score_evaluation)\n",
    "print(children[0].Chromosome)\n",
    "children[1].fitness()\n",
    "print(children[1].score_evaluation)\n",
    "print(children[1].Chromosome)"
   ]
  },
  {
   "cell_type": "code",
   "execution_count": 64,
   "metadata": {},
   "outputs": [
    {
     "data": {
      "text/plain": [
       "<__main__.Individual at 0x171ca0621b0>"
      ]
     },
     "execution_count": 64,
     "metadata": {},
     "output_type": "execute_result"
    }
   ],
   "source": [
    "individual1.mutation(0.5)"
   ]
  },
  {
   "cell_type": "code",
   "execution_count": 65,
   "metadata": {},
   "outputs": [],
   "source": [
    "\n",
    "class GeneticAlgorithm():\n",
    "    def __init__(self, population_size):\n",
    "        self.population_size = population_size\n",
    "        self.population = []\n",
    "        self.generation = 0\n",
    "        self.best_solution = None\n",
    "        self.list_of_solutions = []\n",
    "\n",
    "    def initialize_population(self, spaces, prices, space_limit):\n",
    "        for i in range(self.population_size):\n",
    "            self.population.append(Individual(spaces, prices, space_limit))\n",
    "        self.best_solution = self.population[0]\n",
    "\n",
    "    def order_population(self):\n",
    "        self.population = sorted(self.population, key=lambda population: population.score_evaluation, reverse=True)\n",
    "\n",
    "    def best_individual(self, individual):\n",
    "        if individual.score_evaluation > self.best_solution.score_evaluation:\n",
    "            self.best_solution = individual\n",
    "\n",
    "    def sum_evaluations(self):\n",
    "        sum = 0\n",
    "\n",
    "        for individual in self.population:\n",
    "            sum += individual.score_evaluation\n",
    "        return sum\n",
    "\n",
    "    def visualize_generation(self):\n",
    "        best = self.population[0]\n",
    "        print('Generation: ', best.generation,\n",
    "              'Space: ', best.used_space,\n",
    "              'Total price: ', best.score_evaluation,\n",
    "              'Chromosome: ', best.Chromosome\n",
    "              )\n",
    "\n",
    "    def select_parents(self, sum_evaluation):\n",
    "        parent = -1\n",
    "        random_value = random() * sum_evaluation\n",
    "\n",
    "        sum = 0\n",
    "        i = 0\n",
    "        while i < len(self.population) and sum < random_value:\n",
    "            sum += self.population[i].score_evaluation\n",
    "            parent += 1\n",
    "            i += 1\n",
    "        return parent\n",
    "\n",
    "\n",
    "    def solve(self, mutation_probability, number_of_generations, spaces, prices, limit):\n",
    "        self.initialize_population(spaces, prices, limit)\n",
    "        for individual in self.population:\n",
    "            individual.fitness()\n",
    "        self.order_population()\n",
    "        self.best_solution = self.population[0]\n",
    "        self.list_of_solutions.append(self.best_solution)\n",
    "\n",
    "        self.visualize_generation()\n",
    "        for generation in range(number_of_generations):\n",
    "            sum = self.sum_evaluations()\n",
    "            new_population = []\n",
    "            for new_individuals in range(0, self.population_size, 2):\n",
    "                parent1 = self.select_parents(sum)\n",
    "                parent2 = self.select_parents(sum)\n",
    "\n",
    "                children = self.population[parent1].crossover(self.population[parent2])\n",
    "                new_population.append(children[0].mutation(mutation_probability))\n",
    "                new_population.append(children[1].mutation(mutation_probability))\n",
    "\n",
    "            self.population = list(new_population)\n",
    "\n",
    "            for individual in self.population:\n",
    "                individual.fitness()\n",
    "            self.order_population()\n",
    "            best = self.population[0]\n",
    "            self.list_of_solutions.append(best)\n",
    "            self.best_individual(best)\n",
    "            self.visualize_generation()\n",
    "\n",
    "        print('Generation: ', self.best_solution.generation,\n",
    "                'Space: ', self.best_solution.used_space,\n",
    "                'Total price: ', self.best_solution.score_evaluation,\n",
    "                'Chromosome: ', self.best_solution.Chromosome\n",
    "                )\n",
    "        return self.best_solution\n"
   ]
  },
  {
   "cell_type": "code",
   "execution_count": 66,
   "metadata": {},
   "outputs": [
    {
     "name": "stdout",
     "output_type": "stream",
     "text": [
      "['0', '0', '1', '1', '1', '1', '1', '1', '0', '0', '0', '1', '0', '1']\n",
      "19553.239999999998\n",
      "['0', '1', '1', '1', '1', '1', '1', '0', '0', '1', '1', '0', '1', '0']\n",
      "19393.0\n",
      "['1', '1', '1', '1', '1', '0', '0', '0', '0', '1', '0', '0', '0', '1']\n",
      "18843.2\n",
      "['1', '1', '1', '0', '0', '0', '0', '1', '1', '1', '1', '0', '1', '1']\n",
      "15431.76\n",
      "['1', '0', '0', '0', '1', '1', '0', '1', '0', '1', '0', '1', '1', '1']\n",
      "14305.539999999999\n",
      "['0', '0', '1', '0', '0', '1', '1', '1', '0', '1', '0', '0', '1', '1']\n",
      "13653.64\n",
      "['1', '1', '1', '0', '0', '0', '1', '0', '1', '1', '0', '0', '0', '1']\n",
      "12474.1\n",
      "['1', '0', '0', '1', '1', '0', '1', '1', '1', '1', '1', '0', '1', '0']\n",
      "12085.45\n",
      "['0', '0', '0', '0', '1', '1', '1', '1', '1', '0', '1', '1', '1', '0']\n",
      "10486.149999999998\n",
      "['1', '0', '1', '0', '1', '0', '0', '1', '0', '1', '1', '0', '0', '0']\n",
      "9802.84\n",
      "['0', '1', '0', '0', '0', '0', '1', '0', '0', '0', '1', '0', '0', '1']\n",
      "7247.02\n",
      "['0', '1', '0', '0', '0', '0', '0', '1', '1', '0', '0', '0', '0', '1']\n",
      "6936.68\n",
      "['0', '0', '0', '1', '0', '0', '0', '1', '0', '1', '1', '1', '0', '0']\n",
      "6656.740000000001\n",
      "['1', '0', '0', '0', '1', '0', '0', '1', '1', '1', '0', '1', '0', '0']\n",
      "6236.64\n",
      "['0', '0', '1', '1', '0', '0', '1', '1', '1', '1', '1', '1', '1', '1']\n",
      "1\n",
      "['1', '1', '1', '0', '1', '1', '1', '1', '0', '1', '0', '1', '1', '1']\n",
      "1\n",
      "['1', '1', '1', '0', '1', '0', '0', '1', '0', '1', '1', '1', '0', '1']\n",
      "1\n",
      "['0', '0', '1', '1', '1', '0', '1', '1', '0', '0', '0', '1', '1', '1']\n",
      "1\n",
      "['1', '1', '0', '1', '0', '1', '0', '0', '1', '1', '1', '1', '1', '1']\n",
      "1\n",
      "['1', '0', '1', '1', '0', '1', '1', '0', '0', '0', '1', '0', '1', '1']\n",
      "1\n"
     ]
    }
   ],
   "source": [
    "population_size = 20\n",
    "ga = GeneticAlgorithm(population_size)\n",
    "ga.initialize_population(spaces, prices, limit)\n",
    "\n",
    "for individual in ga.population:\n",
    "    individual.fitness()\n",
    "\n",
    "ga.order_population()\n",
    "\n",
    "for individual in ga.population:\n",
    "    print(individual.Chromosome)\n",
    "    print(individual.score_evaluation)"
   ]
  },
  {
   "cell_type": "code",
   "execution_count": 67,
   "metadata": {},
   "outputs": [
    {
     "data": {
      "text/plain": [
       "19553.239999999998"
      ]
     },
     "execution_count": 67,
     "metadata": {},
     "output_type": "execute_result"
    }
   ],
   "source": [
    "ga.best_individual(ga.population[0])\n",
    "ga.best_solution.score_evaluation"
   ]
  },
  {
   "cell_type": "code",
   "execution_count": 68,
   "metadata": {},
   "outputs": [
    {
     "name": "stdout",
     "output_type": "stream",
     "text": [
      "173111.99999999997\n"
     ]
    }
   ],
   "source": [
    "sum = ga.sum_evaluations()\n",
    "print(sum)"
   ]
  },
  {
   "cell_type": "code",
   "execution_count": 69,
   "metadata": {},
   "outputs": [
    {
     "name": "stdout",
     "output_type": "stream",
     "text": [
      "5\n",
      "1\n"
     ]
    }
   ],
   "source": [
    "parent1 = ga.select_parents(sum)\n",
    "print(parent1)\n",
    "\n",
    "parent2 = ga.select_parents(sum)\n",
    "print(parent2)\n"
   ]
  },
  {
   "cell_type": "code",
   "execution_count": 70,
   "metadata": {},
   "outputs": [],
   "source": [
    "new_population = []\n",
    "mutation_probability = 0.01\n",
    "for new_individuals in range(0 ,ga.population_size, 2):\n",
    "    # print(new_individuals)\n",
    "    parent1 = ga.select_parents(sum)\n",
    "    parent2 = ga.select_parents(sum)\n",
    "    #print(parent1, parent2)\n",
    "    children = ga.population[parent1].crossover(ga.population[parent2])\n",
    "    #print(children[0].Chromosome)\n",
    "    #print(children[1].Chromosome)\n",
    "\n",
    "    new_population.append(children[0].mutation(mutation_probability))\n",
    "    new_population.append(children[1].mutation(mutation_probability))"
   ]
  },
  {
   "cell_type": "markdown",
   "metadata": {},
   "source": [
    "## Putting all together"
   ]
  },
  {
   "cell_type": "code",
   "execution_count": 71,
   "metadata": {},
   "outputs": [
    {
     "name": "stdout",
     "output_type": "stream",
     "text": [
      "[0.751, 8.99e-06, 0.4, 0.29, 0.2, 0.0035, 0.496, 0.0424, 0.0544, 0.0319, 0.635, 0.87, 0.498, 0.527]\n",
      "[999.9, 2199.12, 4346.99, 3999.9, 2999.0, 2499.9, 199.9, 308.66, 429.9, 299.29, 849.0, 1199.89, 1999.9, 3999.0]\n",
      "['Refrigerator A', 'Cell phone', 'TV 55', \"TV 50' \", \"TV 42' \", 'Notebook A', 'Ventilator', 'Microwave A', 'Microwave B', 'Microwave C', 'Refrigerator B', 'Refrigerator C', 'Notebook B', 'Notebook C']\n",
      "Generation:  0 Space:  2.17890899 Total price:  18673.71 Chromosome:  ['0', '1', '1', '0', '1', '1', '1', '0', '1', '0', '0', '0', '1', '1']\n",
      "Generation:  1 Space:  2.12630899 Total price:  19000.96 Chromosome:  ['0', '1', '1', '1', '1', '0', '0', '1', '0', '1', '1', '0', '0', '1']\n",
      "Generation:  2 Space:  2.5515089900000003 Total price:  21092.809999999998 Chromosome:  ['0', '1', '1', '1', '1', '1', '1', '0', '0', '0', '1', '0', '0', '1']\n",
      "Generation:  3 Space:  2.80650899 Total price:  21892.81 Chromosome:  ['1', '1', '1', '1', '1', '1', '0', '0', '0', '0', '1', '0', '0', '1']\n",
      "Generation:  4 Space:  2.6079089900000003 Total price:  23322.710000000003 Chromosome:  ['0', '1', '1', '1', '1', '1', '0', '0', '1', '0', '1', '0', '1', '1']\n",
      "Generation:  5 Space:  2.6483089900000003 Total price:  21831.370000000003 Chromosome:  ['0', '1', '1', '1', '1', '1', '1', '1', '1', '0', '1', '0', '0', '1']\n",
      "Generation:  6 Space:  2.6079089900000003 Total price:  23322.710000000003 Chromosome:  ['0', '1', '1', '1', '1', '1', '0', '0', '1', '0', '1', '0', '1', '1']\n",
      "Generation:  7 Space:  2.10990899 Total price:  21322.81 Chromosome:  ['0', '1', '1', '1', '1', '1', '0', '0', '1', '0', '1', '0', '0', '1']\n",
      "Generation:  8 Space:  1.97290899 Total price:  22473.710000000003 Chromosome:  ['0', '1', '1', '1', '1', '1', '0', '0', '1', '0', '0', '0', '1', '1']\n",
      "Generation:  9 Space:  1.97290899 Total price:  22473.710000000003 Chromosome:  ['0', '1', '1', '1', '1', '1', '0', '0', '1', '0', '0', '0', '1', '1']\n",
      "Generation:  10 Space:  2.51130899 Total price:  22982.270000000004 Chromosome:  ['0', '1', '1', '1', '1', '1', '1', '1', '1', '0', '0', '0', '1', '1']\n",
      "Generation:  11 Space:  2.8429089899999997 Total price:  23673.600000000002 Chromosome:  ['0', '1', '1', '1', '1', '1', '0', '0', '1', '0', '0', '1', '1', '1']\n",
      "Generation:  12 Space:  2.8429089899999997 Total price:  23673.600000000002 Chromosome:  ['0', '1', '1', '1', '1', '1', '0', '0', '1', '0', '0', '1', '1', '1']\n",
      "Generation:  13 Space:  2.8429089899999997 Total price:  23673.600000000002 Chromosome:  ['0', '1', '1', '1', '1', '1', '0', '0', '1', '0', '0', '1', '1', '1']\n",
      "Generation:  14 Space:  1.97290899 Total price:  22473.710000000003 Chromosome:  ['0', '1', '1', '1', '1', '1', '0', '0', '1', '0', '0', '0', '1', '1']\n",
      "Generation:  15 Space:  1.97290899 Total price:  22473.710000000003 Chromosome:  ['0', '1', '1', '1', '1', '1', '0', '0', '1', '0', '0', '0', '1', '1']\n",
      "Generation:  16 Space:  2.72390899 Total price:  23473.610000000004 Chromosome:  ['1', '1', '1', '1', '1', '1', '0', '0', '1', '0', '0', '0', '1', '1']\n",
      "Generation:  17 Space:  2.65030899 Total price:  23631.370000000003 Chromosome:  ['0', '1', '1', '1', '1', '1', '0', '1', '1', '0', '1', '0', '1', '1']\n",
      "Generation:  18 Space:  2.65030899 Total price:  23631.370000000003 Chromosome:  ['0', '1', '1', '1', '1', '1', '0', '1', '1', '0', '1', '0', '1', '1']\n",
      "Generation:  19 Space:  2.88530899 Total price:  23982.260000000002 Chromosome:  ['0', '1', '1', '1', '1', '1', '0', '1', '1', '0', '0', '1', '1', '1']\n",
      "Generation:  20 Space:  2.88530899 Total price:  23982.260000000002 Chromosome:  ['0', '1', '1', '1', '1', '1', '0', '1', '1', '0', '0', '1', '1', '1']\n",
      "Generation:  21 Space:  2.79820899 Total price:  24081.560000000005 Chromosome:  ['1', '1', '1', '1', '1', '1', '0', '1', '1', '1', '0', '0', '1', '1']\n",
      "Generation:  22 Space:  2.79820899 Total price:  24081.560000000005 Chromosome:  ['1', '1', '1', '1', '1', '1', '0', '1', '1', '1', '0', '0', '1', '1']\n",
      "Generation:  23 Space:  2.79820899 Total price:  24081.560000000005 Chromosome:  ['1', '1', '1', '1', '1', '1', '0', '1', '1', '1', '0', '0', '1', '1']\n",
      "Generation:  24 Space:  2.76630899 Total price:  23782.270000000004 Chromosome:  ['1', '1', '1', '1', '1', '1', '0', '1', '1', '0', '0', '0', '1', '1']\n",
      "Generation:  25 Space:  2.76630899 Total price:  23782.270000000004 Chromosome:  ['1', '1', '1', '1', '1', '1', '0', '1', '1', '0', '0', '0', '1', '1']\n",
      "Generation:  26 Space:  2.76630899 Total price:  23782.270000000004 Chromosome:  ['1', '1', '1', '1', '1', '1', '0', '1', '1', '0', '0', '0', '1', '1']\n",
      "Generation:  27 Space:  2.0472089899999997 Total price:  23081.660000000003 Chromosome:  ['0', '1', '1', '1', '1', '1', '0', '1', '1', '1', '0', '0', '1', '1']\n",
      "Generation:  28 Space:  2.8429089899999997 Total price:  23673.600000000002 Chromosome:  ['0', '1', '1', '1', '1', '1', '0', '0', '1', '0', '0', '1', '1', '1']\n",
      "Generation:  29 Space:  2.8429089899999997 Total price:  23673.600000000002 Chromosome:  ['0', '1', '1', '1', '1', '1', '0', '0', '1', '0', '0', '1', '1', '1']\n",
      "Generation:  30 Space:  2.88530899 Total price:  23982.260000000002 Chromosome:  ['0', '1', '1', '1', '1', '1', '0', '1', '1', '0', '0', '1', '1', '1']\n",
      "Generation:  31 Space:  2.88530899 Total price:  23982.260000000002 Chromosome:  ['0', '1', '1', '1', '1', '1', '0', '1', '1', '0', '0', '1', '1', '1']\n",
      "Generation:  32 Space:  2.76630899 Total price:  23782.270000000004 Chromosome:  ['1', '1', '1', '1', '1', '1', '0', '1', '1', '0', '0', '0', '1', '1']\n",
      "Generation:  33 Space:  2.76630899 Total price:  23782.270000000004 Chromosome:  ['1', '1', '1', '1', '1', '1', '0', '1', '1', '0', '0', '0', '1', '1']\n",
      "Generation:  34 Space:  2.88530899 Total price:  23982.260000000002 Chromosome:  ['0', '1', '1', '1', '1', '1', '0', '1', '1', '0', '0', '1', '1', '1']\n",
      "Generation:  35 Space:  2.76630899 Total price:  23782.270000000004 Chromosome:  ['1', '1', '1', '1', '1', '1', '0', '1', '1', '0', '0', '0', '1', '1']\n",
      "Generation:  36 Space:  2.76630899 Total price:  23782.270000000004 Chromosome:  ['1', '1', '1', '1', '1', '1', '0', '1', '1', '0', '0', '0', '1', '1']\n",
      "Generation:  37 Space:  2.76630899 Total price:  23782.270000000004 Chromosome:  ['1', '1', '1', '1', '1', '1', '0', '1', '1', '0', '0', '0', '1', '1']\n",
      "Generation:  38 Space:  2.88530899 Total price:  23982.260000000002 Chromosome:  ['0', '1', '1', '1', '1', '1', '0', '1', '1', '0', '0', '1', '1', '1']\n",
      "Generation:  39 Space:  2.88530899 Total price:  23982.260000000002 Chromosome:  ['0', '1', '1', '1', '1', '1', '0', '1', '1', '0', '0', '1', '1', '1']\n",
      "Generation:  40 Space:  2.88530899 Total price:  23982.260000000002 Chromosome:  ['0', '1', '1', '1', '1', '1', '0', '1', '1', '0', '0', '1', '1', '1']\n",
      "Generation:  41 Space:  2.76630899 Total price:  23782.270000000004 Chromosome:  ['1', '1', '1', '1', '1', '1', '0', '1', '1', '0', '0', '0', '1', '1']\n",
      "Generation:  42 Space:  2.76630899 Total price:  23782.270000000004 Chromosome:  ['1', '1', '1', '1', '1', '1', '0', '1', '1', '0', '0', '0', '1', '1']\n",
      "Generation:  43 Space:  2.6079089900000003 Total price:  23322.710000000003 Chromosome:  ['0', '1', '1', '1', '1', '1', '0', '0', '1', '0', '1', '0', '1', '1']\n",
      "Generation:  44 Space:  2.65030899 Total price:  23631.370000000003 Chromosome:  ['0', '1', '1', '1', '1', '1', '0', '1', '1', '0', '1', '0', '1', '1']\n",
      "Generation:  45 Space:  2.65030899 Total price:  23631.370000000003 Chromosome:  ['0', '1', '1', '1', '1', '1', '0', '1', '1', '0', '1', '0', '1', '1']\n",
      "Generation:  46 Space:  2.76630899 Total price:  23782.270000000004 Chromosome:  ['1', '1', '1', '1', '1', '1', '0', '1', '1', '0', '0', '0', '1', '1']\n",
      "Generation:  47 Space:  2.8429089899999997 Total price:  23673.600000000002 Chromosome:  ['0', '1', '1', '1', '1', '1', '0', '0', '1', '0', '0', '1', '1', '1']\n",
      "Generation:  48 Space:  2.76630899 Total price:  23782.270000000004 Chromosome:  ['1', '1', '1', '1', '1', '1', '0', '1', '1', '0', '0', '0', '1', '1']\n",
      "Generation:  49 Space:  2.76630899 Total price:  23782.270000000004 Chromosome:  ['1', '1', '1', '1', '1', '1', '0', '1', '1', '0', '0', '0', '1', '1']\n",
      "Generation:  50 Space:  2.76630899 Total price:  23782.270000000004 Chromosome:  ['1', '1', '1', '1', '1', '1', '0', '1', '1', '0', '0', '0', '1', '1']\n",
      "Generation:  51 Space:  2.01530899 Total price:  22782.370000000003 Chromosome:  ['0', '1', '1', '1', '1', '1', '0', '1', '1', '0', '0', '0', '1', '1']\n",
      "Generation:  52 Space:  2.01530899 Total price:  22782.370000000003 Chromosome:  ['0', '1', '1', '1', '1', '1', '0', '1', '1', '0', '0', '0', '1', '1']\n",
      "Generation:  53 Space:  2.51130899 Total price:  22982.270000000004 Chromosome:  ['0', '1', '1', '1', '1', '1', '1', '1', '1', '0', '0', '0', '1', '1']\n",
      "Generation:  54 Space:  2.01530899 Total price:  22782.370000000003 Chromosome:  ['0', '1', '1', '1', '1', '1', '0', '1', '1', '0', '0', '0', '1', '1']\n",
      "Generation:  55 Space:  2.01530899 Total price:  22782.370000000003 Chromosome:  ['0', '1', '1', '1', '1', '1', '0', '1', '1', '0', '0', '0', '1', '1']\n",
      "Generation:  56 Space:  2.88530899 Total price:  23982.260000000002 Chromosome:  ['0', '1', '1', '1', '1', '1', '0', '1', '1', '0', '0', '1', '1', '1']\n",
      "Generation:  57 Space:  2.88530899 Total price:  23982.260000000002 Chromosome:  ['0', '1', '1', '1', '1', '1', '0', '1', '1', '0', '0', '1', '1', '1']\n",
      "Generation:  58 Space:  2.88530899 Total price:  23982.260000000002 Chromosome:  ['0', '1', '1', '1', '1', '1', '0', '1', '1', '0', '0', '1', '1', '1']\n",
      "Generation:  59 Space:  2.65030899 Total price:  23631.370000000003 Chromosome:  ['0', '1', '1', '1', '1', '1', '0', '1', '1', '0', '1', '0', '1', '1']\n",
      "Generation:  60 Space:  2.65030899 Total price:  23631.370000000003 Chromosome:  ['0', '1', '1', '1', '1', '1', '0', '1', '1', '0', '1', '0', '1', '1']\n",
      "Generation:  61 Space:  2.88530899 Total price:  23982.260000000002 Chromosome:  ['0', '1', '1', '1', '1', '1', '0', '1', '1', '0', '0', '1', '1', '1']\n",
      "Generation:  62 Space:  2.88530899 Total price:  23982.260000000002 Chromosome:  ['0', '1', '1', '1', '1', '1', '0', '1', '1', '0', '0', '1', '1', '1']\n",
      "Generation:  63 Space:  2.88530899 Total price:  23982.260000000002 Chromosome:  ['0', '1', '1', '1', '1', '1', '0', '1', '1', '0', '0', '1', '1', '1']\n",
      "Generation:  64 Space:  2.88530899 Total price:  23982.260000000002 Chromosome:  ['0', '1', '1', '1', '1', '1', '0', '1', '1', '0', '0', '1', '1', '1']\n",
      "Generation:  65 Space:  2.88530899 Total price:  23982.260000000002 Chromosome:  ['0', '1', '1', '1', '1', '1', '0', '1', '1', '0', '0', '1', '1', '1']\n",
      "Generation:  66 Space:  2.88530899 Total price:  23982.260000000002 Chromosome:  ['0', '1', '1', '1', '1', '1', '0', '1', '1', '0', '0', '1', '1', '1']\n",
      "Generation:  67 Space:  2.88530899 Total price:  23982.260000000002 Chromosome:  ['0', '1', '1', '1', '1', '1', '0', '1', '1', '0', '0', '1', '1', '1']\n",
      "Generation:  68 Space:  2.68220899 Total price:  23930.660000000003 Chromosome:  ['0', '1', '1', '1', '1', '1', '0', '1', '1', '1', '1', '0', '1', '1']\n",
      "Generation:  69 Space:  2.88530899 Total price:  23982.260000000002 Chromosome:  ['0', '1', '1', '1', '1', '1', '0', '1', '1', '0', '0', '1', '1', '1']\n",
      "Generation:  70 Space:  2.8429089899999997 Total price:  23673.600000000002 Chromosome:  ['0', '1', '1', '1', '1', '1', '0', '0', '1', '0', '0', '1', '1', '1']\n",
      "Generation:  71 Space:  2.88530899 Total price:  23982.260000000002 Chromosome:  ['0', '1', '1', '1', '1', '1', '0', '1', '1', '0', '0', '1', '1', '1']\n",
      "Generation:  72 Space:  2.88530899 Total price:  23982.260000000002 Chromosome:  ['0', '1', '1', '1', '1', '1', '0', '1', '1', '0', '0', '1', '1', '1']\n",
      "Generation:  73 Space:  2.8429089899999997 Total price:  23673.600000000002 Chromosome:  ['0', '1', '1', '1', '1', '1', '0', '0', '1', '0', '0', '1', '1', '1']\n",
      "Generation:  74 Space:  2.8429089899999997 Total price:  23673.600000000002 Chromosome:  ['0', '1', '1', '1', '1', '1', '0', '0', '1', '0', '0', '1', '1', '1']\n",
      "Generation:  75 Space:  2.01530899 Total price:  22782.370000000003 Chromosome:  ['0', '1', '1', '1', '1', '1', '0', '1', '1', '0', '0', '0', '1', '1']\n",
      "Generation:  76 Space:  2.01530899 Total price:  22782.370000000003 Chromosome:  ['0', '1', '1', '1', '1', '1', '0', '1', '1', '0', '0', '0', '1', '1']\n",
      "Generation:  77 Space:  2.8429089899999997 Total price:  23673.600000000002 Chromosome:  ['0', '1', '1', '1', '1', '1', '0', '0', '1', '0', '0', '1', '1', '1']\n",
      "Generation:  78 Space:  2.8429089899999997 Total price:  23673.600000000002 Chromosome:  ['0', '1', '1', '1', '1', '1', '0', '0', '1', '0', '0', '1', '1', '1']\n",
      "Generation:  79 Space:  2.8429089899999997 Total price:  23673.600000000002 Chromosome:  ['0', '1', '1', '1', '1', '1', '0', '0', '1', '0', '0', '1', '1', '1']\n",
      "Generation:  80 Space:  2.8429089899999997 Total price:  23673.600000000002 Chromosome:  ['0', '1', '1', '1', '1', '1', '0', '0', '1', '0', '0', '1', '1', '1']\n",
      "Generation:  81 Space:  2.01530899 Total price:  22782.370000000003 Chromosome:  ['0', '1', '1', '1', '1', '1', '0', '1', '1', '0', '0', '0', '1', '1']\n",
      "Generation:  82 Space:  2.6079089900000003 Total price:  23322.710000000003 Chromosome:  ['0', '1', '1', '1', '1', '1', '0', '0', '1', '0', '1', '0', '1', '1']\n",
      "Generation:  83 Space:  2.6079089900000003 Total price:  23322.710000000003 Chromosome:  ['0', '1', '1', '1', '1', '1', '0', '0', '1', '0', '1', '0', '1', '1']\n",
      "Generation:  84 Space:  2.6079089900000003 Total price:  23322.710000000003 Chromosome:  ['0', '1', '1', '1', '1', '1', '0', '0', '1', '0', '1', '0', '1', '1']\n",
      "Generation:  85 Space:  2.6079089900000003 Total price:  23322.710000000003 Chromosome:  ['0', '1', '1', '1', '1', '1', '0', '0', '1', '0', '1', '0', '1', '1']\n",
      "Generation:  86 Space:  2.72390899 Total price:  23473.610000000004 Chromosome:  ['1', '1', '1', '1', '1', '1', '0', '0', '1', '0', '0', '0', '1', '1']\n",
      "Generation:  87 Space:  2.72390899 Total price:  23473.610000000004 Chromosome:  ['1', '1', '1', '1', '1', '1', '0', '0', '1', '0', '0', '0', '1', '1']\n",
      "Generation:  88 Space:  2.72390899 Total price:  23473.610000000004 Chromosome:  ['1', '1', '1', '1', '1', '1', '0', '0', '1', '0', '0', '0', '1', '1']\n",
      "Generation:  89 Space:  1.97290899 Total price:  22473.710000000003 Chromosome:  ['0', '1', '1', '1', '1', '1', '0', '0', '1', '0', '0', '0', '1', '1']\n",
      "Generation:  90 Space:  1.97290899 Total price:  22473.710000000003 Chromosome:  ['0', '1', '1', '1', '1', '1', '0', '0', '1', '0', '0', '0', '1', '1']\n",
      "Generation:  91 Space:  1.97290899 Total price:  22473.710000000003 Chromosome:  ['0', '1', '1', '1', '1', '1', '0', '0', '1', '0', '0', '0', '1', '1']\n",
      "Generation:  92 Space:  1.97290899 Total price:  22473.710000000003 Chromosome:  ['0', '1', '1', '1', '1', '1', '0', '0', '1', '0', '0', '0', '1', '1']\n",
      "Generation:  93 Space:  2.6079089900000003 Total price:  23322.710000000003 Chromosome:  ['0', '1', '1', '1', '1', '1', '0', '0', '1', '0', '1', '0', '1', '1']\n",
      "Generation:  94 Space:  2.6079089900000003 Total price:  23322.710000000003 Chromosome:  ['0', '1', '1', '1', '1', '1', '0', '0', '1', '0', '1', '0', '1', '1']\n",
      "Generation:  95 Space:  2.6079089900000003 Total price:  23322.710000000003 Chromosome:  ['0', '1', '1', '1', '1', '1', '0', '0', '1', '0', '1', '0', '1', '1']\n",
      "Generation:  96 Space:  2.00480899 Total price:  22773.000000000004 Chromosome:  ['0', '1', '1', '1', '1', '1', '0', '0', '1', '1', '0', '0', '1', '1']\n",
      "Generation:  97 Space:  2.6079089900000003 Total price:  23322.710000000003 Chromosome:  ['0', '1', '1', '1', '1', '1', '0', '0', '1', '0', '1', '0', '1', '1']\n",
      "Generation:  98 Space:  2.6079089900000003 Total price:  23322.710000000003 Chromosome:  ['0', '1', '1', '1', '1', '1', '0', '0', '1', '0', '1', '0', '1', '1']\n",
      "Generation:  99 Space:  2.6079089900000003 Total price:  23322.710000000003 Chromosome:  ['0', '1', '1', '1', '1', '1', '0', '0', '1', '0', '1', '0', '1', '1']\n",
      "Generation:  100 Space:  2.6398089899999997 Total price:  23622.000000000004 Chromosome:  ['0', '1', '1', '1', '1', '1', '0', '0', '1', '1', '1', '0', '1', '1']\n",
      "Generation:  21 Space:  2.79820899 Total price:  24081.560000000005 Chromosome:  ['1', '1', '1', '1', '1', '1', '0', '1', '1', '1', '0', '0', '1', '1']\n",
      "<__main__.Individual object at 0x00000171A7D082C0>\n"
     ]
    }
   ],
   "source": [
    "products_list = []\n",
    "products_list.append(Product('Refrigerator A', 0.751, 999.90))\n",
    "products_list.append(Product('Cell phone', 0.00000899, 2199.12))\n",
    "products_list.append(Product('TV 55', 0.400, 4346.99))\n",
    "products_list.append(Product(\"TV 50' \", 0.290, 3999.90))\n",
    "products_list.append(Product(\"TV 42' \", 0.200, 2999.00))\n",
    "products_list.append(Product(\"Notebook A\", 0.00350, 2499.90))\n",
    "products_list.append(Product(\"Ventilator\", 0.496, 199.90))\n",
    "products_list.append(Product(\"Microwave A\", 0.0424, 308.66))\n",
    "products_list.append(Product(\"Microwave B\", 0.0544, 429.90))\n",
    "products_list.append(Product(\"Microwave C\", 0.0319, 299.29))\n",
    "products_list.append(Product(\"Refrigerator B\", 0.635, 849.00))\n",
    "products_list.append(Product(\"Refrigerator C\", 0.870, 1199.89))\n",
    "products_list.append(Product(\"Notebook B\", 0.498, 1999.90))\n",
    "products_list.append(Product(\"Notebook C\", 0.527, 3999.00))\n",
    "\n",
    "\n",
    "spaces = []\n",
    "prices = []\n",
    "names = []\n",
    "\n",
    "for product in products_list:\n",
    "    spaces.append(product.space)\n",
    "    prices.append(product.price)\n",
    "    names.append(product.name)\n",
    "limit = 3\n",
    "\n",
    "print(spaces)\n",
    "print(prices)\n",
    "print(names)\n",
    "\n",
    "limit = 3\n",
    "population_size = 20\n",
    "mutation_probability = 0.01\n",
    "number_of_generations = 100\n",
    "\n",
    "ga = GeneticAlgorithm(population_size)\n",
    "result = ga.solve(mutation_probability, number_of_generations, spaces, prices, limit)\n",
    "print(result)"
   ]
  },
  {
   "cell_type": "code",
   "execution_count": 72,
   "metadata": {},
   "outputs": [
    {
     "name": "stdout",
     "output_type": "stream",
     "text": [
      "<__main__.Individual object at 0x00000171CA00DB80>\n",
      "<__main__.Individual object at 0x00000171A7CCAA50>\n",
      "<__main__.Individual object at 0x00000171CA0F17F0>\n",
      "<__main__.Individual object at 0x00000171A7CCAA80>\n",
      "<__main__.Individual object at 0x00000171A7D08A40>\n",
      "<__main__.Individual object at 0x00000171A7CC8DA0>\n",
      "<__main__.Individual object at 0x00000171A7CB4D10>\n",
      "<__main__.Individual object at 0x00000171A7D08E30>\n",
      "<__main__.Individual object at 0x00000171CA0DDA60>\n",
      "<__main__.Individual object at 0x00000171CA0F3A40>\n",
      "<__main__.Individual object at 0x00000171CA0F0B00>\n",
      "<__main__.Individual object at 0x00000171CA0F3F20>\n",
      "<__main__.Individual object at 0x00000171CA0F3500>\n",
      "<__main__.Individual object at 0x00000171A7D089E0>\n",
      "<__main__.Individual object at 0x00000171CA0F3F80>\n",
      "<__main__.Individual object at 0x00000171CA0F3DA0>\n",
      "<__main__.Individual object at 0x00000171CA0F1370>\n",
      "<__main__.Individual object at 0x00000171A7CCBE30>\n",
      "<__main__.Individual object at 0x00000171CA0F2330>\n",
      "<__main__.Individual object at 0x00000171C6C70200>\n",
      "<__main__.Individual object at 0x00000171CA0F2930>\n",
      "<__main__.Individual object at 0x00000171A7D082C0>\n",
      "<__main__.Individual object at 0x00000171A7D08410>\n",
      "<__main__.Individual object at 0x00000171A7CCBF50>\n",
      "<__main__.Individual object at 0x00000171CA0F1BB0>\n",
      "<__main__.Individual object at 0x00000171A7CC9700>\n",
      "<__main__.Individual object at 0x00000171C6ECE420>\n",
      "<__main__.Individual object at 0x00000171C6ECFAD0>\n",
      "<__main__.Individual object at 0x00000171A7D08440>\n",
      "<__main__.Individual object at 0x00000171A7CCA240>\n",
      "<__main__.Individual object at 0x00000171C6ECD280>\n",
      "<__main__.Individual object at 0x00000171C6ECD2B0>\n",
      "<__main__.Individual object at 0x00000171A7C15490>\n",
      "<__main__.Individual object at 0x00000171A7CCAB40>\n",
      "<__main__.Individual object at 0x00000171CA0F3B90>\n",
      "<__main__.Individual object at 0x00000171CA0613A0>\n",
      "<__main__.Individual object at 0x00000171CA00F140>\n",
      "<__main__.Individual object at 0x00000171CA0F21B0>\n",
      "<__main__.Individual object at 0x00000171C6ECD220>\n",
      "<__main__.Individual object at 0x00000171C6ECE540>\n",
      "<__main__.Individual object at 0x00000171C6ECD9D0>\n",
      "<__main__.Individual object at 0x00000171A7CC9610>\n",
      "<__main__.Individual object at 0x00000171CA0F2960>\n",
      "<__main__.Individual object at 0x00000171A7CCAB10>\n",
      "<__main__.Individual object at 0x00000171C6ECD1F0>\n",
      "<__main__.Individual object at 0x00000171C6ECFFE0>\n",
      "<__main__.Individual object at 0x00000171CA0616D0>\n",
      "<__main__.Individual object at 0x00000171CA0630B0>\n",
      "<__main__.Individual object at 0x00000171CA061A60>\n",
      "<__main__.Individual object at 0x00000171C6ECD520>\n",
      "<__main__.Individual object at 0x00000171A7D08140>\n",
      "<__main__.Individual object at 0x00000171A7D08CB0>\n",
      "<__main__.Individual object at 0x00000171C6ECD370>\n",
      "<__main__.Individual object at 0x00000171CA061BB0>\n",
      "<__main__.Individual object at 0x00000171CA0F1C40>\n",
      "<__main__.Individual object at 0x00000171A7CCB080>\n",
      "<__main__.Individual object at 0x00000171CA062B40>\n",
      "<__main__.Individual object at 0x00000171CA061820>\n",
      "<__main__.Individual object at 0x00000171A7D09220>\n",
      "<__main__.Individual object at 0x00000171C6C70CE0>\n",
      "<__main__.Individual object at 0x00000171CA0F0950>\n",
      "<__main__.Individual object at 0x00000171CA0612E0>\n",
      "<__main__.Individual object at 0x00000171CA0F1D30>\n",
      "<__main__.Individual object at 0x00000171CA062FC0>\n",
      "<__main__.Individual object at 0x00000171CA061AC0>\n",
      "<__main__.Individual object at 0x00000171CA061640>\n",
      "<__main__.Individual object at 0x00000171CA00D370>\n",
      "<__main__.Individual object at 0x00000171A7CCBDA0>\n",
      "<__main__.Individual object at 0x00000171CA0F3C80>\n",
      "<__main__.Individual object at 0x00000171CA01EB40>\n",
      "<__main__.Individual object at 0x00000171CA0632F0>\n",
      "<__main__.Individual object at 0x00000171CA0632C0>\n",
      "<__main__.Individual object at 0x00000171CA061670>\n",
      "<__main__.Individual object at 0x00000171CA061970>\n",
      "<__main__.Individual object at 0x00000171CA0619A0>\n",
      "<__main__.Individual object at 0x00000171CA063E30>\n",
      "<__main__.Individual object at 0x00000171CA063170>\n",
      "<__main__.Individual object at 0x00000171CA062540>\n",
      "<__main__.Individual object at 0x00000171CA061730>\n",
      "<__main__.Individual object at 0x00000171CA062840>\n",
      "<__main__.Individual object at 0x00000171CA01EEA0>\n",
      "<__main__.Individual object at 0x00000171CA063140>\n",
      "<__main__.Individual object at 0x00000171CA01E750>\n",
      "<__main__.Individual object at 0x00000171CA061340>\n",
      "<__main__.Individual object at 0x00000171CA01F6B0>\n",
      "<__main__.Individual object at 0x00000171CA0616A0>\n",
      "<__main__.Individual object at 0x00000171CA0617C0>\n",
      "<__main__.Individual object at 0x00000171CA0F12B0>\n",
      "<__main__.Individual object at 0x00000171CA01EDE0>\n",
      "<__main__.Individual object at 0x00000171CA0F1DC0>\n",
      "<__main__.Individual object at 0x00000171CA061430>\n",
      "<__main__.Individual object at 0x00000171CA061700>\n",
      "<__main__.Individual object at 0x00000171CA01DEE0>\n",
      "<__main__.Individual object at 0x00000171CA22CFE0>\n",
      "<__main__.Individual object at 0x00000171CA061B20>\n",
      "<__main__.Individual object at 0x00000171CA01C620>\n",
      "<__main__.Individual object at 0x00000171CA22E300>\n",
      "<__main__.Individual object at 0x00000171A7D08170>\n",
      "<__main__.Individual object at 0x00000171CA22D9A0>\n",
      "<__main__.Individual object at 0x00000171CA061850>\n",
      "<__main__.Individual object at 0x00000171CA01F740>\n"
     ]
    }
   ],
   "source": [
    "for value in ga.list_of_solutions:\n",
    "    print(value)"
   ]
  },
  {
   "cell_type": "code",
   "execution_count": 73,
   "metadata": {},
   "outputs": [
    {
     "data": {
      "image/png": "[encoded data removed]",
      "text/plain": [
       "<Figure size 640x480 with 1 Axes>"
      ]
     },
     "metadata": {},
     "output_type": "display_data"
    }
   ],
   "source": [
    "import matplotlib.pyplot as plt\n",
    "\n",
    "generations= []\n",
    "solutions = []\n",
    "\n",
    "for value in ga.list_of_solutions:\n",
    "    generations.append(value.generation)\n",
    "    solutions.append(value.score_evaluation)\n",
    "\n",
    "plt.plot(generations, solutions, marker='o', linestyle='-', color='b', label='Crecimiento')\n",
    "plt.xlabel('Generacion')\n",
    "plt.ylabel('Valor de la solucion')\n",
    "plt.title('Algoritmo genetico')\n",
    "plt.legend()\n",
    "plt.grid(True)\n",
    "plt.show()\n"
   ]
  },
  {
   "cell_type": "markdown",
   "metadata": {},
   "source": [
    "- https://github.com/DEAP/deap"
   ]
  }
 ],
 "metadata": {
  "kernelspec": {
   "display_name": "Python 3",
   "language": "python",
   "name": "python3"
  },
  "language_info": {
   "codemirror_mode": {
    "name": "ipython",
    "version": 3
   },
   "file_extension": ".py",
   "mimetype": "text/x-python",
   "name": "python",
   "nbconvert_exporter": "python",
   "pygments_lexer": "ipython3",
   "version": "3.12.4"
  }
 },
 "nbformat": 4,
 "nbformat_minor": 2
}
