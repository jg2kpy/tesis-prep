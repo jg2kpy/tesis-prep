{
 "cells": [
  {
   "cell_type": "markdown",
   "metadata": {},
   "source": [
    "# Genetic algorithms"
   ]
  },
  {
   "cell_type": "markdown",
   "metadata": {},
   "source": [
    "## Product class"
   ]
  },
  {
   "cell_type": "code",
   "execution_count": 1,
   "metadata": {},
   "outputs": [],
   "source": [
    "class Product():\n",
    "  def __init__(self, name, space, price):\n",
    "    self.name = name\n",
    "    self.space = space\n",
    "    self.price = price"
   ]
  },
  {
   "cell_type": "code",
   "execution_count": 2,
   "metadata": {},
   "outputs": [],
   "source": [
    "p1 = Product('Refrigerator A', 0.751, 999.9)"
   ]
  },
  {
   "cell_type": "code",
   "execution_count": 3,
   "metadata": {},
   "outputs": [
    {
     "data": {
      "text/plain": [
       "('Refrigerator A', 0.751, 999.9)"
      ]
     },
     "execution_count": 3,
     "metadata": {},
     "output_type": "execute_result"
    }
   ],
   "source": [
    "p1.name, p1.space, p1.price"
   ]
  },
  {
   "cell_type": "code",
   "execution_count": 4,
   "metadata": {},
   "outputs": [],
   "source": [
    "p2 = Product('Cell phone', 0.00000899, 2199.12)"
   ]
  },
  {
   "cell_type": "code",
   "execution_count": 5,
   "metadata": {},
   "outputs": [
    {
     "data": {
      "text/plain": [
       "('Cell phone', 8.99e-06, 2199.12)"
      ]
     },
     "execution_count": 5,
     "metadata": {},
     "output_type": "execute_result"
    }
   ],
   "source": [
    "p2.name, p2.space, p2.price"
   ]
  },
  {
   "cell_type": "code",
   "execution_count": 6,
   "metadata": {},
   "outputs": [],
   "source": [
    "products_list = []\n",
    "products_list.append(Product('Refrigerator A', 0.751, 999.90))\n",
    "products_list.append(Product('Cell phone', 0.00000899, 2199.12))\n",
    "products_list.append(Product('TV 55', 0.400, 4346.99))\n",
    "products_list.append(Product(\"TV 50' \", 0.290, 3999.90))\n",
    "products_list.append(Product(\"TV 42' \", 0.200, 2999.00))\n",
    "products_list.append(Product(\"Notebook A\", 0.00350, 2499.90))\n",
    "products_list.append(Product(\"Ventilator\", 0.496, 199.90))\n",
    "products_list.append(Product(\"Microwave A\", 0.0424, 308.66))\n",
    "products_list.append(Product(\"Microwave B\", 0.0544, 429.90))\n",
    "products_list.append(Product(\"Microwave C\", 0.0319, 299.29))\n",
    "products_list.append(Product(\"Refrigerator B\", 0.635, 849.00))\n",
    "products_list.append(Product(\"Refrigerator C\", 0.870, 1199.89))\n",
    "products_list.append(Product(\"Notebook B\", 0.498, 1999.90))\n",
    "products_list.append(Product(\"Notebook C\", 0.527, 3999.00))"
   ]
  },
  {
   "cell_type": "code",
   "execution_count": 7,
   "metadata": {},
   "outputs": [
    {
     "name": "stdout",
     "output_type": "stream",
     "text": [
      "Refrigerator A  -  999.9  -  0.751\n",
      "Cell phone  -  2199.12  -  8.99e-06\n",
      "TV 55  -  4346.99  -  0.4\n",
      "TV 50'   -  3999.9  -  0.29\n",
      "TV 42'   -  2999.0  -  0.2\n",
      "Notebook A  -  2499.9  -  0.0035\n",
      "Ventilator  -  199.9  -  0.496\n",
      "Microwave A  -  308.66  -  0.0424\n",
      "Microwave B  -  429.9  -  0.0544\n",
      "Microwave C  -  299.29  -  0.0319\n",
      "Refrigerator B  -  849.0  -  0.635\n",
      "Refrigerator C  -  1199.89  -  0.87\n",
      "Notebook B  -  1999.9  -  0.498\n",
      "Notebook C  -  3999.0  -  0.527\n"
     ]
    }
   ],
   "source": [
    "for product in products_list:\n",
    "  print(product.name, ' - ', product.price, ' - ', product.space)"
   ]
  },
  {
   "cell_type": "markdown",
   "metadata": {},
   "source": [
    "## Individual Class"
   ]
  },
  {
   "cell_type": "code",
   "execution_count": 8,
   "metadata": {},
   "outputs": [],
   "source": [
    "from random import random"
   ]
  },
  {
   "cell_type": "code",
   "execution_count": 9,
   "metadata": {},
   "outputs": [
    {
     "data": {
      "text/plain": [
       "0.18861729440202046"
      ]
     },
     "execution_count": 9,
     "metadata": {},
     "output_type": "execute_result"
    }
   ],
   "source": [
    "random()"
   ]
  },
  {
   "cell_type": "code",
   "execution_count": 10,
   "metadata": {},
   "outputs": [],
   "source": [
    "class Individual():\n",
    "    def __init__(self, spaces, prices, space_limit, generation=0):\n",
    "        self.spaces = spaces\n",
    "        self.prices = prices\n",
    "        self.space_limit = space_limit\n",
    "        self.generation = generation\n",
    "        self.Chromosome = []\n",
    "\n",
    "        self.score_evaluation = 0\n",
    "        self.used_space = 0\n",
    "\n",
    "        for i in range(len(spaces)):\n",
    "            if random() < 0.5:\n",
    "                self.Chromosome.append('0')\n",
    "            else:\n",
    "                self.Chromosome.append('1')\n",
    "\n",
    "    def fitness(self):\n",
    "        score = 0\n",
    "        sum_spaces = 0\n",
    "        for i in range(len(self.Chromosome)):\n",
    "            if self.Chromosome[i] == '1':\n",
    "                score += self.prices[i]\n",
    "                sum_spaces += self.spaces[i]\n",
    "        if sum_spaces > self.space_limit:\n",
    "            score = 1\n",
    "\n",
    "        self.score_evaluation = score\n",
    "        self.used_space = sum_spaces\n",
    "\n",
    "    def crossover(self, other_individual):\n",
    "        cutoff = round(random() * len(self.Chromosome))\n",
    "        #print(cutoff)\n",
    "\n",
    "        child1 = other_individual.Chromosome[0:cutoff] + self.Chromosome[cutoff::]\n",
    "        child2 = self.Chromosome[0:cutoff] + other_individual.Chromosome[cutoff::]\n",
    "\n",
    "        #print(child1)\n",
    "        #print(child2)\n",
    "\n",
    "        children = [Individual(self.spaces, self.prices, self.space_limit, self.generation + 1),\n",
    "                    Individual(self.spaces, self.prices, self.space_limit, self.generation + 1)]\n",
    "        children[0].Chromosome = child1\n",
    "        children[1].Chromosome = child2\n",
    "\n",
    "        return children\n",
    "\n",
    "    def mutation(self, rate):\n",
    "        #print('Before: ', self.Chromosome)\n",
    "        for i in range(len(self.Chromosome)):\n",
    "            if random() < rate:\n",
    "                if self.Chromosome[i] == '1':\n",
    "                    self.Chromosome[i] = '0'\n",
    "                else:\n",
    "                    self.Chromosome[i] = '1'\n",
    "        #print('After: ', self.Chromosome)\n",
    "        return self\n"
   ]
  },
  {
   "cell_type": "code",
   "execution_count": 11,
   "metadata": {},
   "outputs": [
    {
     "name": "stdout",
     "output_type": "stream",
     "text": [
      "[0.751, 8.99e-06, 0.4, 0.29, 0.2, 0.0035, 0.496, 0.0424, 0.0544, 0.0319, 0.635, 0.87, 0.498, 0.527]\n",
      "[999.9, 2199.12, 4346.99, 3999.9, 2999.0, 2499.9, 199.9, 308.66, 429.9, 299.29, 849.0, 1199.89, 1999.9, 3999.0]\n",
      "['Refrigerator A', 'Cell phone', 'TV 55', \"TV 50' \", \"TV 42' \", 'Notebook A', 'Ventilator', 'Microwave A', 'Microwave B', 'Microwave C', 'Refrigerator B', 'Refrigerator C', 'Notebook B', 'Notebook C']\n"
     ]
    }
   ],
   "source": [
    "spaces = []\n",
    "prices = []\n",
    "names = []\n",
    "\n",
    "for product in products_list:\n",
    "    spaces.append(product.space)\n",
    "    prices.append(product.price)\n",
    "    names.append(product.name)\n",
    "limit = 3\n",
    "\n",
    "print(spaces)\n",
    "print(prices)\n",
    "print(names)"
   ]
  },
  {
   "cell_type": "code",
   "execution_count": 12,
   "metadata": {},
   "outputs": [
    {
     "name": "stdout",
     "output_type": "stream",
     "text": [
      "Score:  1\n",
      "Used space:  4.1805\n",
      "Chromosome:  ['1', '0', '1', '0', '0', '1', '1', '0', '0', '0', '1', '1', '1', '1']\n"
     ]
    }
   ],
   "source": [
    "individual1 = Individual(spaces, prices, limit)\n",
    "individual1.fitness()\n",
    "\n",
    "print('Score: ', individual1.score_evaluation)\n",
    "print('Used space: ',individual1.used_space)\n",
    "print('Chromosome: ',individual1.Chromosome)"
   ]
  },
  {
   "cell_type": "code",
   "execution_count": 13,
   "metadata": {},
   "outputs": [
    {
     "name": "stdout",
     "output_type": "stream",
     "text": [
      "Score:  16431.760000000002\n",
      "Used space:  2.40470899\n",
      "Chromosome:  ['1', '1', '1', '1', '1', '0', '0', '1', '1', '1', '1', '0', '0', '0']\n"
     ]
    }
   ],
   "source": [
    "individual2 = Individual(spaces, prices, limit)\n",
    "individual2.fitness()\n",
    "\n",
    "print('Score: ', individual2.score_evaluation)\n",
    "print('Used space: ',individual2.used_space)\n",
    "print('Chromosome: ',individual2.Chromosome)"
   ]
  },
  {
   "cell_type": "code",
   "execution_count": 14,
   "metadata": {},
   "outputs": [
    {
     "name": "stdout",
     "output_type": "stream",
     "text": [
      "1\n",
      "['1', '1', '1', '1', '1', '0', '1', '0', '0', '0', '1', '1', '1', '1']\n",
      "9733.64\n",
      "['1', '0', '1', '0', '0', '1', '0', '1', '1', '1', '1', '0', '0', '0']\n"
     ]
    }
   ],
   "source": [
    "children = individual1.crossover(individual2)\n",
    "children[0].fitness()\n",
    "print(children[0].score_evaluation)\n",
    "print(children[0].Chromosome)\n",
    "children[1].fitness()\n",
    "print(children[1].score_evaluation)\n",
    "print(children[1].Chromosome)"
   ]
  },
  {
   "cell_type": "code",
   "execution_count": 15,
   "metadata": {},
   "outputs": [
    {
     "data": {
      "text/plain": [
       "<__main__.Individual at 0x1ca8c4c4cb0>"
      ]
     },
     "execution_count": 15,
     "metadata": {},
     "output_type": "execute_result"
    }
   ],
   "source": [
    "individual1.mutation(0.5)"
   ]
  },
  {
   "cell_type": "code",
   "execution_count": 16,
   "metadata": {},
   "outputs": [],
   "source": [
    "\n",
    "class GeneticAlgorithm():\n",
    "    def __init__(self, population_size):\n",
    "        self.population_size = population_size\n",
    "        self.population = []\n",
    "        self.generation = 0\n",
    "        self.best_solution = None\n",
    "        self.list_of_solutions = []\n",
    "\n",
    "    def initialize_population(self, spaces, prices, space_limit):\n",
    "        for i in range(self.population_size):\n",
    "            self.population.append(Individual(spaces, prices, space_limit))\n",
    "        self.best_solution = self.population[0]\n",
    "\n",
    "    def order_population(self):\n",
    "        self.population = sorted(self.population, key=lambda population: population.score_evaluation, reverse=True)\n",
    "\n",
    "    def best_individual(self, individual):\n",
    "        if individual.score_evaluation > self.best_solution.score_evaluation:\n",
    "            self.best_solution = individual\n",
    "\n",
    "    def sum_evaluations(self):\n",
    "        sum = 0\n",
    "\n",
    "        for individual in self.population:\n",
    "            sum += individual.score_evaluation\n",
    "        return sum\n",
    "\n",
    "    def visualize_generation(self):\n",
    "        best = self.population[0]\n",
    "        print('Generation: ', best.generation,\n",
    "              'Space: ', best.used_space,\n",
    "              'Total price: ', best.score_evaluation,\n",
    "              'Chromosome: ', best.Chromosome\n",
    "              )\n",
    "\n",
    "    def select_parents(self, sum_evaluation):\n",
    "        parent = -1\n",
    "        random_value = random() * sum_evaluation\n",
    "\n",
    "        sum = 0\n",
    "        i = 0\n",
    "        while i < len(self.population) and sum < random_value:\n",
    "            sum += self.population[i].score_evaluation\n",
    "            parent += 1\n",
    "            i += 1\n",
    "        return parent\n",
    "\n",
    "\n",
    "    def solve(self, mutation_probability, number_of_generations, spaces, prices, limit):\n",
    "        self.initialize_population(spaces, prices, limit)\n",
    "        for individual in self.population:\n",
    "            individual.fitness()\n",
    "        self.order_population()\n",
    "        self.best_solution = self.population[0]\n",
    "        self.list_of_solutions.append(self.best_solution)\n",
    "\n",
    "        self.visualize_generation()\n",
    "        for generation in range(number_of_generations):\n",
    "            sum = self.sum_evaluations()\n",
    "            new_population = []\n",
    "            for new_individuals in range(0, self.population_size, 2):\n",
    "                parent1 = self.select_parents(sum)\n",
    "                parent2 = self.select_parents(sum)\n",
    "\n",
    "                children = self.population[parent1].crossover(self.population[parent2])\n",
    "                new_population.append(children[0].mutation(mutation_probability))\n",
    "                new_population.append(children[1].mutation(mutation_probability))\n",
    "\n",
    "            self.population = list(new_population)\n",
    "\n",
    "            for individual in self.population:\n",
    "                individual.fitness()\n",
    "            self.order_population()\n",
    "            best = self.population[0]\n",
    "            self.list_of_solutions.append(best)\n",
    "            self.best_individual(best)\n",
    "            self.visualize_generation()\n",
    "\n",
    "        print('Generation: ', self.best_solution.generation,\n",
    "                'Space: ', self.best_solution.used_space,\n",
    "                'Total price: ', self.best_solution.score_evaluation,\n",
    "                'Chromosome: ', self.best_solution.Chromosome\n",
    "                )\n",
    "        return self.best_solution\n"
   ]
  },
  {
   "cell_type": "code",
   "execution_count": 17,
   "metadata": {},
   "outputs": [
    {
     "name": "stdout",
     "output_type": "stream",
     "text": [
      "['0', '1', '1', '0', '1', '1', '0', '1', '1', '0', '1', '1', '0', '1']\n",
      "18831.46\n",
      "['0', '1', '0', '1', '1', '1', '0', '1', '1', '1', '1', '1', '0', '1']\n",
      "18783.66\n",
      "['1', '1', '1', '0', '1', '1', '0', '1', '1', '1', '0', '1', '1', '0']\n",
      "17282.55\n",
      "['1', '1', '1', '1', '0', '1', '0', '1', '1', '1', '0', '1', '0', '0']\n",
      "16283.55\n",
      "['0', '1', '0', '0', '1', '1', '0', '0', '1', '1', '1', '0', '1', '1']\n",
      "15275.11\n",
      "['0', '1', '0', '0', '1', '1', '0', '0', '1', '1', '0', '0', '1', '1']\n",
      "14426.11\n",
      "['1', '0', '1', '1', '0', '1', '0', '0', '1', '0', '0', '0', '1', '0']\n",
      "14276.489999999998\n",
      "['0', '1', '1', '1', '1', '0', '1', '0', '1', '0', '0', '0', '0', '0']\n",
      "14174.81\n",
      "['0', '1', '0', '1', '1', '0', '0', '0', '0', '1', '1', '1', '1', '0']\n",
      "13546.1\n",
      "['0', '1', '0', '0', '1', '0', '1', '0', '0', '1', '0', '1', '1', '1']\n",
      "12896.1\n",
      "['1', '0', '1', '1', '0', '0', '1', '0', '0', '1', '0', '1', '0', '0']\n",
      "11045.869999999999\n",
      "['0', '1', '0', '1', '0', '0', '0', '0', '1', '1', '1', '1', '1', '0']\n",
      "10977.0\n",
      "['1', '0', '1', '1', '0', '0', '0', '0', '1', '0', '1', '0', '0', '0']\n",
      "10625.689999999999\n",
      "['1', '1', '0', '0', '1', '1', '0', '1', '0', '1', '0', '1', '0', '0']\n",
      "10505.76\n",
      "['0', '0', '0', '0', '0', '1', '0', '0', '1', '1', '0', '0', '0', '1']\n",
      "7228.09\n",
      "['0', '1', '0', '0', '0', '1', '0', '1', '1', '1', '1', '0', '0', '0']\n",
      "6585.87\n",
      "['0', '0', '0', '0', '0', '0', '0', '1', '1', '1', '0', '0', '0', '1']\n",
      "5036.85\n",
      "['1', '1', '0', '1', '0', '0', '0', '0', '0', '0', '1', '1', '1', '1']\n",
      "1\n",
      "['1', '1', '1', '0', '1', '0', '1', '1', '0', '0', '0', '1', '1', '0']\n",
      "1\n",
      "['1', '1', '1', '0', '1', '0', '0', '1', '0', '1', '0', '1', '1', '1']\n",
      "1\n"
     ]
    }
   ],
   "source": [
    "population_size = 20\n",
    "ga = GeneticAlgorithm(population_size)\n",
    "ga.initialize_population(spaces, prices, limit)\n",
    "\n",
    "for individual in ga.population:\n",
    "    individual.fitness()\n",
    "\n",
    "ga.order_population()\n",
    "\n",
    "for individual in ga.population:\n",
    "    print(individual.Chromosome)\n",
    "    print(individual.score_evaluation)"
   ]
  },
  {
   "cell_type": "code",
   "execution_count": 18,
   "metadata": {},
   "outputs": [
    {
     "data": {
      "text/plain": [
       "18831.46"
      ]
     },
     "execution_count": 18,
     "metadata": {},
     "output_type": "execute_result"
    }
   ],
   "source": [
    "ga.best_individual(ga.population[0])\n",
    "ga.best_solution.score_evaluation"
   ]
  },
  {
   "cell_type": "code",
   "execution_count": 19,
   "metadata": {},
   "outputs": [
    {
     "name": "stdout",
     "output_type": "stream",
     "text": [
      "217784.07\n"
     ]
    }
   ],
   "source": [
    "sum = ga.sum_evaluations()\n",
    "print(sum)"
   ]
  },
  {
   "cell_type": "code",
   "execution_count": 20,
   "metadata": {},
   "outputs": [
    {
     "name": "stdout",
     "output_type": "stream",
     "text": [
      "16\n",
      "9\n"
     ]
    }
   ],
   "source": [
    "parent1 = ga.select_parents(sum)\n",
    "print(parent1)\n",
    "\n",
    "parent2 = ga.select_parents(sum)\n",
    "print(parent2)\n"
   ]
  },
  {
   "cell_type": "code",
   "execution_count": 21,
   "metadata": {},
   "outputs": [],
   "source": [
    "new_population = []\n",
    "mutation_probability = 0.01\n",
    "for new_individuals in range(0 ,ga.population_size, 2):\n",
    "    # print(new_individuals)\n",
    "    parent1 = ga.select_parents(sum)\n",
    "    parent2 = ga.select_parents(sum)\n",
    "    #print(parent1, parent2)\n",
    "    children = ga.population[parent1].crossover(ga.population[parent2])\n",
    "    #print(children[0].Chromosome)\n",
    "    #print(children[1].Chromosome)\n",
    "\n",
    "    new_population.append(children[0].mutation(mutation_probability))\n",
    "    new_population.append(children[1].mutation(mutation_probability))"
   ]
  },
  {
   "cell_type": "markdown",
   "metadata": {},
   "source": [
    "## Putting all together"
   ]
  },
  {
   "cell_type": "code",
   "execution_count": 22,
   "metadata": {},
   "outputs": [
    {
     "name": "stdout",
     "output_type": "stream",
     "text": [
      "[0.751, 8.99e-06, 0.4, 0.29, 0.2, 0.0035, 0.496, 0.0424, 0.0544, 0.0319, 0.635, 0.87, 0.498, 0.527]\n",
      "[999.9, 2199.12, 4346.99, 3999.9, 2999.0, 2499.9, 199.9, 308.66, 429.9, 299.29, 849.0, 1199.89, 1999.9, 3999.0]\n",
      "['Refrigerator A', 'Cell phone', 'TV 55', \"TV 50' \", \"TV 42' \", 'Notebook A', 'Ventilator', 'Microwave A', 'Microwave B', 'Microwave C', 'Refrigerator B', 'Refrigerator C', 'Notebook B', 'Notebook C']\n",
      "Generation:  0 Space:  2.34320899 Total price:  20282.559999999998 Chromosome:  ['0', '1', '1', '1', '0', '1', '1', '1', '1', '1', '0', '0', '1', '1']\n",
      "Generation:  1 Space:  2.7998089900000003 Total price:  19701.75 Chromosome:  ['0', '1', '1', '1', '0', '1', '0', '1', '0', '1', '1', '1', '0', '1']\n",
      "Generation:  2 Space:  2.60880899 Total price:  19822.9 Chromosome:  ['0', '1', '1', '1', '1', '1', '1', '0', '1', '1', '1', '0', '1', '0']\n",
      "Generation:  3 Space:  2.60880899 Total price:  19822.9 Chromosome:  ['0', '1', '1', '1', '1', '1', '1', '0', '1', '1', '1', '0', '1', '0']\n",
      "Generation:  4 Space:  2.3854089899999997 Total price:  20193.1 Chromosome:  ['0', '1', '1', '1', '0', '1', '0', '0', '0', '1', '1', '0', '1', '1']\n",
      "Generation:  5 Space:  2.5854089900000004 Total price:  23192.100000000002 Chromosome:  ['0', '1', '1', '1', '1', '1', '0', '0', '0', '1', '1', '0', '1', '1']\n",
      "Generation:  6 Space:  2.50080899 Total price:  22972.9 Chromosome:  ['0', '1', '1', '1', '1', '1', '1', '0', '1', '1', '0', '0', '1', '1']\n",
      "Generation:  7 Space:  2.54320899 Total price:  23281.560000000005 Chromosome:  ['0', '1', '1', '1', '1', '1', '1', '1', '1', '1', '0', '0', '1', '1']\n",
      "Generation:  8 Space:  2.50080899 Total price:  22972.9 Chromosome:  ['0', '1', '1', '1', '1', '1', '1', '0', '1', '1', '0', '0', '1', '1']\n",
      "Generation:  9 Space:  2.5008 Total price:  20773.78 Chromosome:  ['0', '0', '1', '1', '1', '1', '1', '0', '1', '1', '0', '0', '1', '1']\n",
      "Generation:  10 Space:  2.9284089900000003 Total price:  20392.99 Chromosome:  ['0', '1', '1', '1', '1', '1', '0', '0', '0', '1', '1', '1', '1', '0']\n",
      "Generation:  11 Space:  2.6398089899999997 Total price:  23622.000000000004 Chromosome:  ['0', '1', '1', '1', '1', '1', '0', '0', '1', '1', '1', '0', '1', '1']\n",
      "Generation:  12 Space:  2.8438089900000003 Total price:  20173.79 Chromosome:  ['0', '1', '1', '1', '1', '1', '1', '0', '1', '1', '0', '1', '1', '0']\n",
      "Generation:  13 Space:  2.8438089900000003 Total price:  20173.79 Chromosome:  ['0', '1', '1', '1', '1', '1', '1', '0', '1', '1', '0', '1', '1', '0']\n",
      "Generation:  14 Space:  2.60880899 Total price:  19822.9 Chromosome:  ['0', '1', '1', '1', '1', '1', '1', '0', '1', '1', '1', '0', '1', '0']\n",
      "Generation:  15 Space:  2.60880899 Total price:  19822.9 Chromosome:  ['0', '1', '1', '1', '1', '1', '1', '0', '1', '1', '1', '0', '1', '0']\n",
      "Generation:  16 Space:  2.8438089900000003 Total price:  20173.79 Chromosome:  ['0', '1', '1', '1', '1', '1', '1', '0', '1', '1', '0', '1', '1', '0']\n",
      "Generation:  17 Space:  2.34780899 Total price:  19973.890000000003 Chromosome:  ['0', '1', '1', '1', '1', '1', '0', '0', '1', '1', '0', '1', '1', '0']\n",
      "Generation:  18 Space:  2.34780899 Total price:  19973.890000000003 Chromosome:  ['0', '1', '1', '1', '1', '1', '0', '0', '1', '1', '0', '1', '1', '0']\n",
      "Generation:  19 Space:  2.34780899 Total price:  19973.890000000003 Chromosome:  ['0', '1', '1', '1', '1', '1', '0', '0', '1', '1', '0', '1', '1', '0']\n",
      "Generation:  20 Space:  2.50080899 Total price:  22972.9 Chromosome:  ['0', '1', '1', '1', '1', '1', '1', '0', '1', '1', '0', '0', '1', '1']\n",
      "Generation:  21 Space:  2.6079089900000003 Total price:  23322.710000000003 Chromosome:  ['0', '1', '1', '1', '1', '1', '0', '0', '1', '0', '1', '0', '1', '1']\n",
      "Generation:  22 Space:  2.6079089900000003 Total price:  23322.710000000003 Chromosome:  ['0', '1', '1', '1', '1', '1', '0', '0', '1', '0', '1', '0', '1', '1']\n",
      "Generation:  23 Space:  2.65030899 Total price:  23631.370000000003 Chromosome:  ['0', '1', '1', '1', '1', '1', '0', '1', '1', '0', '1', '0', '1', '1']\n",
      "Generation:  24 Space:  2.65030899 Total price:  23631.370000000003 Chromosome:  ['0', '1', '1', '1', '1', '1', '0', '1', '1', '0', '1', '0', '1', '1']\n",
      "Generation:  25 Space:  2.65030899 Total price:  23631.370000000003 Chromosome:  ['0', '1', '1', '1', '1', '1', '0', '1', '1', '0', '1', '0', '1', '1']\n",
      "Generation:  26 Space:  2.65030899 Total price:  23631.370000000003 Chromosome:  ['0', '1', '1', '1', '1', '1', '0', '1', '1', '0', '1', '0', '1', '1']\n",
      "Generation:  27 Space:  2.68220899 Total price:  23930.660000000003 Chromosome:  ['0', '1', '1', '1', '1', '1', '0', '1', '1', '1', '1', '0', '1', '1']\n",
      "Generation:  28 Space:  2.65030899 Total price:  23631.370000000003 Chromosome:  ['0', '1', '1', '1', '1', '1', '0', '1', '1', '0', '1', '0', '1', '1']\n",
      "Generation:  29 Space:  2.65030899 Total price:  23631.370000000003 Chromosome:  ['0', '1', '1', '1', '1', '1', '0', '1', '1', '0', '1', '0', '1', '1']\n",
      "Generation:  30 Space:  2.65030899 Total price:  23631.370000000003 Chromosome:  ['0', '1', '1', '1', '1', '1', '0', '1', '1', '0', '1', '0', '1', '1']\n",
      "Generation:  31 Space:  2.65030899 Total price:  23631.370000000003 Chromosome:  ['0', '1', '1', '1', '1', '1', '0', '1', '1', '0', '1', '0', '1', '1']\n",
      "Generation:  32 Space:  2.65030899 Total price:  23631.370000000003 Chromosome:  ['0', '1', '1', '1', '1', '1', '0', '1', '1', '0', '1', '0', '1', '1']\n",
      "Generation:  33 Space:  2.65030899 Total price:  23631.370000000003 Chromosome:  ['0', '1', '1', '1', '1', '1', '0', '1', '1', '0', '1', '0', '1', '1']\n",
      "Generation:  34 Space:  2.12330899 Total price:  19632.370000000003 Chromosome:  ['0', '1', '1', '1', '1', '1', '0', '1', '1', '0', '1', '0', '1', '0']\n",
      "Generation:  35 Space:  2.6193089900000004 Total price:  19832.270000000004 Chromosome:  ['0', '1', '1', '1', '1', '1', '1', '1', '1', '0', '1', '0', '1', '0']\n",
      "Generation:  36 Space:  2.6193089900000004 Total price:  19832.270000000004 Chromosome:  ['0', '1', '1', '1', '1', '1', '1', '1', '1', '0', '1', '0', '1', '0']\n",
      "Generation:  37 Space:  2.65030899 Total price:  23631.370000000003 Chromosome:  ['0', '1', '1', '1', '1', '1', '0', '1', '1', '0', '1', '0', '1', '1']\n",
      "Generation:  38 Space:  2.65030899 Total price:  23631.370000000003 Chromosome:  ['0', '1', '1', '1', '1', '1', '0', '1', '1', '0', '1', '0', '1', '1']\n",
      "Generation:  39 Space:  2.68220899 Total price:  23930.660000000003 Chromosome:  ['0', '1', '1', '1', '1', '1', '0', '1', '1', '1', '1', '0', '1', '1']\n",
      "Generation:  40 Space:  2.65030899 Total price:  23631.370000000003 Chromosome:  ['0', '1', '1', '1', '1', '1', '0', '1', '1', '0', '1', '0', '1', '1']\n",
      "Generation:  41 Space:  2.65030899 Total price:  23631.370000000003 Chromosome:  ['0', '1', '1', '1', '1', '1', '0', '1', '1', '0', '1', '0', '1', '1']\n",
      "Generation:  42 Space:  2.65030899 Total price:  23631.370000000003 Chromosome:  ['0', '1', '1', '1', '1', '1', '0', '1', '1', '0', '1', '0', '1', '1']\n",
      "Generation:  43 Space:  2.65030899 Total price:  23631.370000000003 Chromosome:  ['0', '1', '1', '1', '1', '1', '0', '1', '1', '0', '1', '0', '1', '1']\n",
      "Generation:  44 Space:  2.65030899 Total price:  23631.370000000003 Chromosome:  ['0', '1', '1', '1', '1', '1', '0', '1', '1', '0', '1', '0', '1', '1']\n",
      "Generation:  45 Space:  2.65030899 Total price:  23631.370000000003 Chromosome:  ['0', '1', '1', '1', '1', '1', '0', '1', '1', '0', '1', '0', '1', '1']\n",
      "Generation:  46 Space:  2.01530899 Total price:  22782.370000000003 Chromosome:  ['0', '1', '1', '1', '1', '1', '0', '1', '1', '0', '0', '0', '1', '1']\n",
      "Generation:  47 Space:  2.6079089900000003 Total price:  23322.710000000003 Chromosome:  ['0', '1', '1', '1', '1', '1', '0', '0', '1', '0', '1', '0', '1', '1']\n",
      "Generation:  48 Space:  2.6079089900000003 Total price:  23322.710000000003 Chromosome:  ['0', '1', '1', '1', '1', '1', '0', '0', '1', '0', '1', '0', '1', '1']\n",
      "Generation:  49 Space:  2.6079089900000003 Total price:  23322.710000000003 Chromosome:  ['0', '1', '1', '1', '1', '1', '0', '0', '1', '0', '1', '0', '1', '1']\n",
      "Generation:  50 Space:  2.65030899 Total price:  23631.370000000003 Chromosome:  ['0', '1', '1', '1', '1', '1', '0', '1', '1', '0', '1', '0', '1', '1']\n",
      "Generation:  51 Space:  2.6079089900000003 Total price:  23322.710000000003 Chromosome:  ['0', '1', '1', '1', '1', '1', '0', '0', '1', '0', '1', '0', '1', '1']\n",
      "Generation:  52 Space:  2.6483089900000003 Total price:  21831.370000000003 Chromosome:  ['0', '1', '1', '1', '1', '1', '1', '1', '1', '0', '1', '0', '0', '1']\n",
      "Generation:  53 Space:  2.6483089900000003 Total price:  21831.370000000003 Chromosome:  ['0', '1', '1', '1', '1', '1', '1', '1', '1', '0', '1', '0', '0', '1']\n",
      "Generation:  54 Space:  2.6483089900000003 Total price:  21831.370000000003 Chromosome:  ['0', '1', '1', '1', '1', '1', '1', '1', '1', '0', '1', '0', '0', '1']\n",
      "Generation:  55 Space:  2.6483089900000003 Total price:  21831.370000000003 Chromosome:  ['0', '1', '1', '1', '1', '1', '1', '1', '1', '0', '1', '0', '0', '1']\n",
      "Generation:  56 Space:  2.6079089900000003 Total price:  23322.710000000003 Chromosome:  ['0', '1', '1', '1', '1', '1', '0', '0', '1', '0', '1', '0', '1', '1']\n",
      "Generation:  57 Space:  2.6079089900000003 Total price:  23322.710000000003 Chromosome:  ['0', '1', '1', '1', '1', '1', '0', '0', '1', '0', '1', '0', '1', '1']\n",
      "Generation:  58 Space:  2.6483089900000003 Total price:  21831.370000000003 Chromosome:  ['0', '1', '1', '1', '1', '1', '1', '1', '1', '0', '1', '0', '0', '1']\n",
      "Generation:  59 Space:  2.6483089900000003 Total price:  21831.370000000003 Chromosome:  ['0', '1', '1', '1', '1', '1', '1', '1', '1', '0', '1', '0', '0', '1']\n",
      "Generation:  60 Space:  2.1842089899999997 Total price:  21930.760000000002 Chromosome:  ['0', '1', '1', '1', '1', '1', '0', '1', '1', '1', '1', '0', '0', '1']\n",
      "Generation:  61 Space:  2.1842089899999997 Total price:  21930.760000000002 Chromosome:  ['0', '1', '1', '1', '1', '1', '0', '1', '1', '1', '1', '0', '0', '1']\n",
      "Generation:  62 Space:  2.65030899 Total price:  23631.370000000003 Chromosome:  ['0', '1', '1', '1', '1', '1', '0', '1', '1', '0', '1', '0', '1', '1']\n",
      "Generation:  63 Space:  2.65030899 Total price:  23631.370000000003 Chromosome:  ['0', '1', '1', '1', '1', '1', '0', '1', '1', '0', '1', '0', '1', '1']\n",
      "Generation:  64 Space:  2.90330899 Total price:  22631.370000000003 Chromosome:  ['1', '1', '1', '1', '1', '1', '0', '1', '1', '0', '1', '0', '0', '1']\n",
      "Generation:  65 Space:  2.1842089899999997 Total price:  21930.760000000002 Chromosome:  ['0', '1', '1', '1', '1', '1', '0', '1', '1', '1', '1', '0', '0', '1']\n",
      "Generation:  66 Space:  2.68220899 Total price:  23930.660000000003 Chromosome:  ['0', '1', '1', '1', '1', '1', '0', '1', '1', '1', '1', '0', '1', '1']\n",
      "Generation:  67 Space:  2.68220899 Total price:  23930.660000000003 Chromosome:  ['0', '1', '1', '1', '1', '1', '0', '1', '1', '1', '1', '0', '1', '1']\n",
      "Generation:  68 Space:  2.68220899 Total price:  23930.660000000003 Chromosome:  ['0', '1', '1', '1', '1', '1', '0', '1', '1', '1', '1', '0', '1', '1']\n",
      "Generation:  69 Space:  2.65030899 Total price:  23631.370000000003 Chromosome:  ['0', '1', '1', '1', '1', '1', '0', '1', '1', '0', '1', '0', '1', '1']\n",
      "Generation:  70 Space:  2.90330899 Total price:  22631.370000000003 Chromosome:  ['1', '1', '1', '1', '1', '1', '0', '1', '1', '0', '1', '0', '0', '1']\n",
      "Generation:  71 Space:  2.9352089900000005 Total price:  22930.660000000003 Chromosome:  ['1', '1', '1', '1', '1', '1', '0', '1', '1', '1', '1', '0', '0', '1']\n",
      "Generation:  72 Space:  2.9352089900000005 Total price:  22930.660000000003 Chromosome:  ['1', '1', '1', '1', '1', '1', '0', '1', '1', '1', '1', '0', '0', '1']\n",
      "Generation:  73 Space:  2.90330899 Total price:  22631.370000000003 Chromosome:  ['1', '1', '1', '1', '1', '1', '0', '1', '1', '0', '1', '0', '0', '1']\n",
      "Generation:  74 Space:  2.90330899 Total price:  22631.370000000003 Chromosome:  ['1', '1', '1', '1', '1', '1', '0', '1', '1', '0', '1', '0', '0', '1']\n",
      "Generation:  75 Space:  2.9352089900000005 Total price:  22930.660000000003 Chromosome:  ['1', '1', '1', '1', '1', '1', '0', '1', '1', '1', '1', '0', '0', '1']\n",
      "Generation:  76 Space:  2.9352089900000005 Total price:  22930.660000000003 Chromosome:  ['1', '1', '1', '1', '1', '1', '0', '1', '1', '1', '1', '0', '0', '1']\n",
      "Generation:  77 Space:  2.9352089900000005 Total price:  22930.660000000003 Chromosome:  ['1', '1', '1', '1', '1', '1', '0', '1', '1', '1', '1', '0', '0', '1']\n",
      "Generation:  78 Space:  2.9352089900000005 Total price:  22930.660000000003 Chromosome:  ['1', '1', '1', '1', '1', '1', '0', '1', '1', '1', '1', '0', '0', '1']\n",
      "Generation:  79 Space:  2.9352089900000005 Total price:  22930.660000000003 Chromosome:  ['1', '1', '1', '1', '1', '1', '0', '1', '1', '1', '1', '0', '0', '1']\n",
      "Generation:  80 Space:  2.76630899 Total price:  23782.270000000004 Chromosome:  ['1', '1', '1', '1', '1', '1', '0', '1', '1', '0', '0', '0', '1', '1']\n",
      "Generation:  81 Space:  2.76630899 Total price:  23782.270000000004 Chromosome:  ['1', '1', '1', '1', '1', '1', '0', '1', '1', '0', '0', '0', '1', '1']\n",
      "Generation:  82 Space:  2.76630899 Total price:  23782.270000000004 Chromosome:  ['1', '1', '1', '1', '1', '1', '0', '1', '1', '0', '0', '0', '1', '1']\n",
      "Generation:  83 Space:  2.76630899 Total price:  23782.270000000004 Chromosome:  ['1', '1', '1', '1', '1', '1', '0', '1', '1', '0', '0', '0', '1', '1']\n",
      "Generation:  84 Space:  2.9352089900000005 Total price:  22930.660000000003 Chromosome:  ['1', '1', '1', '1', '1', '1', '0', '1', '1', '1', '1', '0', '0', '1']\n",
      "Generation:  85 Space:  2.9352089900000005 Total price:  22930.660000000003 Chromosome:  ['1', '1', '1', '1', '1', '1', '0', '1', '1', '1', '1', '0', '0', '1']\n",
      "Generation:  86 Space:  2.9352089900000005 Total price:  22930.660000000003 Chromosome:  ['1', '1', '1', '1', '1', '1', '0', '1', '1', '1', '1', '0', '0', '1']\n",
      "Generation:  87 Space:  2.9352089900000005 Total price:  22930.660000000003 Chromosome:  ['1', '1', '1', '1', '1', '1', '0', '1', '1', '1', '1', '0', '0', '1']\n",
      "Generation:  88 Space:  2.9352089900000005 Total price:  22930.660000000003 Chromosome:  ['1', '1', '1', '1', '1', '1', '0', '1', '1', '1', '1', '0', '0', '1']\n",
      "Generation:  89 Space:  2.9352089900000005 Total price:  22930.660000000003 Chromosome:  ['1', '1', '1', '1', '1', '1', '0', '1', '1', '1', '1', '0', '0', '1']\n",
      "Generation:  90 Space:  2.9352089900000005 Total price:  22930.660000000003 Chromosome:  ['1', '1', '1', '1', '1', '1', '0', '1', '1', '1', '1', '0', '0', '1']\n",
      "Generation:  91 Space:  2.9352089900000005 Total price:  22930.660000000003 Chromosome:  ['1', '1', '1', '1', '1', '1', '0', '1', '1', '1', '1', '0', '0', '1']\n",
      "Generation:  92 Space:  2.9352089900000005 Total price:  22930.660000000003 Chromosome:  ['1', '1', '1', '1', '1', '1', '0', '1', '1', '1', '1', '0', '0', '1']\n",
      "Generation:  93 Space:  2.9352089900000005 Total price:  22930.660000000003 Chromosome:  ['1', '1', '1', '1', '1', '1', '0', '1', '1', '1', '1', '0', '0', '1']\n",
      "Generation:  94 Space:  2.90330899 Total price:  22631.370000000003 Chromosome:  ['1', '1', '1', '1', '1', '1', '0', '1', '1', '0', '1', '0', '0', '1']\n",
      "Generation:  95 Space:  2.90330899 Total price:  22631.370000000003 Chromosome:  ['1', '1', '1', '1', '1', '1', '0', '1', '1', '0', '1', '0', '0', '1']\n",
      "Generation:  96 Space:  2.79620899 Total price:  22281.560000000005 Chromosome:  ['1', '1', '1', '1', '1', '1', '1', '1', '1', '1', '0', '0', '0', '1']\n",
      "Generation:  97 Space:  2.3002089900000002 Total price:  22081.660000000003 Chromosome:  ['1', '1', '1', '1', '1', '1', '0', '1', '1', '1', '0', '0', '0', '1']\n",
      "Generation:  98 Space:  2.54320899 Total price:  23281.560000000005 Chromosome:  ['0', '1', '1', '1', '1', '1', '1', '1', '1', '1', '0', '0', '1', '1']\n",
      "Generation:  99 Space:  2.7558089900000002 Total price:  23772.900000000005 Chromosome:  ['1', '1', '1', '1', '1', '1', '0', '0', '1', '1', '0', '0', '1', '1']\n",
      "Generation:  100 Space:  2.79620899 Total price:  22281.560000000005 Chromosome:  ['1', '1', '1', '1', '1', '1', '1', '1', '1', '1', '0', '0', '0', '1']\n",
      "Generation:  27 Space:  2.68220899 Total price:  23930.660000000003 Chromosome:  ['0', '1', '1', '1', '1', '1', '0', '1', '1', '1', '1', '0', '1', '1']\n",
      "<__main__.Individual object at 0x000001CA8C51DA00>\n"
     ]
    }
   ],
   "source": [
    "products_list = []\n",
    "products_list.append(Product('Refrigerator A', 0.751, 999.90))\n",
    "products_list.append(Product('Cell phone', 0.00000899, 2199.12))\n",
    "products_list.append(Product('TV 55', 0.400, 4346.99))\n",
    "products_list.append(Product(\"TV 50' \", 0.290, 3999.90))\n",
    "products_list.append(Product(\"TV 42' \", 0.200, 2999.00))\n",
    "products_list.append(Product(\"Notebook A\", 0.00350, 2499.90))\n",
    "products_list.append(Product(\"Ventilator\", 0.496, 199.90))\n",
    "products_list.append(Product(\"Microwave A\", 0.0424, 308.66))\n",
    "products_list.append(Product(\"Microwave B\", 0.0544, 429.90))\n",
    "products_list.append(Product(\"Microwave C\", 0.0319, 299.29))\n",
    "products_list.append(Product(\"Refrigerator B\", 0.635, 849.00))\n",
    "products_list.append(Product(\"Refrigerator C\", 0.870, 1199.89))\n",
    "products_list.append(Product(\"Notebook B\", 0.498, 1999.90))\n",
    "products_list.append(Product(\"Notebook C\", 0.527, 3999.00))\n",
    "\n",
    "\n",
    "spaces = []\n",
    "prices = []\n",
    "names = []\n",
    "\n",
    "for product in products_list:\n",
    "    spaces.append(product.space)\n",
    "    prices.append(product.price)\n",
    "    names.append(product.name)\n",
    "limit = 3\n",
    "\n",
    "print(spaces)\n",
    "print(prices)\n",
    "print(names)\n",
    "\n",
    "limit = 3\n",
    "population_size = 20\n",
    "mutation_probability = 0.01\n",
    "number_of_generations = 100\n",
    "\n",
    "ga = GeneticAlgorithm(population_size)\n",
    "result = ga.solve(mutation_probability, number_of_generations, spaces, prices, limit)\n",
    "print(result)"
   ]
  },
  {
   "cell_type": "code",
   "execution_count": 23,
   "metadata": {},
   "outputs": [
    {
     "name": "stdout",
     "output_type": "stream",
     "text": [
      "<__main__.Individual object at 0x000001CA8C4D9F40>\n",
      "<__main__.Individual object at 0x000001CA8C51D880>\n",
      "<__main__.Individual object at 0x000001CA8C4DB260>\n",
      "<__main__.Individual object at 0x000001CA8C51DA30>\n",
      "<__main__.Individual object at 0x000001CA8C4D8440>\n",
      "<__main__.Individual object at 0x000001CA8C51D8B0>\n",
      "<__main__.Individual object at 0x000001CA8C4DB3E0>\n",
      "<__main__.Individual object at 0x000001CA8C4DBA70>\n",
      "<__main__.Individual object at 0x000001CA8C51C050>\n",
      "<__main__.Individual object at 0x000001CA8C51DAC0>\n",
      "<__main__.Individual object at 0x000001CA8C4DB290>\n",
      "<__main__.Individual object at 0x000001CA8C51C1D0>\n",
      "<__main__.Individual object at 0x000001CA8C4DAA50>\n",
      "<__main__.Individual object at 0x000001CA8C51C0B0>\n",
      "<__main__.Individual object at 0x000001CA8C51C0E0>\n",
      "<__main__.Individual object at 0x000001CA8C51C1A0>\n",
      "<__main__.Individual object at 0x000001CA8C4D8DD0>\n",
      "<__main__.Individual object at 0x000001CA8C4DB380>\n",
      "<__main__.Individual object at 0x000001CA8C4DA240>\n",
      "<__main__.Individual object at 0x000001CA8C4D91C0>\n",
      "<__main__.Individual object at 0x000001CA8C4D9E50>\n",
      "<__main__.Individual object at 0x000001CA8C51C470>\n",
      "<__main__.Individual object at 0x000001CA8C4DA870>\n",
      "<__main__.Individual object at 0x000001CA8C51C410>\n",
      "<__main__.Individual object at 0x000001CA8C4DB3B0>\n",
      "<__main__.Individual object at 0x000001CA8C4D9400>\n",
      "<__main__.Individual object at 0x000001CA8C4DB2C0>\n",
      "<__main__.Individual object at 0x000001CA8C51DA00>\n",
      "<__main__.Individual object at 0x000001CA8C51C2C0>\n",
      "<__main__.Individual object at 0x000001CA8C51D9D0>\n",
      "<__main__.Individual object at 0x000001CA8C4DAE40>\n",
      "<__main__.Individual object at 0x000001CA8C51C530>\n",
      "<__main__.Individual object at 0x000001CA8C4DAA20>\n",
      "<__main__.Individual object at 0x000001CA8C51DAF0>\n",
      "<__main__.Individual object at 0x000001CA8C4D9460>\n",
      "<__main__.Individual object at 0x000001CA8C51C5F0>\n",
      "<__main__.Individual object at 0x000001CA8C51C4A0>\n",
      "<__main__.Individual object at 0x000001CA8C51C590>\n",
      "<__main__.Individual object at 0x000001CA8C51C620>\n",
      "<__main__.Individual object at 0x000001CA8C4D86E0>\n",
      "<__main__.Individual object at 0x000001CA8C51C380>\n",
      "<__main__.Individual object at 0x000001CA8C51C890>\n",
      "<__main__.Individual object at 0x000001CA8C4DB350>\n",
      "<__main__.Individual object at 0x000001CA8C51C290>\n",
      "<__main__.Individual object at 0x000001CA8C51C5C0>\n",
      "<__main__.Individual object at 0x000001CA8C51C650>\n",
      "<__main__.Individual object at 0x000001CA8C51C6E0>\n",
      "<__main__.Individual object at 0x000001CA8C51DA60>\n",
      "<__main__.Individual object at 0x000001CA8C51C320>\n",
      "<__main__.Individual object at 0x000001CA8C51C350>\n",
      "<__main__.Individual object at 0x000001CA8C51C9E0>\n",
      "<__main__.Individual object at 0x000001CA8C51C140>\n",
      "<__main__.Individual object at 0x000001CA8C51C230>\n",
      "<__main__.Individual object at 0x000001CA8C4D9820>\n",
      "<__main__.Individual object at 0x000001CA8C51C680>\n",
      "<__main__.Individual object at 0x000001CA8C51C830>\n",
      "<__main__.Individual object at 0x000001CA8C4DB320>\n",
      "<__main__.Individual object at 0x000001CA8C51C260>\n",
      "<__main__.Individual object at 0x000001CA8C4DA7B0>\n",
      "<__main__.Individual object at 0x000001CA8C4DA690>\n",
      "<__main__.Individual object at 0x000001CA8C51C740>\n",
      "<__main__.Individual object at 0x000001CA8C51CC20>\n",
      "<__main__.Individual object at 0x000001CA8C4DB2F0>\n",
      "<__main__.Individual object at 0x000001CA8C51C2F0>\n",
      "<__main__.Individual object at 0x000001CA8C51C500>\n",
      "<__main__.Individual object at 0x000001CA8C51C7D0>\n",
      "<__main__.Individual object at 0x000001CA8C51CB30>\n",
      "<__main__.Individual object at 0x000001CA8C51C9B0>\n",
      "<__main__.Individual object at 0x000001CA8C51C3E0>\n",
      "<__main__.Individual object at 0x000001CA8C51C710>\n",
      "<__main__.Individual object at 0x000001CA8C51C560>\n",
      "<__main__.Individual object at 0x000001CA8C51C080>\n",
      "<__main__.Individual object at 0x000001CA8C51C980>\n",
      "<__main__.Individual object at 0x000001CA8C51CE00>\n",
      "<__main__.Individual object at 0x000001CA8C51C920>\n",
      "<__main__.Individual object at 0x000001CA8C51CB60>\n",
      "<__main__.Individual object at 0x000001CA8C51CE30>\n",
      "<__main__.Individual object at 0x000001CA8C51C770>\n",
      "<__main__.Individual object at 0x000001CA8C4D9160>\n",
      "<__main__.Individual object at 0x000001CA8C51CF80>\n",
      "<__main__.Individual object at 0x000001CA8C51CA40>\n",
      "<__main__.Individual object at 0x000001CA8C51D8E0>\n",
      "<__main__.Individual object at 0x000001CA8C51CEF0>\n",
      "<__main__.Individual object at 0x000001CA8C51CA70>\n",
      "<__main__.Individual object at 0x000001CA8C51CC80>\n",
      "<__main__.Individual object at 0x000001CA8C51CE60>\n",
      "<__main__.Individual object at 0x000001CA8C51D100>\n",
      "<__main__.Individual object at 0x000001CA8C51C8F0>\n",
      "<__main__.Individual object at 0x000001CA8C51C8C0>\n",
      "<__main__.Individual object at 0x000001CA8C51D190>\n",
      "<__main__.Individual object at 0x000001CA8C51CF50>\n",
      "<__main__.Individual object at 0x000001CA8C51D010>\n",
      "<__main__.Individual object at 0x000001CA8C51CB90>\n",
      "<__main__.Individual object at 0x000001CA8C51C950>\n",
      "<__main__.Individual object at 0x000001CA8C51C170>\n",
      "<__main__.Individual object at 0x000001CA8C51D0D0>\n",
      "<__main__.Individual object at 0x000001CA8C51CD10>\n",
      "<__main__.Individual object at 0x000001CA8C51CDA0>\n",
      "<__main__.Individual object at 0x000001CA8C51CCB0>\n",
      "<__main__.Individual object at 0x000001CA8C51CD40>\n",
      "<__main__.Individual object at 0x000001CA8C51C440>\n"
     ]
    }
   ],
   "source": [
    "for value in ga.list_of_solutions:\n",
    "    print(value)"
   ]
  },
  {
   "cell_type": "code",
   "execution_count": 24,
   "metadata": {},
   "outputs": [
    {
     "data": {
      "image/png": "[encoded data removed]",
      "text/plain": [
       "<Figure size 640x480 with 1 Axes>"
      ]
     },
     "metadata": {},
     "output_type": "display_data"
    }
   ],
   "source": [
    "import matplotlib.pyplot as plt\n",
    "\n",
    "generations= []\n",
    "solutions = []\n",
    "\n",
    "for value in ga.list_of_solutions:\n",
    "    generations.append(value.generation)\n",
    "    solutions.append(value.score_evaluation)\n",
    "\n",
    "plt.plot(generations, solutions, marker='o', linestyle='-', color='b', label='Crecimiento')\n",
    "plt.xlabel('Generacion')\n",
    "plt.ylabel('Valor de la solucion')\n",
    "plt.title('Algoritmo genetico')\n",
    "plt.legend()\n",
    "plt.grid(True)\n",
    "plt.show()\n"
   ]
  },
  {
   "cell_type": "markdown",
   "metadata": {},
   "source": [
    "- https://github.com/DEAP/deap"
   ]
  },
  {
   "cell_type": "code",
   "execution_count": 25,
   "metadata": {},
   "outputs": [
    {
     "name": "stdout",
     "output_type": "stream",
     "text": [
      "Requirement already satisfied: deap in c:\\users\\jlgut\\appdata\\local\\programs\\python\\python312\\lib\\site-packages (1.4.2)\n",
      "Requirement already satisfied: numpy in c:\\users\\jlgut\\appdata\\local\\programs\\python\\python312\\lib\\site-packages (from deap) (1.26.4)\n",
      "Note: you may need to restart the kernel to use updated packages.\n"
     ]
    }
   ],
   "source": [
    "%pip install deap"
   ]
  },
  {
   "cell_type": "code",
   "execution_count": 26,
   "metadata": {},
   "outputs": [],
   "source": [
    "class Product():\n",
    "  def __init__(self, name, space, price):\n",
    "    self.name = name\n",
    "    self.space = space\n",
    "    self.price = price"
   ]
  },
  {
   "cell_type": "code",
   "execution_count": 27,
   "metadata": {},
   "outputs": [
    {
     "name": "stdout",
     "output_type": "stream",
     "text": [
      "[0.751, 8.99e-06, 0.4, 0.29, 0.2, 0.0035, 0.496, 0.0424, 0.0544, 0.0319, 0.635, 0.87, 0.498, 0.527]\n",
      "[999.9, 2199.12, 4346.99, 3999.9, 2999.0, 2499.9, 199.9, 308.66, 429.9, 299.29, 849.0, 1199.89, 1999.9, 3999.0]\n",
      "['Refrigerator A', 'Cell phone', 'TV 55', \"TV 50' \", \"TV 42' \", 'Notebook A', 'Ventilator', 'Microwave A', 'Microwave B', 'Microwave C', 'Refrigerator B', 'Refrigerator C', 'Notebook B', 'Notebook C']\n"
     ]
    }
   ],
   "source": [
    "products_list = []\n",
    "products_list.append(Product('Refrigerator A', 0.751, 999.90))\n",
    "products_list.append(Product('Cell phone', 0.00000899, 2199.12))\n",
    "products_list.append(Product('TV 55', 0.400, 4346.99))\n",
    "products_list.append(Product(\"TV 50' \", 0.290, 3999.90))\n",
    "products_list.append(Product(\"TV 42' \", 0.200, 2999.00))\n",
    "products_list.append(Product(\"Notebook A\", 0.00350, 2499.90))\n",
    "products_list.append(Product(\"Ventilator\", 0.496, 199.90))\n",
    "products_list.append(Product(\"Microwave A\", 0.0424, 308.66))\n",
    "products_list.append(Product(\"Microwave B\", 0.0544, 429.90))\n",
    "products_list.append(Product(\"Microwave C\", 0.0319, 299.29))\n",
    "products_list.append(Product(\"Refrigerator B\", 0.635, 849.00))\n",
    "products_list.append(Product(\"Refrigerator C\", 0.870, 1199.89))\n",
    "products_list.append(Product(\"Notebook B\", 0.498, 1999.90))\n",
    "products_list.append(Product(\"Notebook C\", 0.527, 3999.00))\n",
    "\n",
    "\n",
    "spaces = []\n",
    "prices = []\n",
    "names = []\n",
    "\n",
    "for product in products_list:\n",
    "    spaces.append(product.space)\n",
    "    prices.append(product.price)\n",
    "    names.append(product.name)\n",
    "limit = 3\n",
    "\n",
    "print(spaces)\n",
    "print(prices)\n",
    "print(names)\n",
    "\n",
    "limit = 3\n",
    "population_size = 20\n",
    "mutation_probability = 0.01\n",
    "number_of_generations = 100\n"
   ]
  },
  {
   "cell_type": "code",
   "execution_count": 28,
   "metadata": {},
   "outputs": [],
   "source": [
    "import numpy\n",
    "import random\n",
    "from deap import base\n",
    "from deap import creator\n",
    "from deap import algorithms\n",
    "from deap import tools"
   ]
  },
  {
   "cell_type": "code",
   "execution_count": 29,
   "metadata": {},
   "outputs": [],
   "source": [
    "def fitness(solution):\n",
    "    cost = 0\n",
    "    sum_space = 0\n",
    "    for i in range(len(solution)):\n",
    "        if solution[i] == 1:\n",
    "            cost += prices[i]\n",
    "            sum_space += spaces[i]\n",
    "    if sum_space > limit:\n",
    "        cost = 1\n",
    "    return cost,"
   ]
  },
  {
   "cell_type": "code",
   "execution_count": 30,
   "metadata": {},
   "outputs": [],
   "source": [
    "toolbox = base.Toolbox()\n",
    "creator.create('FitnessMax', base.Fitness, weights=(1.0,))\n",
    "creator.create('Individual', list, fitness=creator.FitnessMax)"
   ]
  },
  {
   "cell_type": "code",
   "execution_count": 31,
   "metadata": {},
   "outputs": [],
   "source": [
    "toolbox.register('attr_bool', random.randint, 0, 1)\n",
    "toolbox.register('individual', tools.initRepeat, creator.Individual, toolbox.attr_bool, n=14)\n",
    "toolbox.register('population', tools.initRepeat, list, toolbox.individual)\n",
    "toolbox.register('evaluate', fitness)\n",
    "toolbox.register('mate', tools.cxOnePoint)\n",
    "toolbox.register('mutate', tools.mutFlipBit, indpb = 0.01)\n",
    "toolbox.register('select', tools.selRoulette)"
   ]
  },
  {
   "cell_type": "code",
   "execution_count": 32,
   "metadata": {},
   "outputs": [
    {
     "name": "stdout",
     "output_type": "stream",
     "text": [
      "gen\tnevals\tmax    \tmin\n",
      "0  \t20    \t17774.7\t1  \n",
      "1  \t20    \t16974.8\t1  \n",
      "2  \t20    \t16636.3\t1  \n",
      "3  \t20    \t15635.4\t8128.1\n",
      "4  \t20    \t17431.8\t1     \n",
      "5  \t20    \t18130.8\t9436.67\n",
      "6  \t20    \t16734.8\t10085.8\n",
      "7  \t20    \t16636.3\t1      \n",
      "8  \t20    \t16784.2\t8528.61\n",
      "9  \t20    \t15931.6\t8528.61\n",
      "10 \t20    \t18130.8\t11736.7\n",
      "11 \t20    \t18130.8\t11936.6\n",
      "12 \t20    \t19931.5\t8736.55\n",
      "13 \t20    \t19931.5\t11732.7\n",
      "14 \t20    \t19281.7\t11932.6\n",
      "15 \t20    \t18130.8\t11932.6\n",
      "16 \t20    \t18130.8\t11932.6\n",
      "17 \t20    \t18130.8\t13931.9\n",
      "18 \t20    \t18130.8\t15731.7\n",
      "19 \t20    \t18130.8\t15731.7\n",
      "20 \t20    \t18130.8\t15731.7\n",
      "21 \t20    \t18130.8\t15931.6\n",
      "22 \t20    \t18130.8\t15931.6\n",
      "23 \t20    \t18130.8\t15931.6\n",
      "24 \t20    \t18130.8\t15931.6\n",
      "25 \t20    \t18130.8\t15931.6\n",
      "26 \t20    \t18130.8\t15931.6\n",
      "27 \t20    \t18130.8\t15931.6\n",
      "28 \t20    \t18130.8\t15931.6\n",
      "29 \t20    \t15931.6\t15931.6\n",
      "30 \t20    \t15931.6\t15931.6\n",
      "31 \t20    \t15931.6\t15931.6\n",
      "32 \t20    \t15931.6\t15931.6\n",
      "33 \t20    \t15931.6\t15931.6\n",
      "34 \t20    \t15931.6\t15931.6\n",
      "35 \t20    \t15931.6\t15931.6\n",
      "36 \t20    \t15931.6\t15931.6\n",
      "37 \t20    \t15931.6\t15931.6\n",
      "38 \t20    \t15931.6\t15931.6\n",
      "39 \t20    \t15931.6\t15931.6\n",
      "40 \t20    \t15931.6\t15931.6\n",
      "41 \t20    \t15931.6\t15931.6\n",
      "42 \t20    \t15931.6\t15931.6\n",
      "43 \t20    \t15931.6\t15931.6\n",
      "44 \t20    \t15931.6\t15931.6\n",
      "45 \t20    \t15931.6\t15931.6\n",
      "46 \t20    \t15931.6\t15931.6\n",
      "47 \t20    \t15931.6\t15931.6\n",
      "48 \t20    \t15931.6\t15931.6\n",
      "49 \t20    \t15931.6\t15931.6\n",
      "50 \t20    \t15931.6\t15931.6\n",
      "51 \t20    \t15931.6\t15931.6\n",
      "52 \t20    \t15931.6\t15931.6\n",
      "53 \t20    \t15931.6\t15931.6\n",
      "54 \t20    \t15931.6\t15931.6\n",
      "55 \t20    \t15931.6\t15931.6\n",
      "56 \t20    \t15931.6\t15931.6\n",
      "57 \t20    \t15931.6\t15931.6\n",
      "58 \t20    \t15931.6\t15931.6\n",
      "59 \t20    \t15931.6\t15931.6\n",
      "60 \t20    \t15931.6\t15931.6\n",
      "61 \t20    \t15931.6\t15931.6\n",
      "62 \t20    \t15931.6\t15931.6\n",
      "63 \t20    \t15931.6\t15931.6\n",
      "64 \t20    \t15931.6\t15931.6\n",
      "65 \t20    \t15931.6\t15931.6\n",
      "66 \t20    \t15931.6\t15931.6\n",
      "67 \t20    \t15931.6\t15931.6\n",
      "68 \t20    \t15931.6\t15931.6\n",
      "69 \t20    \t15931.6\t15931.6\n",
      "70 \t20    \t15931.6\t15931.6\n",
      "71 \t20    \t15931.6\t15931.6\n",
      "72 \t20    \t15931.6\t15931.6\n",
      "73 \t20    \t15931.6\t15931.6\n",
      "74 \t20    \t15931.6\t15931.6\n",
      "75 \t20    \t15931.6\t15931.6\n",
      "76 \t20    \t15931.6\t15931.6\n",
      "77 \t20    \t15931.6\t15931.6\n",
      "78 \t20    \t15931.6\t15931.6\n",
      "79 \t20    \t15931.6\t15931.6\n",
      "80 \t20    \t15931.6\t15931.6\n",
      "81 \t20    \t15931.6\t15931.6\n",
      "82 \t20    \t15931.6\t15931.6\n",
      "83 \t20    \t15931.6\t15931.6\n",
      "84 \t20    \t15931.6\t15931.6\n",
      "85 \t20    \t15931.6\t15931.6\n",
      "86 \t20    \t15931.6\t15931.6\n",
      "87 \t20    \t15931.6\t15931.6\n",
      "88 \t20    \t15931.6\t15931.6\n",
      "89 \t20    \t15931.6\t15931.6\n",
      "90 \t20    \t15931.6\t15931.6\n",
      "91 \t20    \t15931.6\t15931.6\n",
      "92 \t20    \t15931.6\t15931.6\n",
      "93 \t20    \t15931.6\t15931.6\n",
      "94 \t20    \t15931.6\t15931.6\n",
      "95 \t20    \t15931.6\t15931.6\n",
      "96 \t20    \t15931.6\t15931.6\n",
      "97 \t20    \t15931.6\t15931.6\n",
      "98 \t20    \t15931.6\t15931.6\n",
      "99 \t20    \t15931.6\t15931.6\n",
      "100\t20    \t15931.6\t15931.6\n"
     ]
    }
   ],
   "source": [
    "population = toolbox.population(n = 20)\n",
    "crossover_probabilty = 1.0\n",
    "number_of_generations = 100\n",
    "\n",
    "statistics = tools.Statistics(key = lambda individual: individual.fitness.values)\n",
    "statistics.register('max', numpy.max)\n",
    "statistics.register('min', numpy.min)\n",
    "\n",
    "population, info = algorithms.eaSimple(population, toolbox, crossover_probabilty, mutation_probability, number_of_generations, statistics)"
   ]
  },
  {
   "cell_type": "code",
   "execution_count": 33,
   "metadata": {},
   "outputs": [
    {
     "name": "stdout",
     "output_type": "stream",
     "text": [
      "[0, 0, 1, 0, 1, 1, 1, 1, 1, 1, 1, 0, 0, 1]\n",
      "(15931.64,)\n",
      "Name:  TV 55  - Price:  4346.99\n",
      "Name:  TV 42'   - Price:  2999.0\n",
      "Name:  Notebook A  - Price:  2499.9\n",
      "Name:  Ventilator  - Price:  199.9\n",
      "Name:  Microwave A  - Price:  308.66\n",
      "Name:  Microwave B  - Price:  429.9\n",
      "Name:  Microwave C  - Price:  299.29\n",
      "Name:  Refrigerator B  - Price:  849.0\n",
      "Name:  Notebook C  - Price:  3999.0\n"
     ]
    }
   ],
   "source": [
    "best_solutions = tools.selBest(population, 1)\n",
    "for individual in best_solutions:\n",
    "  print(individual)\n",
    "  print(individual.fitness)\n",
    "  for i in range(len(individual)):\n",
    "    if individual[i] == 1:\n",
    "      print('Name: ', names[i], ' - Price: ', prices[i])"
   ]
  },
  {
   "cell_type": "code",
   "execution_count": 34,
   "metadata": {},
   "outputs": [
    {
     "data": {
      "text/plain": [
       "[17774.68,\n",
       " 16974.8,\n",
       " 16636.269999999997,\n",
       " 15635.369999999999,\n",
       " 17431.760000000002,\n",
       " 18130.760000000002,\n",
       " 16734.77,\n",
       " 16636.269999999997,\n",
       " 16784.239999999998,\n",
       " 15931.64,\n",
       " 18130.760000000002,\n",
       " 18130.760000000002,\n",
       " 19931.54,\n",
       " 19931.54,\n",
       " 19281.66,\n",
       " 18130.760000000002,\n",
       " 18130.760000000002,\n",
       " 18130.760000000002,\n",
       " 18130.760000000002,\n",
       " 18130.760000000002,\n",
       " 18130.760000000002,\n",
       " 18130.760000000002,\n",
       " 18130.760000000002,\n",
       " 18130.760000000002,\n",
       " 18130.760000000002,\n",
       " 18130.760000000002,\n",
       " 18130.760000000002,\n",
       " 18130.760000000002,\n",
       " 18130.760000000002,\n",
       " 15931.64,\n",
       " 15931.64,\n",
       " 15931.64,\n",
       " 15931.64,\n",
       " 15931.64,\n",
       " 15931.64,\n",
       " 15931.64,\n",
       " 15931.64,\n",
       " 15931.64,\n",
       " 15931.64,\n",
       " 15931.64,\n",
       " 15931.64,\n",
       " 15931.64,\n",
       " 15931.64,\n",
       " 15931.64,\n",
       " 15931.64,\n",
       " 15931.64,\n",
       " 15931.64,\n",
       " 15931.64,\n",
       " 15931.64,\n",
       " 15931.64,\n",
       " 15931.64,\n",
       " 15931.64,\n",
       " 15931.64,\n",
       " 15931.64,\n",
       " 15931.64,\n",
       " 15931.64,\n",
       " 15931.64,\n",
       " 15931.64,\n",
       " 15931.64,\n",
       " 15931.64,\n",
       " 15931.64,\n",
       " 15931.64,\n",
       " 15931.64,\n",
       " 15931.64,\n",
       " 15931.64,\n",
       " 15931.64,\n",
       " 15931.64,\n",
       " 15931.64,\n",
       " 15931.64,\n",
       " 15931.64,\n",
       " 15931.64,\n",
       " 15931.64,\n",
       " 15931.64,\n",
       " 15931.64,\n",
       " 15931.64,\n",
       " 15931.64,\n",
       " 15931.64,\n",
       " 15931.64,\n",
       " 15931.64,\n",
       " 15931.64,\n",
       " 15931.64,\n",
       " 15931.64,\n",
       " 15931.64,\n",
       " 15931.64,\n",
       " 15931.64,\n",
       " 15931.64,\n",
       " 15931.64,\n",
       " 15931.64,\n",
       " 15931.64,\n",
       " 15931.64,\n",
       " 15931.64,\n",
       " 15931.64,\n",
       " 15931.64,\n",
       " 15931.64,\n",
       " 15931.64,\n",
       " 15931.64,\n",
       " 15931.64,\n",
       " 15931.64,\n",
       " 15931.64,\n",
       " 15931.64,\n",
       " 15931.64]"
      ]
     },
     "execution_count": 34,
     "metadata": {},
     "output_type": "execute_result"
    }
   ],
   "source": [
    "info.select('max')"
   ]
  },
  {
   "cell_type": "code",
   "execution_count": 35,
   "metadata": {},
   "outputs": [
    {
     "data": {
      "application/vnd.plotly.v1+json": {
       "config": {
        "plotlyServerURL": "https://plot.ly"
       },
       "data": [
        {
         "hovertemplate": "x=%{x}<br>y=%{y}<extra></extra>",
         "legendgroup": "",
         "line": {
          "color": "#636efa",
          "dash": "solid"
         },
         "marker": {
          "symbol": "circle"
         },
         "mode": "lines",
         "name": "",
         "orientation": "v",
         "showlegend": false,
         "type": "scatter",
         "x": {
          "bdata": "AAECAwQFBgcICQoLDA0ODxAREhMUFRYXGBkaGxwdHh8gISIjJCUmJygpKissLS4vMDEyMzQ1Njc4OTo7PD0+P0BBQkNERUZHSElKS0xNTk9QUVJTVFVWV1hZWltcXV5fYGFiY2Q=",
          "dtype": "i1"
         },
         "xaxis": "x",
         "y": {
          "bdata": "Urgehatb0UAzMzMzs5PQQHoUrkcRP9BAwvUoXK+JzkA+Ctej8AXRQD4K16OwtNFAexSuR7FX0EB6FK5HET/QQML1KFwPZNBAuB6F69Edz0A+CtejsLTRQD4K16OwtNFA9ihcj+J200D2KFyP4nbTQNejcD1q1NJAPgrXo7C00UA+CtejsLTRQD4K16OwtNFAPgrXo7C00UA+CtejsLTRQD4K16OwtNFAPgrXo7C00UA+CtejsLTRQD4K16OwtNFAPgrXo7C00UA+CtejsLTRQD4K16OwtNFAPgrXo7C00UA+CtejsLTRQLgehevRHc9AuB6F69Edz0C4HoXr0R3PQLgehevRHc9AuB6F69Edz0C4HoXr0R3PQLgehevRHc9AuB6F69Edz0C4HoXr0R3PQLgehevRHc9AuB6F69Edz0C4HoXr0R3PQLgehevRHc9AuB6F69Edz0C4HoXr0R3PQLgehevRHc9AuB6F69Edz0C4HoXr0R3PQLgehevRHc9AuB6F69Edz0C4HoXr0R3PQLgehevRHc9AuB6F69Edz0C4HoXr0R3PQLgehevRHc9AuB6F69Edz0C4HoXr0R3PQLgehevRHc9AuB6F69Edz0C4HoXr0R3PQLgehevRHc9AuB6F69Edz0C4HoXr0R3PQLgehevRHc9AuB6F69Edz0C4HoXr0R3PQLgehevRHc9AuB6F69Edz0C4HoXr0R3PQLgehevRHc9AuB6F69Edz0C4HoXr0R3PQLgehevRHc9AuB6F69Edz0C4HoXr0R3PQLgehevRHc9AuB6F69Edz0C4HoXr0R3PQLgehevRHc9AuB6F69Edz0C4HoXr0R3PQLgehevRHc9AuB6F69Edz0C4HoXr0R3PQLgehevRHc9AuB6F69Edz0C4HoXr0R3PQLgehevRHc9AuB6F69Edz0C4HoXr0R3PQLgehevRHc9AuB6F69Edz0C4HoXr0R3PQLgehevRHc9AuB6F69Edz0C4HoXr0R3PQLgehevRHc9AuB6F69Edz0C4HoXr0R3PQLgehevRHc9AuB6F69Edz0C4HoXr0R3PQA==",
          "dtype": "f8"
         },
         "yaxis": "y"
        }
       ],
       "layout": {
        "legend": {
         "tracegroupgap": 0
        },
        "template": {
         "data": {
          "bar": [
           {
            "error_x": {
             "color": "#2a3f5f"
            },
            "error_y": {
             "color": "#2a3f5f"
            },
            "marker": {
             "line": {
              "color": "#E5ECF6",
              "width": 0.5
             },
             "pattern": {
              "fillmode": "overlay",
              "size": 10,
              "solidity": 0.2
             }
            },
            "type": "bar"
           }
          ],
          "barpolar": [
           {
            "marker": {
             "line": {
              "color": "#E5ECF6",
              "width": 0.5
             },
             "pattern": {
              "fillmode": "overlay",
              "size": 10,
              "solidity": 0.2
             }
            },
            "type": "barpolar"
           }
          ],
          "carpet": [
           {
            "aaxis": {
             "endlinecolor": "#2a3f5f",
             "gridcolor": "white",
             "linecolor": "white",
             "minorgridcolor": "white",
             "startlinecolor": "#2a3f5f"
            },
            "baxis": {
             "endlinecolor": "#2a3f5f",
             "gridcolor": "white",
             "linecolor": "white",
             "minorgridcolor": "white",
             "startlinecolor": "#2a3f5f"
            },
            "type": "carpet"
           }
          ],
          "choropleth": [
           {
            "colorbar": {
             "outlinewidth": 0,
             "ticks": ""
            },
            "type": "choropleth"
           }
          ],
          "contour": [
           {
            "colorbar": {
             "outlinewidth": 0,
             "ticks": ""
            },
            "colorscale": [
             [
              0,
              "#0d0887"
             ],
             [
              0.1111111111111111,
              "#46039f"
             ],
             [
              0.2222222222222222,
              "#7201a8"
             ],
             [
              0.3333333333333333,
              "#9c179e"
             ],
             [
              0.4444444444444444,
              "#bd3786"
             ],
             [
              0.5555555555555556,
              "#d8576b"
             ],
             [
              0.6666666666666666,
              "#ed7953"
             ],
             [
              0.7777777777777778,
              "#fb9f3a"
             ],
             [
              0.8888888888888888,
              "#fdca26"
             ],
             [
              1,
              "#f0f921"
             ]
            ],
            "type": "contour"
           }
          ],
          "contourcarpet": [
           {
            "colorbar": {
             "outlinewidth": 0,
             "ticks": ""
            },
            "type": "contourcarpet"
           }
          ],
          "heatmap": [
           {
            "colorbar": {
             "outlinewidth": 0,
             "ticks": ""
            },
            "colorscale": [
             [
              0,
              "#0d0887"
             ],
             [
              0.1111111111111111,
              "#46039f"
             ],
             [
              0.2222222222222222,
              "#7201a8"
             ],
             [
              0.3333333333333333,
              "#9c179e"
             ],
             [
              0.4444444444444444,
              "#bd3786"
             ],
             [
              0.5555555555555556,
              "#d8576b"
             ],
             [
              0.6666666666666666,
              "#ed7953"
             ],
             [
              0.7777777777777778,
              "#fb9f3a"
             ],
             [
              0.8888888888888888,
              "#fdca26"
             ],
             [
              1,
              "#f0f921"
             ]
            ],
            "type": "heatmap"
           }
          ],
          "histogram": [
           {
            "marker": {
             "pattern": {
              "fillmode": "overlay",
              "size": 10,
              "solidity": 0.2
             }
            },
            "type": "histogram"
           }
          ],
          "histogram2d": [
           {
            "colorbar": {
             "outlinewidth": 0,
             "ticks": ""
            },
            "colorscale": [
             [
              0,
              "#0d0887"
             ],
             [
              0.1111111111111111,
              "#46039f"
             ],
             [
              0.2222222222222222,
              "#7201a8"
             ],
             [
              0.3333333333333333,
              "#9c179e"
             ],
             [
              0.4444444444444444,
              "#bd3786"
             ],
             [
              0.5555555555555556,
              "#d8576b"
             ],
             [
              0.6666666666666666,
              "#ed7953"
             ],
             [
              0.7777777777777778,
              "#fb9f3a"
             ],
             [
              0.8888888888888888,
              "#fdca26"
             ],
             [
              1,
              "#f0f921"
             ]
            ],
            "type": "histogram2d"
           }
          ],
          "histogram2dcontour": [
           {
            "colorbar": {
             "outlinewidth": 0,
             "ticks": ""
            },
            "colorscale": [
             [
              0,
              "#0d0887"
             ],
             [
              0.1111111111111111,
              "#46039f"
             ],
             [
              0.2222222222222222,
              "#7201a8"
             ],
             [
              0.3333333333333333,
              "#9c179e"
             ],
             [
              0.4444444444444444,
              "#bd3786"
             ],
             [
              0.5555555555555556,
              "#d8576b"
             ],
             [
              0.6666666666666666,
              "#ed7953"
             ],
             [
              0.7777777777777778,
              "#fb9f3a"
             ],
             [
              0.8888888888888888,
              "#fdca26"
             ],
             [
              1,
              "#f0f921"
             ]
            ],
            "type": "histogram2dcontour"
           }
          ],
          "mesh3d": [
           {
            "colorbar": {
             "outlinewidth": 0,
             "ticks": ""
            },
            "type": "mesh3d"
           }
          ],
          "parcoords": [
           {
            "line": {
             "colorbar": {
              "outlinewidth": 0,
              "ticks": ""
             }
            },
            "type": "parcoords"
           }
          ],
          "pie": [
           {
            "automargin": true,
            "type": "pie"
           }
          ],
          "scatter": [
           {
            "fillpattern": {
             "fillmode": "overlay",
             "size": 10,
             "solidity": 0.2
            },
            "type": "scatter"
           }
          ],
          "scatter3d": [
           {
            "line": {
             "colorbar": {
              "outlinewidth": 0,
              "ticks": ""
             }
            },
            "marker": {
             "colorbar": {
              "outlinewidth": 0,
              "ticks": ""
             }
            },
            "type": "scatter3d"
           }
          ],
          "scattercarpet": [
           {
            "marker": {
             "colorbar": {
              "outlinewidth": 0,
              "ticks": ""
             }
            },
            "type": "scattercarpet"
           }
          ],
          "scattergeo": [
           {
            "marker": {
             "colorbar": {
              "outlinewidth": 0,
              "ticks": ""
             }
            },
            "type": "scattergeo"
           }
          ],
          "scattergl": [
           {
            "marker": {
             "colorbar": {
              "outlinewidth": 0,
              "ticks": ""
             }
            },
            "type": "scattergl"
           }
          ],
          "scattermap": [
           {
            "marker": {
             "colorbar": {
              "outlinewidth": 0,
              "ticks": ""
             }
            },
            "type": "scattermap"
           }
          ],
          "scattermapbox": [
           {
            "marker": {
             "colorbar": {
              "outlinewidth": 0,
              "ticks": ""
             }
            },
            "type": "scattermapbox"
           }
          ],
          "scatterpolar": [
           {
            "marker": {
             "colorbar": {
              "outlinewidth": 0,
              "ticks": ""
             }
            },
            "type": "scatterpolar"
           }
          ],
          "scatterpolargl": [
           {
            "marker": {
             "colorbar": {
              "outlinewidth": 0,
              "ticks": ""
             }
            },
            "type": "scatterpolargl"
           }
          ],
          "scatterternary": [
           {
            "marker": {
             "colorbar": {
              "outlinewidth": 0,
              "ticks": ""
             }
            },
            "type": "scatterternary"
           }
          ],
          "surface": [
           {
            "colorbar": {
             "outlinewidth": 0,
             "ticks": ""
            },
            "colorscale": [
             [
              0,
              "#0d0887"
             ],
             [
              0.1111111111111111,
              "#46039f"
             ],
             [
              0.2222222222222222,
              "#7201a8"
             ],
             [
              0.3333333333333333,
              "#9c179e"
             ],
             [
              0.4444444444444444,
              "#bd3786"
             ],
             [
              0.5555555555555556,
              "#d8576b"
             ],
             [
              0.6666666666666666,
              "#ed7953"
             ],
             [
              0.7777777777777778,
              "#fb9f3a"
             ],
             [
              0.8888888888888888,
              "#fdca26"
             ],
             [
              1,
              "#f0f921"
             ]
            ],
            "type": "surface"
           }
          ],
          "table": [
           {
            "cells": {
             "fill": {
              "color": "#EBF0F8"
             },
             "line": {
              "color": "white"
             }
            },
            "header": {
             "fill": {
              "color": "#C8D4E3"
             },
             "line": {
              "color": "white"
             }
            },
            "type": "table"
           }
          ]
         },
         "layout": {
          "annotationdefaults": {
           "arrowcolor": "#2a3f5f",
           "arrowhead": 0,
           "arrowwidth": 1
          },
          "autotypenumbers": "strict",
          "coloraxis": {
           "colorbar": {
            "outlinewidth": 0,
            "ticks": ""
           }
          },
          "colorscale": {
           "diverging": [
            [
             0,
             "#8e0152"
            ],
            [
             0.1,
             "#c51b7d"
            ],
            [
             0.2,
             "#de77ae"
            ],
            [
             0.3,
             "#f1b6da"
            ],
            [
             0.4,
             "#fde0ef"
            ],
            [
             0.5,
             "#f7f7f7"
            ],
            [
             0.6,
             "#e6f5d0"
            ],
            [
             0.7,
             "#b8e186"
            ],
            [
             0.8,
             "#7fbc41"
            ],
            [
             0.9,
             "#4d9221"
            ],
            [
             1,
             "#276419"
            ]
           ],
           "sequential": [
            [
             0,
             "#0d0887"
            ],
            [
             0.1111111111111111,
             "#46039f"
            ],
            [
             0.2222222222222222,
             "#7201a8"
            ],
            [
             0.3333333333333333,
             "#9c179e"
            ],
            [
             0.4444444444444444,
             "#bd3786"
            ],
            [
             0.5555555555555556,
             "#d8576b"
            ],
            [
             0.6666666666666666,
             "#ed7953"
            ],
            [
             0.7777777777777778,
             "#fb9f3a"
            ],
            [
             0.8888888888888888,
             "#fdca26"
            ],
            [
             1,
             "#f0f921"
            ]
           ],
           "sequentialminus": [
            [
             0,
             "#0d0887"
            ],
            [
             0.1111111111111111,
             "#46039f"
            ],
            [
             0.2222222222222222,
             "#7201a8"
            ],
            [
             0.3333333333333333,
             "#9c179e"
            ],
            [
             0.4444444444444444,
             "#bd3786"
            ],
            [
             0.5555555555555556,
             "#d8576b"
            ],
            [
             0.6666666666666666,
             "#ed7953"
            ],
            [
             0.7777777777777778,
             "#fb9f3a"
            ],
            [
             0.8888888888888888,
             "#fdca26"
            ],
            [
             1,
             "#f0f921"
            ]
           ]
          },
          "colorway": [
           "#636efa",
           "#EF553B",
           "#00cc96",
           "#ab63fa",
           "#FFA15A",
           "#19d3f3",
           "#FF6692",
           "#B6E880",
           "#FF97FF",
           "#FECB52"
          ],
          "font": {
           "color": "#2a3f5f"
          },
          "geo": {
           "bgcolor": "white",
           "lakecolor": "white",
           "landcolor": "#E5ECF6",
           "showlakes": true,
           "showland": true,
           "subunitcolor": "white"
          },
          "hoverlabel": {
           "align": "left"
          },
          "hovermode": "closest",
          "mapbox": {
           "style": "light"
          },
          "paper_bgcolor": "white",
          "plot_bgcolor": "#E5ECF6",
          "polar": {
           "angularaxis": {
            "gridcolor": "white",
            "linecolor": "white",
            "ticks": ""
           },
           "bgcolor": "#E5ECF6",
           "radialaxis": {
            "gridcolor": "white",
            "linecolor": "white",
            "ticks": ""
           }
          },
          "scene": {
           "xaxis": {
            "backgroundcolor": "#E5ECF6",
            "gridcolor": "white",
            "gridwidth": 2,
            "linecolor": "white",
            "showbackground": true,
            "ticks": "",
            "zerolinecolor": "white"
           },
           "yaxis": {
            "backgroundcolor": "#E5ECF6",
            "gridcolor": "white",
            "gridwidth": 2,
            "linecolor": "white",
            "showbackground": true,
            "ticks": "",
            "zerolinecolor": "white"
           },
           "zaxis": {
            "backgroundcolor": "#E5ECF6",
            "gridcolor": "white",
            "gridwidth": 2,
            "linecolor": "white",
            "showbackground": true,
            "ticks": "",
            "zerolinecolor": "white"
           }
          },
          "shapedefaults": {
           "line": {
            "color": "#2a3f5f"
           }
          },
          "ternary": {
           "aaxis": {
            "gridcolor": "white",
            "linecolor": "white",
            "ticks": ""
           },
           "baxis": {
            "gridcolor": "white",
            "linecolor": "white",
            "ticks": ""
           },
           "bgcolor": "#E5ECF6",
           "caxis": {
            "gridcolor": "white",
            "linecolor": "white",
            "ticks": ""
           }
          },
          "title": {
           "x": 0.05
          },
          "xaxis": {
           "automargin": true,
           "gridcolor": "white",
           "linecolor": "white",
           "ticks": "",
           "title": {
            "standoff": 15
           },
           "zerolinecolor": "white",
           "zerolinewidth": 2
          },
          "yaxis": {
           "automargin": true,
           "gridcolor": "white",
           "linecolor": "white",
           "ticks": "",
           "title": {
            "standoff": 15
           },
           "zerolinecolor": "white",
           "zerolinewidth": 2
          }
         }
        },
        "title": {
         "text": "Genetic algorithm results"
        },
        "xaxis": {
         "anchor": "y",
         "domain": [
          0,
          1
         ],
         "title": {
          "text": "x"
         }
        },
        "yaxis": {
         "anchor": "x",
         "domain": [
          0,
          1
         ],
         "title": {
          "text": "y"
         }
        }
       }
      }
     },
     "metadata": {},
     "output_type": "display_data"
    }
   ],
   "source": [
    "import plotly.express as px\n",
    "figure = px.line(x = range(0,101), y = info.select('max'), title = 'Genetic algorithm results')\n",
    "figure.show()"
   ]
  }
 ],
 "metadata": {
  "kernelspec": {
   "display_name": "Python 3",
   "language": "python",
   "name": "python3"
  },
  "language_info": {
   "codemirror_mode": {
    "name": "ipython",
    "version": 3
   },
   "file_extension": ".py",
   "mimetype": "text/x-python",
   "name": "python",
   "nbconvert_exporter": "python",
   "pygments_lexer": "ipython3",
   "version": "3.12.4"
  }
 },
 "nbformat": 4,
 "nbformat_minor": 2
}
