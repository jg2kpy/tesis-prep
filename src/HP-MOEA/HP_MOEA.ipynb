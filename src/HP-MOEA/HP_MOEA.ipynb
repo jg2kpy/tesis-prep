{
 "cells": [
  {
   "cell_type": "markdown",
   "metadata": {},
   "source": [
    "# A Hybrid Probabilistic Multiobjective Evolutionary Algorithm for Commercial Recommendation Systems\n",
    "\n",
    "Este archivo contiene una implementación del algoritmo HP-MOEA (Hybrid Probabilistic Multiobjective Evolutionary Algorithm), el cual integra técnicas de sistemas de recomendación con algoritmos evolutivos de optimización multiobjetivo. La descripción detallada del enfoque original se encuentra en el [paper](https://ieeexplore.ieee.org/abstract/document/9363322).\n"
   ]
  },
  {
   "cell_type": "markdown",
   "metadata": {},
   "source": [
    "## Requerimientos\n",
    "\n",
    "Para este proyecto se utilizan las siguientes bibliotecas: NumPy, Pandas, Scikit-learn y Pymoo.\n",
    "\n",
    "Asegúrese de instalar las dependencias ejecutando el siguiente comando:"
   ]
  },
  {
   "cell_type": "code",
   "execution_count": 1,
   "metadata": {},
   "outputs": [
    {
     "name": "stdout",
     "output_type": "stream",
     "text": [
      "Requirement already satisfied: numpy in c:\\users\\jlgut\\appdata\\local\\programs\\python\\python312\\lib\\site-packages (1.26.4)\n",
      "Requirement already satisfied: pandas in c:\\users\\jlgut\\appdata\\local\\programs\\python\\python312\\lib\\site-packages (2.2.3)\n",
      "Requirement already satisfied: scikit-learn in c:\\users\\jlgut\\appdata\\local\\programs\\python\\python312\\lib\\site-packages (1.5.1)\n",
      "Requirement already satisfied: pymoo in c:\\users\\jlgut\\appdata\\local\\programs\\python\\python312\\lib\\site-packages (0.6.1.3)\n",
      "Requirement already satisfied: python-dateutil>=2.8.2 in c:\\users\\jlgut\\appdata\\local\\programs\\python\\python312\\lib\\site-packages (from pandas) (2.9.0.post0)\n",
      "Requirement already satisfied: pytz>=2020.1 in c:\\users\\jlgut\\appdata\\local\\programs\\python\\python312\\lib\\site-packages (from pandas) (2024.1)\n",
      "Requirement already satisfied: tzdata>=2022.7 in c:\\users\\jlgut\\appdata\\local\\programs\\python\\python312\\lib\\site-packages (from pandas) (2024.1)\n",
      "Requirement already satisfied: scipy>=1.6.0 in c:\\users\\jlgut\\appdata\\local\\programs\\python\\python312\\lib\\site-packages (from scikit-learn) (1.14.1)\n",
      "Requirement already satisfied: joblib>=1.2.0 in c:\\users\\jlgut\\appdata\\local\\programs\\python\\python312\\lib\\site-packages (from scikit-learn) (1.4.2)\n",
      "Requirement already satisfied: threadpoolctl>=3.1.0 in c:\\users\\jlgut\\appdata\\local\\programs\\python\\python312\\lib\\site-packages (from scikit-learn) (3.5.0)\n",
      "Requirement already satisfied: matplotlib>=3 in c:\\users\\jlgut\\appdata\\local\\programs\\python\\python312\\lib\\site-packages (from pymoo) (3.9.0)\n",
      "Requirement already satisfied: autograd>=1.4 in c:\\users\\jlgut\\appdata\\local\\programs\\python\\python312\\lib\\site-packages (from pymoo) (1.7.0)\n",
      "Requirement already satisfied: cma==3.2.2 in c:\\users\\jlgut\\appdata\\local\\programs\\python\\python312\\lib\\site-packages (from pymoo) (3.2.2)\n",
      "Requirement already satisfied: alive-progress in c:\\users\\jlgut\\appdata\\local\\programs\\python\\python312\\lib\\site-packages (from pymoo) (3.2.0)\n",
      "Requirement already satisfied: dill in c:\\users\\jlgut\\appdata\\local\\programs\\python\\python312\\lib\\site-packages (from pymoo) (0.3.8)\n",
      "Requirement already satisfied: Deprecated in c:\\users\\jlgut\\appdata\\local\\programs\\python\\python312\\lib\\site-packages (from pymoo) (1.2.18)\n",
      "Requirement already satisfied: contourpy>=1.0.1 in c:\\users\\jlgut\\appdata\\local\\programs\\python\\python312\\lib\\site-packages (from matplotlib>=3->pymoo) (1.2.1)\n",
      "Requirement already satisfied: cycler>=0.10 in c:\\users\\jlgut\\appdata\\local\\programs\\python\\python312\\lib\\site-packages (from matplotlib>=3->pymoo) (0.12.1)\n",
      "Requirement already satisfied: fonttools>=4.22.0 in c:\\users\\jlgut\\appdata\\local\\programs\\python\\python312\\lib\\site-packages (from matplotlib>=3->pymoo) (4.53.0)\n",
      "Requirement already satisfied: kiwisolver>=1.3.1 in c:\\users\\jlgut\\appdata\\local\\programs\\python\\python312\\lib\\site-packages (from matplotlib>=3->pymoo) (1.4.5)\n",
      "Requirement already satisfied: packaging>=20.0 in c:\\users\\jlgut\\appdata\\local\\programs\\python\\python312\\lib\\site-packages (from matplotlib>=3->pymoo) (23.2)\n",
      "Requirement already satisfied: pillow>=8 in c:\\users\\jlgut\\appdata\\local\\programs\\python\\python312\\lib\\site-packages (from matplotlib>=3->pymoo) (10.3.0)\n",
      "Requirement already satisfied: pyparsing>=2.3.1 in c:\\users\\jlgut\\appdata\\local\\programs\\python\\python312\\lib\\site-packages (from matplotlib>=3->pymoo) (3.1.2)\n",
      "Requirement already satisfied: six>=1.5 in c:\\users\\jlgut\\appdata\\local\\programs\\python\\python312\\lib\\site-packages (from python-dateutil>=2.8.2->pandas) (1.16.0)\n",
      "Requirement already satisfied: about-time==4.2.1 in c:\\users\\jlgut\\appdata\\local\\programs\\python\\python312\\lib\\site-packages (from alive-progress->pymoo) (4.2.1)\n",
      "Requirement already satisfied: grapheme==0.6.0 in c:\\users\\jlgut\\appdata\\local\\programs\\python\\python312\\lib\\site-packages (from alive-progress->pymoo) (0.6.0)\n",
      "Requirement already satisfied: wrapt<2,>=1.10 in c:\\users\\jlgut\\appdata\\local\\programs\\python\\python312\\lib\\site-packages (from Deprecated->pymoo) (1.17.2)\n",
      "Note: you may need to restart the kernel to use updated packages.\n"
     ]
    }
   ],
   "source": [
    "%pip install numpy pandas scikit-learn pymoo"
   ]
  },
  {
   "cell_type": "markdown",
   "metadata": {},
   "source": [
    "## Preprocesamiento de datos\n",
    "\n",
    "Iniciaremos con el preprocesamiento de los datos utilizando el dataset MovieLens, desarrollado por la Universidad de Minnesota, el cual está disponible para uso libre con fines de investigación. Este dataset contiene calificaciones asignadas por usuarios a diversas películas. En esta implementación se utilizará la versión de 100,000 calificaciones, que abarca el período comprendido entre 1996 y 2018.\n",
    "\n",
    "Para más información sobre el dataset, puede consultarse el siguiente [enlace oficial](https://grouplens.org/datasets/movielens/)\n",
    "\n",
    "Para ver detalles de la implemetación del preprocesamiento, vea el archivo preprocess.py"
   ]
  },
  {
   "cell_type": "code",
   "execution_count": 2,
   "metadata": {},
   "outputs": [
    {
     "name": "stdout",
     "output_type": "stream",
     "text": [
      "Leyendo el dataset desde: ../../datasets/ml-latest-small/ratings.csv\n",
      "Ajustando los IDs de usuario para que comiencen desde 0\n",
      "Creando un mapeo para los IDs de películas\n",
      "Eliminando la columna 'timestamp'\n",
      "Tamaño del dataframe original: 100836\n",
      "Contando la cantidad de ratings por usuario y por película\n",
      "Seleccionando los 10000 usuarios y 2000 películas más comunes\n",
      "Filtrando el dataframe para que solo contenga los usuarios y películas seleccionados\n",
      "Creando nuevos mapeos para los IDs de usuario y película\n",
      "ID máximo de usuario: 609\n",
      "ID máximo de película: 1999\n",
      "Tamaño del dataframe reducido: 78305\n",
      "Barajando el dataframe\n",
      "Llamando a: update_user2movie_and_movie2user\n",
      "Llamando a: update_usermovie2rating_test\n",
      "Guardando los diccionarios en archivos\n",
      "user2movie guardado en ./data/user2movie.json\n",
      "movie2user guardado en ./data/movie2user.json\n",
      "usermovie2rating guardado en ./data/usermovie2rating.json\n",
      "usermovie2rating_test guardado en ./data/usermovie2rating_test.json\n"
     ]
    }
   ],
   "source": [
    "import preprocess\n",
    "\n",
    "dataset_100k_path = '../../datasets/ml-latest-small/ratings.csv'\n",
    "dataset_20m_path = '../../datasets/movielens-20m-dataset/rating.csv'\n",
    "top_usuarios = 10000\n",
    "top_peliculas = 2000\n",
    "\n",
    "preprocess.main(dataset_100k_path, top_usuarios, top_peliculas)"
   ]
  }
 ],
 "metadata": {
  "kernelspec": {
   "display_name": "Python 3",
   "language": "python",
   "name": "python3"
  },
  "language_info": {
   "codemirror_mode": {
    "name": "ipython",
    "version": 3
   },
   "file_extension": ".py",
   "mimetype": "text/x-python",
   "name": "python",
   "nbconvert_exporter": "python",
   "pygments_lexer": "ipython3",
   "version": "3.12.4"
  }
 },
 "nbformat": 4,
 "nbformat_minor": 2
}
