{
 "cells": [
  {
   "cell_type": "markdown",
   "metadata": {},
   "source": [
    "# A Hybrid Probabilistic Multiobjective Evolutionary Algorithm for Commercial Recommendation Systems\n",
    "\n",
    "Este archivo contiene una implementación del algoritmo HP-MOEA (Hybrid Probabilistic Multiobjective Evolutionary Algorithm), el cual integra técnicas de sistemas de recomendación con algoritmos evolutivos de optimización multiobjetivo. La descripción detallada del enfoque original se encuentra en este [paper](https://ieeexplore.ieee.org/abstract/document/9363322).\n"
   ]
  },
  {
   "cell_type": "markdown",
   "metadata": {},
   "source": [
    "## Requerimientos\n",
    "\n",
    "Para este proyecto se utilizan las siguientes bibliotecas: NumPy, Pandas, Scikit-learn y Pymoo.\n",
    "\n",
    "Asegúrese de instalar las dependencias ejecutando el siguiente comando:"
   ]
  },
  {
   "cell_type": "code",
   "execution_count": 10,
   "metadata": {},
   "outputs": [
    {
     "name": "stdout",
     "output_type": "stream",
     "text": [
      "Requirement already satisfied: numpy in c:\\users\\jlgut\\appdata\\local\\programs\\python\\python312\\lib\\site-packages (1.26.4)\n",
      "Requirement already satisfied: pandas in c:\\users\\jlgut\\appdata\\local\\programs\\python\\python312\\lib\\site-packages (2.2.3)\n",
      "Requirement already satisfied: scikit-learn in c:\\users\\jlgut\\appdata\\local\\programs\\python\\python312\\lib\\site-packages (1.5.1)\n",
      "Requirement already satisfied: pymoo in c:\\users\\jlgut\\appdata\\local\\programs\\python\\python312\\lib\\site-packages (0.6.1.3)\n",
      "Requirement already satisfied: python-dateutil>=2.8.2 in c:\\users\\jlgut\\appdata\\local\\programs\\python\\python312\\lib\\site-packages (from pandas) (2.9.0.post0)\n",
      "Requirement already satisfied: pytz>=2020.1 in c:\\users\\jlgut\\appdata\\local\\programs\\python\\python312\\lib\\site-packages (from pandas) (2024.1)\n",
      "Requirement already satisfied: tzdata>=2022.7 in c:\\users\\jlgut\\appdata\\local\\programs\\python\\python312\\lib\\site-packages (from pandas) (2024.1)\n",
      "Requirement already satisfied: scipy>=1.6.0 in c:\\users\\jlgut\\appdata\\local\\programs\\python\\python312\\lib\\site-packages (from scikit-learn) (1.14.1)\n",
      "Requirement already satisfied: joblib>=1.2.0 in c:\\users\\jlgut\\appdata\\local\\programs\\python\\python312\\lib\\site-packages (from scikit-learn) (1.4.2)\n",
      "Requirement already satisfied: threadpoolctl>=3.1.0 in c:\\users\\jlgut\\appdata\\local\\programs\\python\\python312\\lib\\site-packages (from scikit-learn) (3.5.0)\n",
      "Requirement already satisfied: matplotlib>=3 in c:\\users\\jlgut\\appdata\\local\\programs\\python\\python312\\lib\\site-packages (from pymoo) (3.9.0)\n",
      "Requirement already satisfied: autograd>=1.4 in c:\\users\\jlgut\\appdata\\local\\programs\\python\\python312\\lib\\site-packages (from pymoo) (1.7.0)\n",
      "Requirement already satisfied: cma==3.2.2 in c:\\users\\jlgut\\appdata\\local\\programs\\python\\python312\\lib\\site-packages (from pymoo) (3.2.2)\n",
      "Requirement already satisfied: alive-progress in c:\\users\\jlgut\\appdata\\local\\programs\\python\\python312\\lib\\site-packages (from pymoo) (3.2.0)\n",
      "Requirement already satisfied: dill in c:\\users\\jlgut\\appdata\\local\\programs\\python\\python312\\lib\\site-packages (from pymoo) (0.3.8)\n",
      "Requirement already satisfied: Deprecated in c:\\users\\jlgut\\appdata\\local\\programs\\python\\python312\\lib\\site-packages (from pymoo) (1.2.18)\n",
      "Requirement already satisfied: contourpy>=1.0.1 in c:\\users\\jlgut\\appdata\\local\\programs\\python\\python312\\lib\\site-packages (from matplotlib>=3->pymoo) (1.2.1)\n",
      "Requirement already satisfied: cycler>=0.10 in c:\\users\\jlgut\\appdata\\local\\programs\\python\\python312\\lib\\site-packages (from matplotlib>=3->pymoo) (0.12.1)\n",
      "Requirement already satisfied: fonttools>=4.22.0 in c:\\users\\jlgut\\appdata\\local\\programs\\python\\python312\\lib\\site-packages (from matplotlib>=3->pymoo) (4.53.0)\n",
      "Requirement already satisfied: kiwisolver>=1.3.1 in c:\\users\\jlgut\\appdata\\local\\programs\\python\\python312\\lib\\site-packages (from matplotlib>=3->pymoo) (1.4.5)\n",
      "Requirement already satisfied: packaging>=20.0 in c:\\users\\jlgut\\appdata\\local\\programs\\python\\python312\\lib\\site-packages (from matplotlib>=3->pymoo) (23.2)\n",
      "Requirement already satisfied: pillow>=8 in c:\\users\\jlgut\\appdata\\local\\programs\\python\\python312\\lib\\site-packages (from matplotlib>=3->pymoo) (10.3.0)\n",
      "Requirement already satisfied: pyparsing>=2.3.1 in c:\\users\\jlgut\\appdata\\local\\programs\\python\\python312\\lib\\site-packages (from matplotlib>=3->pymoo) (3.1.2)\n",
      "Requirement already satisfied: six>=1.5 in c:\\users\\jlgut\\appdata\\local\\programs\\python\\python312\\lib\\site-packages (from python-dateutil>=2.8.2->pandas) (1.16.0)\n",
      "Requirement already satisfied: about-time==4.2.1 in c:\\users\\jlgut\\appdata\\local\\programs\\python\\python312\\lib\\site-packages (from alive-progress->pymoo) (4.2.1)\n",
      "Requirement already satisfied: grapheme==0.6.0 in c:\\users\\jlgut\\appdata\\local\\programs\\python\\python312\\lib\\site-packages (from alive-progress->pymoo) (0.6.0)\n",
      "Requirement already satisfied: wrapt<2,>=1.10 in c:\\users\\jlgut\\appdata\\local\\programs\\python\\python312\\lib\\site-packages (from Deprecated->pymoo) (1.17.2)\n",
      "Note: you may need to restart the kernel to use updated packages.\n"
     ]
    }
   ],
   "source": [
    "%pip install numpy pandas scikit-learn pymoo"
   ]
  },
  {
   "cell_type": "markdown",
   "metadata": {},
   "source": [
    "## Preprocesamiento de datos\n",
    "\n",
    "Iniciaremos con el preprocesamiento de los datos utilizando el dataset MovieLens, desarrollado por la Universidad de Minnesota, el cual está disponible para uso libre con fines de investigación. Este dataset contiene calificaciones asignadas por usuarios a diversas películas. En esta implementación se utilizará la versión de 100,000 calificaciones, que abarca el período comprendido entre 1996 y 2018.\n",
    "\n",
    "Para más información sobre el dataset, puede consultarse el siguiente [enlace oficial](https://grouplens.org/datasets/movielens/)\n",
    "\n",
    "Para ver detalles de la implemetación del preprocesamiento, vea el archivo preprocess.py"
   ]
  },
  {
   "cell_type": "code",
   "execution_count": 11,
   "metadata": {},
   "outputs": [],
   "source": [
    "dataset_100k_path = '../../datasets/ml-latest-small/ratings.csv'\n",
    "dataset_20m_path = '../../datasets/movielens-20m-dataset/rating.csv'\n",
    "output_path = './data'\n",
    "top_usuarios = 10000\n",
    "top_peliculas = 2000"
   ]
  },
  {
   "cell_type": "code",
   "execution_count": 12,
   "metadata": {},
   "outputs": [
    {
     "name": "stdout",
     "output_type": "stream",
     "text": [
      "\n",
      "Leyendo el dataset desde: ../../datasets/ml-latest-small/ratings.csv\n",
      "Ajustando los IDs de usuario para que comiencen desde 0\n",
      "Creando un mapeo para los IDs de películas\n",
      "Eliminando la columna 'timestamp'\n",
      "\n",
      "Tamaño del dataframe original: 100836\n",
      "Contando la cantidad de ratings por usuario y por película\n",
      "Seleccionando los 10000 usuarios y 2000 películas más comunes\n",
      "Filtrando el dataframe para que solo contenga los usuarios y películas seleccionados\n",
      "Creando nuevos mapeos para los IDs de usuario y película\n",
      "ID máximo de usuario: 609\n",
      "ID máximo de película: 1999\n",
      "Tamaño del dataframe reducido: 78305\n",
      "\n",
      "Barajando el dataframe\n",
      "Llamando a: update_user2movie_and_movie2user\n",
      "Llamando a: update_usermovie2rating_test\n",
      "Guardando los diccionarios en archivos\n",
      "user2movie guardado en ./data/user2movie.json\n",
      "movie2user guardado en ./data/movie2user.json\n",
      "usermovie2rating guardado en ./data/usermovie2rating.json\n",
      "usermovie2rating_test guardado en ./data/usermovie2rating_test.json\n"
     ]
    }
   ],
   "source": [
    "import preprocess\n",
    "\n",
    "preprocess.main(dataset_100k_path, output_path, top_usuarios, top_peliculas)"
   ]
  },
  {
   "cell_type": "markdown",
   "metadata": {},
   "source": [
    "## Filtrado colaborativo basado en usuarios\n",
    "\n",
    "El siguente paso luego del preprocesamiento de los datos para HP-MOEA, es calcular la puntuación esperada de los ítems que los usuarios aun no han calificado, para ello se emplea el filtrado colaborativo basado en usuarios, la cual es la tecnica mas sencilla de los S.R\n",
    "\n",
    "Para ver mas detalles de como se implemento el filtrado colaborativo basado en usuarios, ver el archivo User_based_CF.py\n"
   ]
  },
  {
   "cell_type": "code",
   "execution_count": 13,
   "metadata": {},
   "outputs": [
    {
     "name": "stdout",
     "output_type": "stream",
     "text": [
      "Cargamos los datos preprocesados...\n",
      "\n",
      "Longitud de los datos preprocesados:\n",
      "user2movie:  610\n",
      "movie2user:  8969\n",
      "usermovie2rating:  80668\n",
      "usermovie2rating_test:  20168\n",
      "\n",
      "Numero total de usuarios:  610\n",
      "Numero total de ítems (peliculas):  9724\n",
      "\n",
      "Iniciamos las predicciones con User Based Collaborative Filtering...\n",
      "[2025-03-09 19:26:52] Prediccion: 0.0%, Transcurrido: 0.06 segundos\n",
      "[2025-03-09 19:26:54] Prediccion: 4.92%, Transcurrido: 1.85 segundos\n",
      "[2025-03-09 19:26:55] Prediccion: 9.84%, Transcurrido: 3.57 segundos\n",
      "[2025-03-09 19:26:57] Prediccion: 14.75%, Transcurrido: 5.31 segundos\n",
      "[2025-03-09 19:26:59] Prediccion: 19.67%, Transcurrido: 7.09 segundos\n",
      "[2025-03-09 19:27:01] Prediccion: 24.59%, Transcurrido: 8.86 segundos\n",
      "[2025-03-09 19:27:02] Prediccion: 29.51%, Transcurrido: 10.61 segundos\n",
      "[2025-03-09 19:27:04] Prediccion: 34.43%, Transcurrido: 12.40 segundos\n",
      "[2025-03-09 19:27:06] Prediccion: 39.34%, Transcurrido: 14.21 segundos\n",
      "[2025-03-09 19:27:08] Prediccion: 44.26%, Transcurrido: 15.99 segundos\n",
      "[2025-03-09 19:27:10] Prediccion: 49.18%, Transcurrido: 17.84 segundos\n",
      "[2025-03-09 19:27:11] Prediccion: 54.1%, Transcurrido: 19.60 segundos\n",
      "[2025-03-09 19:27:13] Prediccion: 59.02%, Transcurrido: 21.39 segundos\n",
      "[2025-03-09 19:27:15] Prediccion: 63.93%, Transcurrido: 23.19 segundos\n",
      "[2025-03-09 19:27:17] Prediccion: 68.85%, Transcurrido: 24.90 segundos\n",
      "[2025-03-09 19:27:18] Prediccion: 73.77%, Transcurrido: 26.68 segundos\n",
      "[2025-03-09 19:27:20] Prediccion: 78.69%, Transcurrido: 28.44 segundos\n",
      "[2025-03-09 19:27:22] Prediccion: 83.61%, Transcurrido: 30.16 segundos\n",
      "[2025-03-09 19:27:24] Prediccion: 88.52%, Transcurrido: 31.97 segundos\n",
      "[2025-03-09 19:27:25] Prediccion: 93.44%, Transcurrido: 33.73 segundos\n",
      "[2025-03-09 19:27:27] Prediccion: 98.36%, Transcurrido: 35.57 segundos\n",
      "Termino la predicción\n",
      "\n",
      "Termino la ejecución del filtrado colaborativo basado en usuarios, los datos se guardaron en ./data/usermovie2predict_rating.json\n"
     ]
    }
   ],
   "source": [
    "import User_based_CF\n",
    "\n",
    "K = 25\n",
    "limit = 5\n",
    "calcular_pesos = False\n",
    "hacer_test = False\n",
    "\n",
    "User_based_CF.main(output_path, K, limit, calcular_pesos, hacer_test)"
   ]
  }
 ],
 "metadata": {
  "kernelspec": {
   "display_name": "Python 3",
   "language": "python",
   "name": "python3"
  },
  "language_info": {
   "codemirror_mode": {
    "name": "ipython",
    "version": 3
   },
   "file_extension": ".py",
   "mimetype": "text/x-python",
   "name": "python",
   "nbconvert_exporter": "python",
   "pygments_lexer": "ipython3",
   "version": "3.12.4"
  }
 },
 "nbformat": 4,
 "nbformat_minor": 2
}
