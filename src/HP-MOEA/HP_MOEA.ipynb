{
 "cells": [
  {
   "cell_type": "markdown",
   "metadata": {},
   "source": [
    "# A Hybrid Probabilistic Multiobjective Evolutionary Algorithm for Commercial Recommendation Systems"
   ]
  },
  {
   "cell_type": "markdown",
   "metadata": {},
   "source": [
    "Este archivo contiene una implementación del algoritmo HP-MOEA (Hybrid Probabilistic Multiobjective Evolutionary Algorithm), el cual integra técnicas de sistemas de recomendación con algoritmos evolutivos de optimización multiobjetivo. La descripción detallada del enfoque original se encuentra en el [paper](https://ieeexplore.ieee.org/abstract/document/9363322)."
   ]
  },
  {
   "cell_type": "markdown",
   "metadata": {},
   "source": [
    "## Preprocesamiento de datos"
   ]
  },
  {
   "cell_type": "markdown",
   "metadata": {},
   "source": [
    "Iniciaremos con el preprocesamiento de los datos utilizando el dataset MovieLens, desarrollado por la Universidad de Minnesota, el cual está disponible para uso libre con fines de investigación. Este dataset contiene calificaciones asignadas por usuarios a diversas películas. En esta implementación se utilizará la versión de 100,000 calificaciones, que abarca el período comprendido entre 1996 y 2018.\n",
    "\n",
    "Para más información sobre el dataset, puede consultarse el siguiente [enlace oficial](https://grouplens.org/datasets/movielens/)\n",
    "\n",
    "Para ver detalles de la implemetación del preprocesamiento, vea el archivo preprocess.py"
   ]
  },
  {
   "cell_type": "markdown",
   "metadata": {},
   "source": [
    "TO DO: listar librerias utilizadas e instalar por pip"
   ]
  },
  {
   "cell_type": "code",
   "execution_count": 1,
   "metadata": {},
   "outputs": [
    {
     "name": "stdout",
     "output_type": "stream",
     "text": [
      "Leyendo el dataset desde: ../../datasets/ml-latest-small/ratings.csv\n",
      "Ajustando los IDs de usuario para que comiencen desde 0\n",
      "Creando un mapeo para los IDs de películas\n",
      "Eliminando la columna 'timestamp'\n",
      "Tamaño del dataframe original: 100836\n",
      "Contando la cantidad de ratings por usuario y por película\n",
      "Seleccionando los 10000 usuarios y 2000 películas más comunes\n",
      "Filtrando el dataframe para que solo contenga los usuarios y películas seleccionados\n",
      "Creando nuevos mapeos para los IDs de usuario y película\n",
      "ID máximo de usuario: 609\n",
      "ID máximo de película: 1999\n",
      "Tamaño del dataframe reducido: 78305\n",
      "Barajando el dataframe\n",
      "Llamando a: update_user2movie_and_movie2user\n",
      "Llamando a: update_usermovie2rating_test\n",
      "Guardando los diccionarios en archivos\n",
      "user2movie guardado en ./data/user2movie.json\n",
      "movie2user guardado en ./data/movie2user.json\n",
      "usermovie2rating guardado en ./data/usermovie2rating.json\n",
      "usermovie2rating_test guardado en ./data/usermovie2rating_test.json\n"
     ]
    }
   ],
   "source": [
    "import preprocess\n",
    "\n",
    "dataset_100k_path = '../../datasets/ml-latest-small/ratings.csv'\n",
    "dataset_20m_path = '../../datasets/movielens-20m-dataset/rating.csv'\n",
    "top_usuarios = 10000\n",
    "top_peliculas = 2000\n",
    "\n",
    "preprocess.main(dataset_100k_path, top_usuarios, top_peliculas)"
   ]
  }
 ],
 "metadata": {
  "kernelspec": {
   "display_name": "Python 3",
   "language": "python",
   "name": "python3"
  },
  "language_info": {
   "codemirror_mode": {
    "name": "ipython",
    "version": 3
   },
   "file_extension": ".py",
   "mimetype": "text/x-python",
   "name": "python",
   "nbconvert_exporter": "python",
   "pygments_lexer": "ipython3",
   "version": "3.12.4"
  }
 },
 "nbformat": 4,
 "nbformat_minor": 2
}
