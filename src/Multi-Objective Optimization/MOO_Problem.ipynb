{
 "cells": [
  {
   "cell_type": "code",
   "execution_count": null,
   "metadata": {},
   "outputs": [],
   "source": [
    "%pip install pymoo"
   ]
  },
  {
   "cell_type": "markdown",
   "metadata": {},
   "source": [
    "__Class Development__"
   ]
  },
  {
   "cell_type": "code",
   "execution_count": 3,
   "metadata": {},
   "outputs": [],
   "source": [
    "import numpy as np\n",
    "from pymoo.core.problem import ElementwiseProblem"
   ]
  },
  {
   "cell_type": "code",
   "execution_count": 16,
   "metadata": {},
   "outputs": [],
   "source": [
    "class MyProblem(ElementwiseProblem):\n",
    "    def __init__(self):\n",
    "        super().__init__(n_var = 3,\n",
    "                         n_obj = 2,\n",
    "                         n_ieq_constr = 2,\n",
    "                         xl = np.array([-10, -10, -10]),\n",
    "                         xu = np.array([10, 10, 10]))\n",
    "\n",
    "    def _evaluate(self, x, out, *args, **kargs):\n",
    "        f1 = ((x[0]**2) + (x[1]**2) + (x[2]**2))\n",
    "        f2 = (x[0] - 1)**2 + (x[1] - 1)**2 + (x[2] - 1)**2\n",
    "\n",
    "        g1 = x[0] + x[1] + x[2] - 1\n",
    "        g2 = (-3 * x[0]) + x[1] + x[2] - 4\n",
    "\n",
    "        out[\"F\"] = [f1, f2]\n",
    "        out[\"G\"] = [g1, g2]\n",
    "\n",
    "        return super()._evaluate(self, x, out, *args, **kargs)\n",
    "\n",
    "problem = MyProblem()\n",
    "\n"
   ]
  },
  {
   "cell_type": "markdown",
   "metadata": {},
   "source": [
    "__Initializing the Algorithm__"
   ]
  },
  {
   "cell_type": "code",
   "execution_count": 17,
   "metadata": {},
   "outputs": [],
   "source": [
    "from pymoo.algorithms.moo.nsga2 import NSGA2\n",
    "from pymoo.operators.sampling.rnd import FloatRandomSampling\n",
    "from pymoo.operators.crossover.sbx import SBX\n",
    "from pymoo.operators.mutation.pm import PM"
   ]
  },
  {
   "cell_type": "code",
   "execution_count": 18,
   "metadata": {},
   "outputs": [],
   "source": [
    "algorithm = NSGA2(\n",
    "    pop_size = 50,\n",
    "    n_offsprings = 10,\n",
    "    sampling = FloatRandomSampling(),\n",
    "    crossover = SBX(prob_var = 0.9, eta = 20),\n",
    "    mutation = PM(eta = 25),\n",
    "    eliminate_duplicate = True\n",
    ")"
   ]
  },
  {
   "cell_type": "code",
   "execution_count": 19,
   "metadata": {},
   "outputs": [],
   "source": [
    "from pymoo.termination import get_termination\n",
    "termination = get_termination(\"n_gen\", 100)"
   ]
  },
  {
   "cell_type": "markdown",
   "metadata": {},
   "source": [
    "__Optimization Process__"
   ]
  },
  {
   "cell_type": "code",
   "execution_count": 20,
   "metadata": {},
   "outputs": [
    {
     "name": "stdout",
     "output_type": "stream",
     "text": [
      "==========================================================================================\n",
      "n_gen  |  n_eval  | n_nds  |     cv_min    |     cv_avg    |      eps      |   indicator  \n",
      "==========================================================================================\n",
      "     1 |       50 |      1 |  0.000000E+00 |  7.0400185790 |             - |             -\n",
      "     2 |       60 |      1 |  0.000000E+00 |  3.6065063788 |  0.000000E+00 |             f\n",
      "     3 |       70 |      1 |  0.000000E+00 |  2.0100091797 |  0.000000E+00 |             f\n",
      "     4 |       80 |      1 |  0.000000E+00 |  1.1042622269 |  0.000000E+00 |             f\n",
      "     5 |       90 |      1 |  0.000000E+00 |  0.4621926217 |  4.4094253350 |         ideal\n",
      "     6 |      100 |      1 |  0.000000E+00 |  0.0353665820 |  0.000000E+00 |             f\n",
      "     7 |      110 |      1 |  0.000000E+00 |  0.000000E+00 |  0.000000E+00 |             f\n",
      "     8 |      120 |      1 |  0.000000E+00 |  0.000000E+00 |  0.000000E+00 |             f\n",
      "     9 |      130 |      1 |  0.000000E+00 |  0.000000E+00 |  4.8745946330 |         ideal\n",
      "    10 |      140 |      2 |  0.000000E+00 |  0.000000E+00 |  1.0000000000 |         ideal\n",
      "    11 |      150 |      2 |  0.000000E+00 |  0.000000E+00 |  0.000000E+00 |             f\n",
      "    12 |      160 |      2 |  0.000000E+00 |  0.000000E+00 |  0.000000E+00 |             f\n",
      "    13 |      170 |      2 |  0.000000E+00 |  0.000000E+00 |  0.000000E+00 |             f\n",
      "    14 |      180 |      2 |  0.000000E+00 |  0.000000E+00 |  0.000000E+00 |             f\n",
      "    15 |      190 |      2 |  0.000000E+00 |  0.000000E+00 |  0.000000E+00 |             f\n",
      "    16 |      200 |      2 |  0.000000E+00 |  0.000000E+00 |  0.000000E+00 |             f\n",
      "    17 |      210 |      1 |  0.000000E+00 |  0.000000E+00 |  0.4446712784 |         ideal\n",
      "    18 |      220 |      2 |  0.000000E+00 |  0.000000E+00 |  1.0000000000 |         ideal\n",
      "    19 |      230 |      4 |  0.000000E+00 |  0.000000E+00 |  0.8000412310 |         ideal\n",
      "    20 |      240 |      1 |  0.000000E+00 |  0.000000E+00 |  2.1499681602 |         ideal\n",
      "    21 |      250 |      1 |  0.000000E+00 |  0.000000E+00 |  2.5105809021 |         ideal\n",
      "    22 |      260 |      1 |  0.000000E+00 |  0.000000E+00 |  0.000000E+00 |             f\n",
      "    23 |      270 |      1 |  0.000000E+00 |  0.000000E+00 |  0.000000E+00 |             f\n",
      "    24 |      280 |      1 |  0.000000E+00 |  0.000000E+00 |  0.000000E+00 |             f\n",
      "    25 |      290 |      2 |  0.000000E+00 |  0.000000E+00 |  1.0000000000 |         ideal\n",
      "    26 |      300 |      2 |  0.000000E+00 |  0.000000E+00 |  0.000000E+00 |             f\n",
      "    27 |      310 |      2 |  0.000000E+00 |  0.000000E+00 |  0.2411595193 |         ideal\n",
      "    28 |      320 |      3 |  0.000000E+00 |  0.000000E+00 |  0.0228312923 |         ideal\n",
      "    29 |      330 |      4 |  0.000000E+00 |  0.000000E+00 |  0.0799352737 |             f\n",
      "    30 |      340 |      5 |  0.000000E+00 |  0.000000E+00 |  0.3927264575 |         ideal\n",
      "    31 |      350 |      5 |  0.000000E+00 |  0.000000E+00 |  0.0351810032 |             f\n",
      "    32 |      360 |      2 |  0.000000E+00 |  0.000000E+00 |  0.7179860832 |         ideal\n",
      "    33 |      370 |      2 |  0.000000E+00 |  0.000000E+00 |  0.000000E+00 |             f\n",
      "    34 |      380 |      3 |  0.000000E+00 |  0.000000E+00 |  0.0201777251 |         ideal\n",
      "    35 |      390 |      3 |  0.000000E+00 |  0.000000E+00 |  0.000000E+00 |             f\n",
      "    36 |      400 |      4 |  0.000000E+00 |  0.000000E+00 |  0.0271821247 |             f\n",
      "    37 |      410 |      4 |  0.000000E+00 |  0.000000E+00 |  0.0735433333 |         ideal\n",
      "    38 |      420 |      5 |  0.000000E+00 |  0.000000E+00 |  0.0294212885 |             f\n",
      "    39 |      430 |      6 |  0.000000E+00 |  0.000000E+00 |  0.1203443327 |         ideal\n",
      "    40 |      440 |      7 |  0.000000E+00 |  0.000000E+00 |  0.0611337919 |         ideal\n",
      "    41 |      450 |      8 |  0.000000E+00 |  0.000000E+00 |  0.0363942477 |             f\n",
      "    42 |      460 |      7 |  0.000000E+00 |  0.000000E+00 |  0.0919251777 |         ideal\n",
      "    43 |      470 |      2 |  0.000000E+00 |  0.000000E+00 |  9.2498461135 |         ideal\n",
      "    44 |      480 |      2 |  0.000000E+00 |  0.000000E+00 |  0.000000E+00 |             f\n",
      "    45 |      490 |      2 |  0.000000E+00 |  0.000000E+00 |  0.000000E+00 |             f\n",
      "    46 |      500 |      2 |  0.000000E+00 |  0.000000E+00 |  0.000000E+00 |             f\n",
      "    47 |      510 |      2 |  0.000000E+00 |  0.000000E+00 |  0.000000E+00 |             f\n",
      "    48 |      520 |      2 |  0.000000E+00 |  0.000000E+00 |  0.000000E+00 |             f\n",
      "    49 |      530 |      2 |  0.000000E+00 |  0.000000E+00 |  0.000000E+00 |             f\n",
      "    50 |      540 |      3 |  0.000000E+00 |  0.000000E+00 |  0.1754418285 |         ideal\n",
      "    51 |      550 |      4 |  0.000000E+00 |  0.000000E+00 |  0.0700515181 |         ideal\n",
      "    52 |      560 |      1 |  0.000000E+00 |  0.000000E+00 |  0.2637426643 |         ideal\n",
      "    53 |      570 |      1 |  0.000000E+00 |  0.000000E+00 |  0.000000E+00 |             f\n",
      "    54 |      580 |      3 |  0.000000E+00 |  0.000000E+00 |  0.6574248477 |         ideal\n",
      "    55 |      590 |      5 |  0.000000E+00 |  0.000000E+00 |  0.1969630412 |         ideal\n",
      "    56 |      600 |      6 |  0.000000E+00 |  0.000000E+00 |  0.0485647433 |         ideal\n",
      "    57 |      610 |      6 |  0.000000E+00 |  0.000000E+00 |  0.0273010529 |             f\n",
      "    58 |      620 |      6 |  0.000000E+00 |  0.000000E+00 |  0.0038837556 |         ideal\n",
      "    59 |      630 |      9 |  0.000000E+00 |  0.000000E+00 |  0.0079428955 |             f\n",
      "    60 |      640 |     10 |  0.000000E+00 |  0.000000E+00 |  0.0002833457 |             f\n",
      "    61 |      650 |     10 |  0.000000E+00 |  0.000000E+00 |  0.0002833457 |             f\n",
      "    62 |      660 |     10 |  0.000000E+00 |  0.000000E+00 |  0.0002833457 |             f\n",
      "    63 |      670 |     11 |  0.000000E+00 |  0.000000E+00 |  0.0131051434 |         ideal\n",
      "    64 |      680 |     11 |  0.000000E+00 |  0.000000E+00 |  0.0026294721 |         ideal\n",
      "    65 |      690 |     12 |  0.000000E+00 |  0.000000E+00 |  0.0413207759 |         ideal\n",
      "    66 |      700 |      9 |  0.000000E+00 |  0.000000E+00 |  0.0278605701 |         ideal\n",
      "    67 |      710 |     10 |  0.000000E+00 |  0.000000E+00 |  0.0199829657 |             f\n",
      "    68 |      720 |     11 |  0.000000E+00 |  0.000000E+00 |  0.0052914967 |         ideal\n",
      "    69 |      730 |     12 |  0.000000E+00 |  0.000000E+00 |  0.0069721126 |             f\n",
      "    70 |      740 |     15 |  0.000000E+00 |  0.000000E+00 |  0.0082160296 |             f\n",
      "    71 |      750 |     11 |  0.000000E+00 |  0.000000E+00 |  0.0100817419 |             f\n",
      "    72 |      760 |     10 |  0.000000E+00 |  0.000000E+00 |  0.0060925545 |         ideal\n",
      "    73 |      770 |     12 |  0.000000E+00 |  0.000000E+00 |  0.0126873211 |             f\n",
      "    74 |      780 |     12 |  0.000000E+00 |  0.000000E+00 |  0.0797870710 |         ideal\n",
      "    75 |      790 |     12 |  0.000000E+00 |  0.000000E+00 |  0.0041026610 |             f\n",
      "    76 |      800 |     12 |  0.000000E+00 |  0.000000E+00 |  0.0052877461 |             f\n",
      "    77 |      810 |     12 |  0.000000E+00 |  0.000000E+00 |  0.0119368536 |             f\n",
      "    78 |      820 |     13 |  0.000000E+00 |  0.000000E+00 |  0.0049841717 |             f\n",
      "    79 |      830 |     15 |  0.000000E+00 |  0.000000E+00 |  0.0072082532 |             f\n",
      "    80 |      840 |     17 |  0.000000E+00 |  0.000000E+00 |  0.0033732748 |             f\n",
      "    81 |      850 |     16 |  0.000000E+00 |  0.000000E+00 |  0.0066501060 |             f\n",
      "    82 |      860 |     18 |  0.000000E+00 |  0.000000E+00 |  0.0080653476 |             f\n",
      "    83 |      870 |     18 |  0.000000E+00 |  0.000000E+00 |  0.000000E+00 |             f\n",
      "    84 |      880 |     20 |  0.000000E+00 |  0.000000E+00 |  0.0036746442 |             f\n",
      "    85 |      890 |     20 |  0.000000E+00 |  0.000000E+00 |  0.000000E+00 |             f\n",
      "    86 |      900 |     20 |  0.000000E+00 |  0.000000E+00 |  0.0255145901 |         nadir\n",
      "    87 |      910 |     20 |  0.000000E+00 |  0.000000E+00 |  0.000000E+00 |             f\n",
      "    88 |      920 |     21 |  0.000000E+00 |  0.000000E+00 |  0.0241417921 |         nadir\n",
      "    89 |      930 |     23 |  0.000000E+00 |  0.000000E+00 |  0.0039215902 |             f\n",
      "    90 |      940 |     23 |  0.000000E+00 |  0.000000E+00 |  0.000000E+00 |             f\n",
      "    91 |      950 |     23 |  0.000000E+00 |  0.000000E+00 |  0.000000E+00 |             f\n",
      "    92 |      960 |     27 |  0.000000E+00 |  0.000000E+00 |  0.0036328813 |             f\n",
      "    93 |      970 |     29 |  0.000000E+00 |  0.000000E+00 |  0.0008660223 |             f\n",
      "    94 |      980 |     29 |  0.000000E+00 |  0.000000E+00 |  0.0015216047 |             f\n",
      "    95 |      990 |     30 |  0.000000E+00 |  0.000000E+00 |  0.0022876575 |             f\n",
      "    96 |     1000 |     32 |  0.000000E+00 |  0.000000E+00 |  0.0023832189 |             f\n",
      "    97 |     1010 |     33 |  0.000000E+00 |  0.000000E+00 |  0.0044246021 |             f\n",
      "    98 |     1020 |     35 |  0.000000E+00 |  0.000000E+00 |  0.0010047484 |             f\n",
      "    99 |     1030 |     35 |  0.000000E+00 |  0.000000E+00 |  0.0011898812 |             f\n",
      "   100 |     1040 |     34 |  0.000000E+00 |  0.000000E+00 |  0.0013205277 |             f\n"
     ]
    }
   ],
   "source": [
    "from pymoo.optimize import minimize\n",
    "\n",
    "res = minimize(problem,\n",
    "               algorithm,\n",
    "               termination,\n",
    "               seed = 7,\n",
    "               save_history = True,\n",
    "               verbose = True)"
   ]
  },
  {
   "cell_type": "markdown",
   "metadata": {},
   "source": [
    "__Results and Evaluation__"
   ]
  },
  {
   "cell_type": "code",
   "execution_count": 29,
   "metadata": {},
   "outputs": [],
   "source": [
    "X = res.X\n",
    "F = res.F"
   ]
  },
  {
   "cell_type": "code",
   "execution_count": 31,
   "metadata": {},
   "outputs": [
    {
     "data": {
      "text/plain": [
       "array([[ 0.26561851,  0.11418361,  0.47105552],\n",
       "       [ 0.2274479 ,  0.28200078,  0.1390336 ],\n",
       "       [ 0.21927383,  0.19736972,  0.51435007],\n",
       "       [ 0.21538611,  0.27986833,  0.21276813],\n",
       "       [ 0.2162478 ,  0.19736972,  0.21902803],\n",
       "       [ 0.21927383,  0.12577328,  0.14016249],\n",
       "       [ 0.22646463,  0.11613128,  0.09199965],\n",
       "       [ 0.21183336,  0.18270527,  0.21902803],\n",
       "       [ 0.22657241,  0.18495951,  0.20708662],\n",
       "       [ 0.06669277, -0.01760418,  0.09847732],\n",
       "       [ 0.05239198,  0.13407284,  0.12080505],\n",
       "       [-0.03621029,  0.00432204,  0.01962156],\n",
       "       [ 0.21864592,  0.1940875 ,  0.39325856],\n",
       "       [ 0.04620182,  0.17964912,  0.11775514],\n",
       "       [ 0.19307196,  0.1248971 ,  0.19780992],\n",
       "       [-0.03477646, -0.00704612,  0.01037424],\n",
       "       [ 0.15617747,  0.13407284,  0.12999964],\n",
       "       [ 0.04611606,  0.17595685,  0.11088019],\n",
       "       [ 0.05646417,  0.13400721,  0.12278885],\n",
       "       [ 0.15723988,  0.13407284,  0.11086904],\n",
       "       [ 0.21927383,  0.19581785,  0.21318421],\n",
       "       [ 0.22657241,  0.18495951,  0.14550834],\n",
       "       [ 0.04273327,  0.12696605,  0.12122108],\n",
       "       [ 0.22699916,  0.28463116,  0.13937136],\n",
       "       [ 0.06003787,  0.1133392 ,  0.00522364],\n",
       "       [ 0.15516473,  0.1150039 ,  0.11360471],\n",
       "       [ 0.21690177,  0.1271452 ,  0.1383325 ],\n",
       "       [ 0.21951288,  0.19173077,  0.49581571],\n",
       "       [ 0.19206635,  0.1247734 ,  0.14662175],\n",
       "       [ 0.23123851,  0.28885539,  0.13921776],\n",
       "       [ 0.04353356,  0.12619944,  0.12042394],\n",
       "       [ 0.22757802,  0.18508321,  0.15591677],\n",
       "       [ 0.26844953,  0.1216654 ,  0.47547267],\n",
       "       [ 0.01309262,  0.11626951,  0.01566585]])"
      ]
     },
     "execution_count": 31,
     "metadata": {},
     "output_type": "execute_result"
    }
   ],
   "source": [
    "X"
   ]
  },
  {
   "cell_type": "code",
   "execution_count": 32,
   "metadata": {},
   "outputs": [
    {
     "data": {
      "text/plain": [
       "array([[3.05484395e-01, 1.60376911e+00],\n",
       "       [1.50587326e-01, 1.85362278e+00],\n",
       "       [3.51591814e-01, 1.48960458e+00],\n",
       "       [1.69987733e-01, 1.75394260e+00],\n",
       "       [1.33691196e-01, 1.86840009e+00],\n",
       "       [8.35454541e-02, 2.11312625e+00],\n",
       "       [7.32366375e-02, 2.20404553e+00],\n",
       "       [1.26227866e-01, 1.89909455e+00],\n",
       "       [1.28429947e-01, 1.89119286e+00],\n",
       "       [1.44556153e-02, 2.71932381e+00],\n",
       "       [3.53143061e-02, 2.42077457e+00],\n",
       "       [1.71487038e-03, 3.02624826e+00],\n",
       "       [2.40128289e-01, 1.62814434e+00],\n",
       "       [4.82746876e-02, 2.36106253e+00],\n",
       "       [9.20048303e-02, 2.06044688e+00],\n",
       "       [1.36667464e-03, 3.06426335e+00],\n",
       "       [5.92668353e-02, 2.21876693e+00],\n",
       "       [4.53819184e-02, 2.37947573e+00],\n",
       "       [3.62232388e-02, 2.40970276e+00],\n",
       "       [5.49918490e-02, 2.25062834e+00],\n",
       "       [1.31873147e-01, 1.87532138e+00],\n",
       "       [1.06717755e-01, 1.99263723e+00],\n",
       "       [3.26410607e-02, 2.45080026e+00],\n",
       "       [1.51967890e-01, 1.84996454e+00],\n",
       "       [1.64776066e-02, 2.65927619e+00],\n",
       "       [5.02080224e-02, 2.28266133e+00],\n",
       "       [8.23481592e-02, 2.11758923e+00],\n",
       "       [3.30779802e-01, 1.51666111e+00],\n",
       "       [7.39558221e-02, 2.14703282e+00],\n",
       "       [1.56290268e-01, 1.83766695e+00],\n",
       "       [3.23233953e-02, 2.45200951e+00],\n",
       "       [1.10357590e-01, 1.97320158e+00],\n",
       "       [3.12941884e-01, 1.58176667e+00],\n",
       "       [1.39354336e-02, 2.72387948e+00]])"
      ]
     },
     "execution_count": 32,
     "metadata": {},
     "output_type": "execute_result"
    }
   ],
   "source": [
    "F"
   ]
  },
  {
   "cell_type": "code",
   "execution_count": 33,
   "metadata": {},
   "outputs": [
    {
     "data": {
      "text/plain": [
       "<pymoo.visualization.scatter.Scatter at 0x226443c6bd0>"
      ]
     },
     "execution_count": 33,
     "metadata": {},
     "output_type": "execute_result"
    },
    {
     "data": {
      "image/png": "[encoded data removed]",
      "text/plain": [
       "<Figure size 800x600 with 1 Axes>"
      ]
     },
     "metadata": {},
     "output_type": "display_data"
    }
   ],
   "source": [
    "from pymoo.visualization.scatter import Scatter\n",
    "\n",
    "plot = Scatter(title = \"Three Variables Solutions\")\n",
    "plot.add(F, color = \"green\")\n",
    "plot.show()"
   ]
  }
 ],
 "metadata": {
  "kernelspec": {
   "display_name": "Python 3",
   "language": "python",
   "name": "python3"
  },
  "language_info": {
   "codemirror_mode": {
    "name": "ipython",
    "version": 3
   },
   "file_extension": ".py",
   "mimetype": "text/x-python",
   "name": "python",
   "nbconvert_exporter": "python",
   "pygments_lexer": "ipython3",
   "version": "3.12.4"
  }
 },
 "nbformat": 4,
 "nbformat_minor": 2
}
